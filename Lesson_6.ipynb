{
  "nbformat": 4,
  "nbformat_minor": 0,
  "metadata": {
    "colab": {
      "name": "Lesson_6.ipynb",
      "provenance": [],
      "collapsed_sections": []
    },
    "kernelspec": {
      "display_name": "Python 3",
      "language": "python",
      "name": "python3"
    },
    "language_info": {
      "codemirror_mode": {
        "name": "ipython",
        "version": 3
      },
      "file_extension": ".py",
      "mimetype": "text/x-python",
      "name": "python",
      "nbconvert_exporter": "python",
      "pygments_lexer": "ipython3",
      "version": "3.8.5"
    }
  },
  "cells": [
    {
      "cell_type": "markdown",
      "metadata": {
        "id": "zz7SDkPIkVlM"
      },
      "source": [
        "# Урок 6"
      ]
    },
    {
      "cell_type": "markdown",
      "metadata": {
        "id": "p_3vqG5-kVlP"
      },
      "source": [
        "# Производная функции одной переменной. Часть 2"
      ]
    },
    {
      "cell_type": "markdown",
      "metadata": {
        "id": "Gcif6ZMAGD0H"
      },
      "source": [
        "В этой части методички мы продолжим изучать производные функций одного переменной."
      ]
    },
    {
      "cell_type": "markdown",
      "metadata": {
        "id": "wcN89NkYGD0I"
      },
      "source": [
        "### Производная от неявной функции"
      ]
    },
    {
      "cell_type": "markdown",
      "metadata": {
        "id": "om1rNxbJGD0I"
      },
      "source": [
        "Неявной функцией называется та, которая зависит от своего аргумента неявно $F(x, y(x))=0$. На __уроке 6__ мы в качестве примера представили уравнение прямой $y=kx+b$ в неявном виде $y-kx-b=0$. В этом случае возможен переход от одного способа задания функции к другому. Но бывают и таких функции, которые имеют только неявный вид, например:\n",
        "\n",
        "### $$F(x, y(x))=y\\sin x +x^2y^3-5x-10y+ \\cos y=0$$\n",
        "\n",
        "Искать производную не сложно, достаточно помнить, что $y$ зависит от $x$\n",
        "\n",
        "### $$(y\\sin x +x^2y^3-5x-10y+ \\cos y)'=0$$\n",
        "\n",
        "### $$y'\\sin x+ y\\cos x+ 2xy^3+3x^2y^2 \\cdot y'-5-10y'- \\sin y \\cdot y'=0$$\n",
        "\n",
        "Осталось выразить $y'$. Слева оставим всё, что с связанно с $y'$, остальное перенесем через знак равенства вправо.\n",
        "\n",
        "### $$y'(\\sin x+3x^2y^2-10- \\sin y)=-y\\cos x-2xy^3+5$$\n",
        "\n",
        "### $$y'= \\frac{-y\\cos x-2xy^3+5}{\\sin x+3x^2y^2-10- \\sin y}$$\n",
        "\n",
        "__Замечание: производная от неявной функции так же может быть неявной, т.е. зависит как от $x$, так и от $y$.__\n",
        "\n",
        "Есть и другой способ. Из последних действий видно, что слева у нас $y' \\cdot F'_{y}$. Справа вы перенесли $-F'_{х}$. __Индекс снизу означает, по какой переменой мы берем производную.__ Тогда получается:\n",
        "\n",
        "### $$y' \\cdot F'_{y}=-F'_{х}$$\n",
        "\n",
        "### $$y'=-\\frac {F'_{х}}{F'_{y}}$$\n",
        "\n",
        "\n",
        "\n",
        "Второй способ можно использовать для вычисления производной с помощью библиотеки __sympy__."
      ]
    },
    {
      "cell_type": "code",
      "metadata": {
        "id": "2WSo8GGTGD0J"
      },
      "source": [
        "from sympy import *\n",
        "init_printing()"
      ],
      "execution_count": null,
      "outputs": []
    },
    {
      "cell_type": "code",
      "metadata": {
        "id": "eRwZrTaoGD0J",
        "outputId": "052581b3-30da-448e-f23a-1397ef36e489"
      },
      "source": [
        "x,y=symbols('x y')\n",
        "f=y*sin(x)+x**2*y**3-5*x-10*y+cos(y)\n",
        "f"
      ],
      "execution_count": null,
      "outputs": [
        {
          "output_type": "execute_result",
          "data": {
            "image/png": "[encoded data removed]",
            "text/latex": "$\\displaystyle x^{2} y^{3} - 5 x + y \\sin{\\left(x \\right)} - 10 y + \\cos{\\left(y \\right)}$",
            "text/plain": [
              " 2  3                                 \n",
              "x ⋅y  - 5⋅x + y⋅sin(x) - 10⋅y + cos(y)"
            ]
          },
          "metadata": {
            "tags": []
          },
          "execution_count": 7
        }
      ]
    },
    {
      "cell_type": "code",
      "metadata": {
        "id": "uxWAIq98GD0K",
        "outputId": "60a80983-13cd-4fba-8ed1-c10276b32733"
      },
      "source": [
        "-diff(f,x)/diff(f,y)"
      ],
      "execution_count": null,
      "outputs": [
        {
          "output_type": "execute_result",
          "data": {
            "image/png": "[encoded data removed]",
            "text/latex": "$\\displaystyle \\frac{- 2 x y^{3} - y \\cos{\\left(x \\right)} + 5}{3 x^{2} y^{2} + \\sin{\\left(x \\right)} - \\sin{\\left(y \\right)} - 10}$",
            "text/plain": [
              "          3                   \n",
              "   - 2⋅x⋅y  - y⋅cos(x) + 5    \n",
              "──────────────────────────────\n",
              "   2  2                       \n",
              "3⋅x ⋅y  + sin(x) - sin(y) - 10"
            ]
          },
          "metadata": {
            "tags": []
          },
          "execution_count": 8
        }
      ]
    },
    {
      "cell_type": "markdown",
      "metadata": {
        "id": "8ZmYkz_JGD0L"
      },
      "source": [
        "Пример с уравнением окружности с центром в начале координат (0,0), радиусом R=3"
      ]
    },
    {
      "cell_type": "code",
      "metadata": {
        "id": "j7LnylVLGD0L",
        "outputId": "3bcb5681-7856-4a51-b3b8-242c19634735"
      },
      "source": [
        "x,y=symbols('x y') \n",
        "f=x**2+y**2-9 \n",
        "f"
      ],
      "execution_count": null,
      "outputs": [
        {
          "output_type": "execute_result",
          "data": {
            "image/png": "[encoded data removed]",
            "text/latex": "$\\displaystyle x^{2} + y^{2} - 9$",
            "text/plain": [
              " 2    2    \n",
              "x  + y  - 9"
            ]
          },
          "metadata": {
            "tags": []
          },
          "execution_count": 9
        }
      ]
    },
    {
      "cell_type": "code",
      "metadata": {
        "id": "xtD5pVvdGD0M",
        "outputId": "f2e25a9e-420d-49c8-d303-4dd9b3f9b7f3"
      },
      "source": [
        "-diff(f,x)/diff(f,y)"
      ],
      "execution_count": null,
      "outputs": [
        {
          "output_type": "execute_result",
          "data": {
            "image/png": "[encoded data removed]",
            "text/latex": "$\\displaystyle - \\frac{x}{y}$",
            "text/plain": [
              "-x \n",
              "───\n",
              " y "
            ]
          },
          "metadata": {
            "tags": []
          },
          "execution_count": 10
        }
      ]
    },
    {
      "cell_type": "markdown",
      "metadata": {
        "id": "O7CAZX0tGD0M"
      },
      "source": [
        "### Производная от обратной функции"
      ]
    },
    {
      "cell_type": "markdown",
      "metadata": {
        "id": "xPf5PQzNGD0M"
      },
      "source": [
        "У большого класса явных функций, существуют обратные. Например у функции $y=x^3$ мы можем выразить $x=\\sqrt[3]y$\n",
        "\n",
        "Оказывается, существует связь между производной функции $y'_{x}$ и ей обратной$x'_{y}$.\n",
        "\n",
        "### $$y'_{x}=\\frac{1}{x'_{y}}$$\n",
        "\n",
        "Проверить это не сложно. Давайте найдем $y'_{x}$ и $x'_{y}$.\n",
        "\n",
        "### $$y'_{x}=(x^3)'_{x}=3x^2$$\n",
        "\n",
        "### $$x'_{y}=(\\sqrt[3]y)'_{y}=\\frac{1}{3\\sqrt[3]{y^2}}$$\n",
        "\n",
        "Подставим полученные производные в равенство\n",
        "\n",
        "### $$3x^2=\\frac{1}{\\frac{1}{3\\sqrt[3]{y^2}}}$$\n",
        "\n",
        "### $$3x^2=3\\sqrt[3]{y^2}$$\n",
        "\n",
        "### $$x^2=\\sqrt[3]{y^2}$$\n",
        "\n",
        "### $$x^6=y^2$$\n",
        "\n",
        "### $$y=x^3$$"
      ]
    },
    {
      "cell_type": "markdown",
      "metadata": {
        "id": "Y8EcgMTMGD0M"
      },
      "source": [
        "С помощью этой связи были выведены производные от обратных функций. \n",
        "\n",
        "Давайте выведем производную от $\\arcsin(x)$. Возьмем функцию $y=\\arcsin(x)$, тогда\n",
        "\n",
        "### $$y'_{x}=\\frac{1}{x'_{y}}=\\frac{1}{(\\sin y)'_{y}}=$$\n",
        "\n",
        "### $$=\\frac{1}{\\cos y}=\\frac{1}{\\sqrt{1-\\sin^2 y}}=$$\n",
        "\n",
        "### $$=\\frac{1}{\\sqrt{1-\\sin^2 (\\arcsin(x))}}=\\frac{1}{\\sqrt{1-x^2}}$$"
      ]
    },
    {
      "cell_type": "markdown",
      "metadata": {
        "id": "wLWbB5fxGD0N"
      },
      "source": [
        "### Производная от функции, заданной параметрически"
      ]
    },
    {
      "cell_type": "markdown",
      "metadata": {
        "id": "XkLYXUHgGD0N"
      },
      "source": [
        "С помощью обратных функций, так же можно выразить и формулы для производной, заданной параметрически. Пусть:\n",
        "\n",
        "### \\begin{cases}\n",
        "   y=\\varphi(t), \\\\\n",
        "   x=\\psi(t) \n",
        " \\end{cases}\n",
        " \n",
        " Из второго уравнения можно выразить $t=\\psi^{-1}(x)$. Подставить в первое и получить сложную функцию $y=\\varphi(\\psi^{-1}(x))$\n",
        " \n",
        " Отсюда следует, что:\n",
        " \n",
        "###  $$y'_{x}=\\varphi'\\cdot (\\psi^{-1})'=\\frac{y'_{t}}{x'_{t}}$$\n",
        " \n",
        " Правило получается довольно простым. __Чтобы найти $y'_{x}$ для функции, заданной параметрически, необходимо найти две производные  $y'_{t}$ и  $x'_{t}$, далее поделить первое на второе.__\n",
        " "
      ]
    },
    {
      "cell_type": "markdown",
      "metadata": {
        "id": "3MnH1RkUGD0N"
      },
      "source": [
        "Рассмотрим пример:\n",
        "\n",
        "### \\begin{cases}\n",
        "   y=t-t^2, \\\\\n",
        "   x=t^2-t^3 \n",
        " \\end{cases}\n",
        " \n",
        " Найдем производные:\n",
        " \n",
        "###  \\begin{cases}\n",
        "   y'_{t}=1-2t, \\\\\n",
        "   x'_{t}=2t-3t^2 \n",
        " \\end{cases}\n",
        " \n",
        " Запишем ответ:\n",
        " \n",
        "###  $$y'_{x}=\\frac{y'_{t}}{x'_{t}}=\\frac{1-2t}{2t-3t^2}$$\n",
        " \n",
        "__Замечание: производная от параметрической функции так же зависит от параметра $t$. В некоторых случаях от параметра можно избавиться и перейти к неявному виду.__"
      ]
    },
    {
      "cell_type": "markdown",
      "metadata": {
        "id": "SkZg94mvGD0N"
      },
      "source": [
        "Тоже самое на __sympy__"
      ]
    },
    {
      "cell_type": "code",
      "metadata": {
        "id": "v0s_Kkr0GD0O"
      },
      "source": [
        "from sympy import *\n",
        "init_printing()"
      ],
      "execution_count": null,
      "outputs": []
    },
    {
      "cell_type": "code",
      "metadata": {
        "id": "kpLCf1fLGD0O",
        "outputId": "f35476a5-db8e-4142-f2f9-4305817af30d"
      },
      "source": [
        "t=Symbol('t')\n",
        "y=t-t**2\n",
        "y"
      ],
      "execution_count": null,
      "outputs": [
        {
          "output_type": "execute_result",
          "data": {
            "image/png": "[encoded data removed]",
            "text/latex": "$\\displaystyle - t^{2} + t$",
            "text/plain": [
              "   2    \n",
              "- t  + t"
            ]
          },
          "metadata": {
            "tags": []
          },
          "execution_count": 13
        }
      ]
    },
    {
      "cell_type": "code",
      "metadata": {
        "id": "6a2yRU_bGD0O",
        "outputId": "86760ed1-5f01-472d-bc88-7daf0135bb8a"
      },
      "source": [
        "x=t**2-t**3\n",
        "x"
      ],
      "execution_count": null,
      "outputs": [
        {
          "output_type": "execute_result",
          "data": {
            "image/png": "[encoded data removed]",
            "text/latex": "$\\displaystyle - t^{3} + t^{2}$",
            "text/plain": [
              "   3    2\n",
              "- t  + t "
            ]
          },
          "metadata": {
            "tags": []
          },
          "execution_count": 14
        }
      ]
    },
    {
      "cell_type": "code",
      "metadata": {
        "id": "aIxC9idyGD0O",
        "outputId": "a63bbac9-72f4-43b0-eb8f-279fcdb10dbe"
      },
      "source": [
        "diff(y,t)/diff(x,t)"
      ],
      "execution_count": null,
      "outputs": [
        {
          "output_type": "execute_result",
          "data": {
            "image/png": "[encoded data removed]",
            "text/latex": "$\\displaystyle \\frac{1 - 2 t}{- 3 t^{2} + 2 t}$",
            "text/plain": [
              "  1 - 2⋅t   \n",
              "────────────\n",
              "     2      \n",
              "- 3⋅t  + 2⋅t"
            ]
          },
          "metadata": {
            "tags": []
          },
          "execution_count": 16
        }
      ]
    },
    {
      "cell_type": "markdown",
      "metadata": {
        "id": "dCCBG1P-GD0P"
      },
      "source": [
        "Пример с уравнением окружности с центром в начале координат (0,0), радиусом R=3.\n",
        "\n",
        "В параметрическом виде имеем: \n",
        "\n",
        "###  \\begin{cases}\n",
        "   y=3\\sin t, \\\\\n",
        "   x=3\\cos t \n",
        " \\end{cases}"
      ]
    },
    {
      "cell_type": "code",
      "metadata": {
        "id": "1mYuIvcRGD0P",
        "outputId": "fb027f77-7d30-4879-e060-707697833e0f"
      },
      "source": [
        "y=3*sin(t)\n",
        "y"
      ],
      "execution_count": null,
      "outputs": [
        {
          "output_type": "execute_result",
          "data": {
            "image/png": "[encoded data removed]",
            "text/latex": "$\\displaystyle 3 \\sin{\\left(t \\right)}$",
            "text/plain": [
              "3⋅sin(t)"
            ]
          },
          "metadata": {
            "tags": []
          },
          "execution_count": 19
        }
      ]
    },
    {
      "cell_type": "code",
      "metadata": {
        "id": "MMz58i4dGD0P",
        "outputId": "67503ae9-4b88-447e-b929-b3357d060ea2"
      },
      "source": [
        "x=3*cos(t)\n",
        "x"
      ],
      "execution_count": null,
      "outputs": [
        {
          "output_type": "execute_result",
          "data": {
            "image/png": "[encoded data removed]",
            "text/latex": "$\\displaystyle 3 \\cos{\\left(t \\right)}$",
            "text/plain": [
              "3⋅cos(t)"
            ]
          },
          "metadata": {
            "tags": []
          },
          "execution_count": 20
        }
      ]
    },
    {
      "cell_type": "code",
      "metadata": {
        "id": "9wTSlRbAGD0P",
        "outputId": "12835621-6d11-449b-9274-209647799d35"
      },
      "source": [
        "diff(y,t)/diff(x,t)"
      ],
      "execution_count": null,
      "outputs": [
        {
          "output_type": "execute_result",
          "data": {
            "image/png": "[encoded data removed]",
            "text/latex": "$\\displaystyle - \\frac{\\cos{\\left(t \\right)}}{\\sin{\\left(t \\right)}}$",
            "text/plain": [
              "-cos(t) \n",
              "────────\n",
              " sin(t) "
            ]
          },
          "metadata": {
            "tags": []
          },
          "execution_count": 21
        }
      ]
    },
    {
      "cell_type": "markdown",
      "metadata": {
        "id": "yYnXb3mCGD0Q"
      },
      "source": [
        "Если из системы \n",
        "\n",
        "### \\begin{cases}\n",
        "   y=3\\sin t, \\\\\n",
        "   x=3\\cos t \n",
        " \\end{cases}\n",
        " \n",
        " Выразить $\\sin t$ и  $\\cos t$, то получим\n",
        " \n",
        "###  $$y'_{x}=-\\frac{\\cos t}{\\sin t}=$$\n",
        "\n",
        "###  $$=-\\cos t :\\sin t=-\\frac{x}{3}:\\frac{y}{3}=-\\frac{x}{y}$$\n",
        " \n",
        "__Замечание: это равенство говорит о том, что производная не зависит от способа задания функции. В нашем случае производная от неявной функции совпала с производной от этой же функции, заданной параметрически.__"
      ]
    },
    {
      "cell_type": "markdown",
      "metadata": {
        "id": "OqwVyP9BGD0Q"
      },
      "source": [
        "### Производная с помощью логарифмирования"
      ]
    },
    {
      "cell_type": "markdown",
      "metadata": {
        "id": "vWj7SSJtGD0Q"
      },
      "source": [
        "Класс прикладных задач на нахождение производных от неявных, обратных или параметрических функций очень мал. Вероятность встретить пару задач на собеседовании на эти темы больше, чем вероятность применения их в повседневной работе. Однако есть одна \"замечательная\" формула, которая выводится из данной теории и широко и используется на практике, даже в библиотеке __sympy__.\n",
        "\n",
        "Возьмем явную функцию \n",
        "\n",
        "### $$y=f(x)$$\n",
        "\n",
        "Прологарифмируем обе части равенства по натуральному логарифму и найдем производную:\n",
        "\n",
        "### $$\\ln y=\\ln f(x)$$\n",
        "\n",
        "\n",
        "### $$\\frac {y'}{y}=(\\ln f(x))'$$\n",
        "\n",
        "Выразим $y'$:\n",
        "\n",
        "### $$y'=y\\cdot (\\ln f(x))'$$\n",
        "\n",
        "### $$y'=f(x)\\cdot (\\ln f(x))'$$\n",
        "\n",
        "\n",
        "Данная формула позволяет найти производную от явной функции. Если функция состоит из более 2-х действий деления или умножения, то с помощью этой формулы вычисления происходят быстрее, чем с помощью формул производная от произведения и производная от частного.\n",
        "\n",
        "По такому же алгоритму работают и все библиотеки, которые понимают символьную алгебру и находят производные аналитически с помощью логарифмирования."
      ]
    },
    {
      "cell_type": "markdown",
      "metadata": {
        "id": "4139jqMGGD0Q"
      },
      "source": [
        "Рассмотрим пример:\n",
        "\n",
        "### $$y=\\frac{(x-1)^2(x-2)^3(x-3)^4}{(x-4)^5 \\sin x}$$\n",
        "\n",
        "Тогда по нашей формуле мы должны переписать функцию, далее разбить ее с помощью логарифмов и найти производную.\n",
        "\n",
        "### $$y'=f(x)\\cdot (\\ln f(x))'$$\n",
        "\n",
        "### $$y'=\\frac{(x-1)^2(x-2)^3(x-3)^4}{(x-4)^5 \\sin x}\\cdot (\\frac{2}{x-1}+\\frac{3}{x-2}+\\frac{4}{x-3}-\\frac{5}{x-4}-\\frac{\\cos x}{\\sin x} )$$\n",
        "\n",
        "Вот и всё, мы в одно действие нашли производную, от довольно сложного примера. При этом скобки раскрывать не обязательно, т.к. скорее всего наша запись уже имеет наименьшее число операций для дальнейших вычислений.\n",
        "\n",
        "Посмотрим как с этой задачей справится __sympy__."
      ]
    },
    {
      "cell_type": "code",
      "metadata": {
        "id": "0X1bujJ0GD0R"
      },
      "source": [
        "from sympy import *\n",
        "init_printing()"
      ],
      "execution_count": null,
      "outputs": []
    },
    {
      "cell_type": "code",
      "metadata": {
        "id": "660OTHdMGD0R",
        "outputId": "bf171b05-a139-448e-c553-bc01d87b6a52"
      },
      "source": [
        "x=Symbol('x')\n",
        "y=(x-1)**2*(x-2)**3*(x-3)**4/(x-4)**5/sin(x)\n",
        "y"
      ],
      "execution_count": null,
      "outputs": [
        {
          "output_type": "execute_result",
          "data": {
            "image/png": "[encoded data removed]",
            "text/latex": "$\\displaystyle \\frac{\\left(x - 3\\right)^{4} \\left(x - 2\\right)^{3} \\left(x - 1\\right)^{2}}{\\left(x - 4\\right)^{5} \\sin{\\left(x \\right)}}$",
            "text/plain": [
              "       4        3        2\n",
              "(x - 3) ⋅(x - 2) ⋅(x - 1) \n",
              "──────────────────────────\n",
              "            5             \n",
              "     (x - 4) ⋅sin(x)      "
            ]
          },
          "metadata": {
            "tags": []
          },
          "execution_count": 24
        }
      ]
    },
    {
      "cell_type": "code",
      "metadata": {
        "id": "NLUm2gSQGD0R",
        "outputId": "52ea5ddf-accc-4b15-bda8-99fa4cbc519e"
      },
      "source": [
        "diff(y,x)"
      ],
      "execution_count": null,
      "outputs": [
        {
          "output_type": "execute_result",
          "data": {
            "image/png": "[encoded data removed]",
            "text/latex": "$\\displaystyle - \\frac{\\left(x - 3\\right)^{4} \\left(x - 2\\right)^{3} \\left(x - 1\\right)^{2} \\cos{\\left(x \\right)}}{\\left(x - 4\\right)^{5} \\sin^{2}{\\left(x \\right)}} + \\frac{\\left(x - 3\\right)^{4} \\left(x - 2\\right)^{3} \\left(2 x - 2\\right)}{\\left(x - 4\\right)^{5} \\sin{\\left(x \\right)}} + \\frac{3 \\left(x - 3\\right)^{4} \\left(x - 2\\right)^{2} \\left(x - 1\\right)^{2}}{\\left(x - 4\\right)^{5} \\sin{\\left(x \\right)}} + \\frac{4 \\left(x - 3\\right)^{3} \\left(x - 2\\right)^{3} \\left(x - 1\\right)^{2}}{\\left(x - 4\\right)^{5} \\sin{\\left(x \\right)}} - \\frac{5 \\left(x - 3\\right)^{4} \\left(x - 2\\right)^{3} \\left(x - 1\\right)^{2}}{\\left(x - 4\\right)^{6} \\sin{\\left(x \\right)}}$",
            "text/plain": [
              "         4        3        2                 4        3                      4\n",
              "  (x - 3) ⋅(x - 2) ⋅(x - 1) ⋅cos(x)   (x - 3) ⋅(x - 2) ⋅(2⋅x - 2)   3⋅(x - 3) \n",
              "- ───────────────────────────────── + ─────────────────────────── + ──────────\n",
              "                  5    2                           5                          \n",
              "           (x - 4) ⋅sin (x)                 (x - 4) ⋅sin(x)               (x -\n",
              "\n",
              "        2        2            3        3        2            4        3       \n",
              "⋅(x - 2) ⋅(x - 1)    4⋅(x - 3) ⋅(x - 2) ⋅(x - 1)    5⋅(x - 3) ⋅(x - 2) ⋅(x - 1\n",
              "────────────────── + ──────────────────────────── - ──────────────────────────\n",
              "   5                              5                              6            \n",
              " 4) ⋅sin(x)                (x - 4) ⋅sin(x)                (x - 4) ⋅sin(x)     \n",
              "\n",
              " 2\n",
              ") \n",
              "──\n",
              "  \n",
              "  "
            ]
          },
          "metadata": {
            "tags": []
          },
          "execution_count": 25
        }
      ]
    },
    {
      "cell_type": "markdown",
      "metadata": {
        "id": "62rdeuJKGD0R"
      },
      "source": [
        "### Уравнение касательной и нормали "
      ]
    },
    {
      "cell_type": "markdown",
      "metadata": {
        "id": "fU74QxfXGD0R"
      },
      "source": [
        "Перейдем к более прикладным вещам. Уравнение касательных и нормальных прямых к графикам функций в заданной точке. \n",
        "\n",
        "###### Геометрический смысл производной\n",
        "\n",
        "Оказывается, производная функции в точке $f'(x_{0})$ совпадает с тангенсом угла наклона касательной $\\mbox{tg}(\\alpha)$ в этой точке $x_{0}$. В свою очередь тангенсом угла наклона любой прямой равен угловому коэффициенту $k$.\n",
        "\n",
        "Уравнение касательной в точке $x_{0}$ к явной функции $y=f(x)$ равна:\n",
        "\n",
        "### $$y=f(x_{0})+f'(x_{0})\\cdot (x-x_{0})$$\n",
        "\n",
        "Уравнение касательной в точке $(x_{0}, y_{0})$ к неявной функции $F(x, y)=0$ равна:\n",
        "\n",
        "### $$y=y_{0}+y'_{x}(x_{0}, y_{0})\\cdot (x-x_{0})$$\n",
        "\n",
        "Уравнение касательной в точке $t_{0}$ к параметрической функции $y=\\varphi(t),x=\\psi(t)$ равна:\n",
        "\n",
        "### $$y=\\varphi(t_{0})+y'_{x}(t_{0})\\cdot (x-\\psi(t_{0}))$$\n",
        "\n",
        "Как видно особой разницы нет. Запишем так же уравнения нормали. Нормаль перпендикулярна к касательной. Из школьного курса известно , что у перпендикулярных прямых угловые коэффициенты $k_{1} \\cdot k_{2}=-1$. Тогда получим следующее.\n",
        "\n",
        "Уравнение нормальной прямой в точке $x_{0}$ к явной функции $y=f(x)$ равна:\n",
        "\n",
        "### $$y=f(x_{0})-\\frac{1}{f'(x_{0})}\\cdot (x-x_{0})$$\n",
        "\n",
        "Уравнение нормальной прямой в точке $(x_{0}, y_{0})$ к неявной функции $F(x, y)=0$ равна:\n",
        "\n",
        "### $$y=y_{0}-\\frac{1}{y'_{x}(x_{0}, y_{0})}\\cdot (x-x_{0})$$\n",
        "\n",
        "Уравнение нормальной прямой в точке $t_{0}$ к параметрической функции $y=\\varphi(t),x=\\psi(t)$ равна:\n",
        "\n",
        "### $$y=\\varphi(t_{0})-\\frac{1}{y'_{x}(t_{0})}\\cdot (x-\\psi(t_{0}))$$"
      ]
    },
    {
      "cell_type": "markdown",
      "metadata": {
        "id": "HMd0Z68cGD0S"
      },
      "source": [
        "#### Примеры\n",
        "__1.__ В качестве первого примера возьмем явную функцию \n",
        "\n",
        "### $$y=x^3-x^2$$\n",
        "\n",
        "Найдем уравнения касательной и нормальной прямой в точке $x_{0}=1$:\n",
        "\n",
        "### $$f'(x)=3x^2-2x$$\n",
        "\n",
        "Отсюда получаем уравнение касательной:\n",
        "\n",
        "### $$y=f(x_{0})+f'(x_{0})\\cdot (x-x_{0})$$\n",
        "\n",
        "### $$y=1^3-1^2+(3-2)\\cdot (x-1)$$\n",
        "\n",
        "### $$y=x-1$$\n",
        "\n",
        "Уравнение нормали:\n",
        "\n",
        "### $$y=f(x_{0})-\\frac{1}{f'(x_{0})}\\cdot (x-x_{0})$$\n",
        "\n",
        "### $$y=1^3-1^2-\\frac{1}{3-2}\\cdot (x-1)$$\n",
        "\n",
        "### $$y=-x+1$$\n",
        "\n",
        "Построим графики"
      ]
    },
    {
      "cell_type": "code",
      "metadata": {
        "id": "jUZGFDE4GD0S",
        "outputId": "04ba5491-3166-42ac-ec44-cff4b3f91919"
      },
      "source": [
        "from matplotlib import pylab as plt\n",
        "import numpy as np\n",
        "%matplotlib inline\n",
        "\n",
        "plt.figure(figsize=(6,6))\n",
        "plt.axis([-4, 4, -4, 4])\n",
        "\n",
        "x=np.linspace(-4, 4, 200)\n",
        "y=x**3-x**2  #функция\n",
        "y_k=x-1      #касательная\n",
        "y_n=-x+1     #нормаль\n",
        "\n",
        "plt.plot(x,y, c='b')\n",
        "plt.plot(x,y_k, c='r')\n",
        "plt.plot(x,y_n, c='g')\n",
        "plt.show()"
      ],
      "execution_count": null,
      "outputs": [
        {
          "output_type": "display_data",
          "data": {
            "image/png": "[encoded data removed]",
            "text/plain": [
              "<Figure size 432x432 with 1 Axes>"
            ]
          },
          "metadata": {
            "tags": [],
            "needs_background": "light"
          }
        }
      ]
    },
    {
      "cell_type": "markdown",
      "metadata": {
        "id": "-IO1s6zyGD0S"
      },
      "source": [
        "__2.__ В качестве второго примера возьмем уже знакомое уравнение окружности в неявном виде\n",
        "\n",
        "### $$x^2+y^2=9$$\n",
        "\n",
        "Найдем уравнения касательной и нормальной прямой в точке $(2,\\sqrt5)$:\n",
        "\n",
        "### $$y'_{x}=-\\frac {F'_{х}}{F'_{y}}=-\\frac {x}{y}$$\n",
        "\n",
        "Отсюда получаем уравнение касательной:\n",
        "\n",
        "### $$y=y_{0}+y'_{x}(x_{0}, y_{0})\\cdot (x-x_{0})$$\n",
        "\n",
        "### $$y=\\sqrt5-\\frac {2}{\\sqrt5}\\cdot (x-2)$$\n",
        "\n",
        "### $$y=-\\frac{2\\sqrt5}{5}x+\\frac{9\\sqrt5}{5}$$\n",
        "\n",
        "Уравнение нормали:\n",
        "\n",
        "### $$y=y_{0}-\\frac{1}{y'_{x}(x_{0}, y_{0})}\\cdot (x-x_{0})$$\n",
        "\n",
        "### $$y=\\sqrt5+\\frac{\\sqrt5}{2}\\cdot (x-2)$$\n",
        "\n",
        "### $$y=\\frac{\\sqrt5}{2}x$$\n",
        "\n",
        "Построим графики"
      ]
    },
    {
      "cell_type": "code",
      "metadata": {
        "id": "MVDec0KCGD0T",
        "outputId": "d7d1a19d-f15f-41e1-ee3a-03792125263e"
      },
      "source": [
        "from matplotlib import pylab as plt\n",
        "import numpy as np\n",
        "%matplotlib inline\n",
        "\n",
        "plt.figure(figsize=(6,6))\n",
        "plt.axis([-4, 4, -4, 4])\n",
        "\n",
        "x=np.linspace(-3, 3, 200)\n",
        "y1=np.sqrt(9-x**2)  #функция\n",
        "y2=-np.sqrt(9-x**2)  #функция\n",
        "plt.plot(x,y1, c='b')\n",
        "plt.plot(x,y2, c='b')\n",
        "\n",
        "\n",
        "x=np.linspace(-4, 4, 200)\n",
        "y_k=(-0.4*x+1.8)*np.sqrt(5)      #касательная\n",
        "y_n=0.4*np.sqrt(5)*x             #нормаль\n",
        "\n",
        "\n",
        "plt.plot(x,y_k, c='r')\n",
        "plt.plot(x,y_n, c='g')\n",
        "plt.show()"
      ],
      "execution_count": null,
      "outputs": [
        {
          "output_type": "display_data",
          "data": {
            "image/png": "[encoded data removed]",
            "text/plain": [
              "<Figure size 432x432 with 1 Axes>"
            ]
          },
          "metadata": {
            "tags": [],
            "needs_background": "light"
          }
        }
      ]
    },
    {
      "cell_type": "markdown",
      "metadata": {
        "id": "_MjywsMWGD0T"
      },
      "source": [
        "__3.__ В качестве третьего примера возьмем тоже уравнение окружности в параметическом виде\n",
        "\n",
        "### \\begin{cases}\n",
        "   y=3\\sin t, \\\\\n",
        "   x=3\\cos t \n",
        " \\end{cases}\n",
        "\n",
        "Найдем уравнения касательной и нормальной прямой в точке $t_{0}=\\frac{\\pi}{2}$:\n",
        "\n",
        "### $$y'_{x}=\\frac {y'_{t}}{x'_{t}}=-\\frac {\\cos t}{\\sin t}$$\n",
        "\n",
        "Отсюда получаем уравнение касательной:\n",
        "\n",
        "### $$y=\\varphi(t_{0})+y'_{x}(t_{0})\\cdot (x-0)$$\n",
        "\n",
        "### $$y=3-\\frac{0}{1}\\cdot (x-0)$$\n",
        "\n",
        "### $$y=3$$\n",
        "\n",
        "Уравнение нормали:\n",
        "\n",
        "### $$y=\\varphi(t_{0})-\\frac{1}{y'_{x}(t_{0})}\\cdot (x-\\psi(t_{0}))$$\n",
        "\n",
        "### $$y=3+\\frac{1}{0}\\cdot (x-0)$$\n",
        "\n",
        "Этот пример имеет особенность, т.к. содержит деление на 0. Пугаться не стоит. Деление появилось вследствие того, что выведенные формулы являются упрошенной записью более сложных, в которых деления на производные не было. из подобной записи следует, что:\n",
        "\n",
        "### $$x-0=0$$\n",
        "\n",
        "### $$x=0$$\n",
        "\n",
        "Построим графики"
      ]
    },
    {
      "cell_type": "code",
      "metadata": {
        "id": "8esqrF5UGD0U",
        "outputId": "d0566853-d332-4f7b-9b87-4225a9334f88"
      },
      "source": [
        "from matplotlib import pylab as plt\n",
        "import numpy as np\n",
        "%matplotlib inline\n",
        "\n",
        "plt.figure(figsize=(6,6))\n",
        "plt.axis([-4, 4, -4, 4])\n",
        "\n",
        "x=np.linspace(-3, 3, 200)\n",
        "y1=np.sqrt(9-x**2)   #функция\n",
        "y2=-np.sqrt(9-x**2)  #функция\n",
        "plt.plot(x,y1, c='b')\n",
        "plt.plot(x,y2, c='b')\n",
        "\n",
        "x=np.linspace(-4, 4, 200)\n",
        "y_k=3+0*x      #касательная\n",
        "plt.plot(x,y_k, c='r')\n",
        "\n",
        "y=np.linspace(-4, 4, 200)\n",
        "x=0+0*y       #нормаль\n",
        "plt.plot(x,y, c='g')\n",
        "\n",
        "plt.show()"
      ],
      "execution_count": null,
      "outputs": [
        {
          "output_type": "display_data",
          "data": {
            "image/png": "[encoded data removed]",
            "text/plain": [
              "<Figure size 432x432 with 1 Axes>"
            ]
          },
          "metadata": {
            "tags": [],
            "needs_background": "light"
          }
        }
      ]
    }
  ]
}