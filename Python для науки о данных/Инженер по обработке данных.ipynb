{
 "cells": [
  {
   "cell_type": "raw",
   "metadata": {},
   "source": [
    "Инженерия данных:\n",
    "\n",
    "Откуда берутся данные?\n",
    "\n",
    "    можно померять\n",
    "    скачать из интернета(взять готовые)\n",
    "    можно погуглить\n",
    "    получить вычислениями\n",
    "    книги\n",
    "    \n",
    "    \n",
    "    Данные хранятся в различной форме и получить их можно из различных цифровых источников. Это не простая задача ,у данных-различные формыты"
   ]
  },
  {
   "cell_type": "raw",
   "metadata": {},
   "source": [
    "DataScient - для каждой поставленной задачи подбирает доступные источники данных и изучает их архитектуру\n",
    "    Источники данных:\n",
    "        реляционные базы данных(БД),\n",
    "        электронные таблицы(excel),\n",
    "        плоские(csv,tsv) файлы,\n",
    "        noSQL БД(key-value,json и xml файлов) \n",
    "        \n",
    "    Собрать данные:\n",
    "        -WEB(парсинг страниц, \n",
    "            использование API для доступа к разнообразным источникам \n",
    "                социальным сетям:\n",
    "                    Twitter,\n",
    "                    FB,\n",
    "                    Инстаграм\n",
    "         -Данные из научных, государственных и др.ведомственных БД.\n",
    "            \n",
    "    Разобрать их архитектуру,обработка данных:\n",
    "        Инструменты:\n",
    "            SQL-язык структурированных запросов для работы с реляционными БД\n",
    "            Python, Java, Scala -языки программирования для работы с данными и автоматизации задач\n",
    "            API- для работы с различными источниками данных,например,Википедия,Facebook, или Google Maps\n",
    "            \n",
    "            \n",
    "        Задача : Собрать данные.\n",
    "            -Разметить\n",
    "              Разметка нужна для выделения объектов, обнаружению которых нужно научить программу.\n",
    "              \n",
    "                  машинное обучение служит для объединения в одну группу методов построения моделей для решения задач\n",
    "                      регрессии\n",
    "                      прогноза\n",
    "                      классификации\n",
    "                      кластеризации\n",
    "                      маинига\n",
    "                      статического вывода и др\n",
    "                      \n",
    "                  глубокое обучение группа методов искуственного интеллекта,требующая много данных и длительных вычислений.\n",
    "                      используется для обучения машин в том числе для беспилотных автомобилей,для обработкимедицинских изображений и в                         других задачах\n",
    "            -Собрать и подготовить в виде удобном для анализа\n",
    "            "
   ]
  },
  {
   "cell_type": "raw",
   "metadata": {},
   "source": [
    "                                     ДАННЫЕ БЫВАЮТЖ:\n",
    "    -неструктурированные(noSQL)                          -структурированные(SQL)\n",
    "                             \n",
    "        эл.почта                                             таблицы реляционных баз данных\n",
    "        текст                                                табулированные файлы\n",
    "        аудио и видео                                        электронные таблицы  \n",
    "        изображения\n",
    "        WEB страницы\n",
    "        Соц.сети\n",
    "        Бинарные файлы\n",
    "        "
   ]
  },
  {
   "cell_type": "raw",
   "metadata": {},
   "source": [
    "Аналитик данных \n",
    "\n",
    "обязанности:\n",
    "    Исследовать предоставленные данные\n",
    "    строить графики,диаграммы и иные визуальные представления\n",
    "    формулировать и проверять статические гипотезы\n",
    "\n",
    "    инструменты:\n",
    "        SQL- выборки из реляционных БД\n",
    "        MongoDB(или другая БД) для noSQL запросов\n",
    "        Excel -для работы с электронными таблицами\n",
    "        BL Tools:Tableau,Looker,Power BI и др. полнофункциональный софт\n",
    "        Программирование :R, Python\n",
    "            \n",
    " Как аналитик исследует данные?\n",
    "                    \n",
    "                анализ данных\n",
    "        предварительный   подтвержнающий\n",
    "\n",
    "предварительный:\n",
    "    речные перевозки = []\n",
    "    автомобильные перевозки =[]\n",
    "    \n",
    "    построим линии тренда\n",
    "        видим что число заказов прежнее,но в середине периода сменился лидер: речных > автомобильных\n",
    "            что выяснилось:\n",
    "                изменились данные по автоперевозкам\n",
    "                среднее число перевозок за день не изменилось\n",
    "                число перевозок водным транспортом растет,а авто снижается\n",
    "                статический вывод показал что с точность 95% вероятность смена лидера произошла в период 12-20 июня\n",
    "            объяснение:\n",
    "                В области А перевозок авто > речных перевозок\n",
    "                В области B перевозок авто < речных перевозок \n",
    "                В области С перевозок авто = речных перевозок\n",
    "                значит лидер сменился где-то в С\n",
    "        Кто такой лидер - это тот кого больше\n",
    "        Как узнать что новый лидер стал больше, потому что его было меньше, а потом они ставнялись с прежним лидером\n",
    "        \n",
    "    начальник:-Что теперь с этими данными делать? Ну произошла смена лидера и что дальше?\n",
    "    аналитик:-нужно узнать почему такое случилось\n",
    "    начальник:-зачем?\n",
    "    аналитик:-Для того чтобы узнать что произошло.Может дороги сломались,или реки стали полноводнее.Узнаем причину будем думать \n",
    "              на какое направление перевозок обратить больше внимание\n",
    "    начальник:-Какое может быть решение?\n",
    "    аналитик:-искать или не искать дополнительных речных перевозчиков и на какой период\n",
    "    начальник:-но для этого нужен дополнительный анализ\n",
    "    аналитик:-но ,мир то меняется\n",
    "         \n"
   ]
  },
  {
   "cell_type": "raw",
   "metadata": {},
   "source": [
    "Машинное обучение:\n",
    "\n",
    "    Применяется для:\n",
    "        прогноза\n",
    "        классификации\n",
    "        обработки изображений\n",
    "        автоматичемкого анализа текстов\n",
    "        обработка изображений\n",
    "        автоматического анализа текстов и другого\n",
    "        \n",
    "    Инструменты:\n",
    "        пакеты программ \n",
    "        языки программирования\n",
    "        \n",
    "    Модели для экстраполяции и прогноза:\n",
    "        прогноз курса акций\n",
    "        прогноз потребительского спроса\n",
    "        прогноз числа просроченных кредитов\n",
    "        прогноз цен на жилье\n",
    "        \n",
    "пример: каждый пятый ученик  еряет библиотечные книги.Сколько же учебников будет нужно докупить к началу нового учебного года\n",
    "    \n",
    "    КЛАССИФИКАЦИЯ:\n",
    "        задачи деления на классы:\n",
    "            классификация отзывов на публикацию:\n",
    "                восторженные,положительные,нейтральные,ругательные...\n",
    "            классификация изображений и их элементов:\n",
    "                автомобиль, пешеход,светофор,доржный знак\n",
    "            даже такое:\n",
    "                рабочий класс\n",
    "                крестьянство\n",
    "                буржуази\n",
    "            или класс вокала,хорового пения\n",
    "            \n",
    "        ОБЪЕКТ ,отнесенный к некоторому классу,обладает рядом отличительных черт\n",
    "                Пример:Камера показывает рассыпаные детали.\n",
    "                Вопрос к классификатору может быть такой: \"С какой вероятностью выделленый объект гайка?\"\n",
    "                    \n",
    "    Автоматический анализ текстов\n",
    "         Используется для мониторинга медиапространства политиками\n",
    "         Владельцы сайтов анализируют посещаемость посетителей\n",
    "         Учителям анализ переписки,ответов на тесты\n",
    "         Блогерам анализ откликов и комментариев на посты\n",
    "         Ученым анализ публикаций\n",
    "        \n",
    "    рекомендательные системы:\n",
    "        примениются для подготовки предложений пользователям \n",
    "        новостных порталов\n",
    "        сервисов потокового видео\n",
    "        интернет магазинов\n",
    "        \n",
    "        Можно готовить:\n",
    "            непрсонализированные рекомендации\n",
    "            персонализированные на основе контента\n",
    "            персонализированные на основе предпочтений\n",
    "         \n",
    "                    \n",
    "    \n"
   ]
  },
  {
   "cell_type": "raw",
   "metadata": {},
   "source": [
    "Инженерия данных:\n",
    "    Для каждой задачи нужно \n",
    "    найти источники ,\n",
    "    изучить их архитектуру,\n",
    "    собрать данные,\n",
    "    предоставит данные в удобном виде для анализа\n",
    "    \n",
    "Анализ данных:\n",
    "    Имеющиеся данные нужно изучить,\n",
    "                           провести их разведочный анализ,\n",
    "                           предоставить ввиде графиков или диаграмм,\n",
    "                           сформулировать предположения (гипотезы) о существующих зависимостях,\n",
    "                           подтвердить предположения\n",
    "Построение моделей:\n",
    "    Для выявления зависимостей нужно построить модели, определяющие влияние одних данных на другие. Модели строятся методами\n",
    "    традиционного машинного обучения и глубокого машинного обучения"
   ]
  },
  {
   "cell_type": "raw",
   "metadata": {},
   "source": [
    "1 Создание фреймов данных:\n",
    "    фреймы можно создать из списков,\n",
    "                            словарей,\n",
    "                            таблиц EXCEL,\n",
    "                            csv плоских файлов и др\n",
    "    Индексы и значения,типы данных\n",
    "    \n",
    "2. Разведочный анализ с фреймами это просто:\n",
    "    Визуальный анализ данных с использованием графиков различных типов.Статитеский анализ\n",
    "    \n",
    "3. Фильтрация и работа с данными:\n",
    "        Выборка данных,\n",
    "        сортировка,\n",
    "        создание категорий,\n",
    "        работа с индексами,\n",
    "        слайсинг.\n",
    "        Статистика по группам\n",
    "        \n",
    "4.Работа с временными рядами:\n",
    "    Тип данных для предоставления даты и времени,\n",
    "    операции с датами и временем,\n",
    "    дата и время в качестве индекса фрейма,\n",
    "    Выборки,подсчеты,графики,скользящее среднее и  другие\n",
    "    \n",
    "    \n",
    "    Графику в Python учат с библиотекой Matplotlib она позволяет\n",
    "        строить несколько графиков с использованием общих осей\n",
    "        строить нужные оси на одном рисунке\n",
    "        имеет возможность объединять несколько рисунков в одной иллюстрации"
   ]
  },
  {
   "cell_type": "code",
   "execution_count": 5,
   "metadata": {},
   "outputs": [
    {
     "data": {
      "text/plain": [
       "4"
      ]
     },
     "execution_count": 5,
     "metadata": {},
     "output_type": "execute_result"
    }
   ],
   "source": [
    "#python как калькулятор\n",
    "2 + 2"
   ]
  },
  {
   "cell_type": "code",
   "execution_count": 6,
   "metadata": {},
   "outputs": [
    {
     "name": "stdout",
     "output_type": "stream",
     "text": [
      "20\n"
     ]
    }
   ],
   "source": [
    "#Переменные и вывод результата на печать\n",
    "side_a = 5\n",
    "side_b = 4\n",
    "area = side_a * side_b\n",
    "print(area)"
   ]
  },
  {
   "cell_type": "code",
   "execution_count": 7,
   "metadata": {},
   "outputs": [
    {
     "data": {
      "text/plain": [
       "1.0"
      ]
     },
     "execution_count": 7,
     "metadata": {},
     "output_type": "execute_result"
    }
   ],
   "source": [
    "# В питоне много функций,они сгруппированы в пакеты. Чтобы использовать функции нужно импортировать пакет\n",
    "import math\n",
    "math.sin(math.pi/2)"
   ]
  },
  {
   "cell_type": "code",
   "execution_count": 8,
   "metadata": {},
   "outputs": [
    {
     "name": "stdout",
     "output_type": "stream",
     "text": [
      "<class 'int'> <class 'float'>\n"
     ]
    }
   ],
   "source": [
    "# Типы в Питоне определяются функцией type():\n",
    "    # численные - int,float\n",
    "    # булевые - bool\n",
    "    # строки - string,str\n",
    "v_int = -78\n",
    "v_float = 3.1415\n",
    "print(type(v_int), type(v_float))"
   ]
  },
  {
   "cell_type": "code",
   "execution_count": 10,
   "metadata": {},
   "outputs": [
    {
     "data": {
      "text/plain": [
       "bool"
      ]
     },
     "execution_count": 10,
     "metadata": {},
     "output_type": "execute_result"
    }
   ],
   "source": [
    "# Строки и булевые значения\n",
    "ready = True\n",
    "my_text = 'Текстовая строка'\n",
    "type(ready)\n"
   ]
  },
  {
   "cell_type": "code",
   "execution_count": 11,
   "metadata": {},
   "outputs": [
    {
     "data": {
      "text/plain": [
       "str"
      ]
     },
     "execution_count": 11,
     "metadata": {},
     "output_type": "execute_result"
    }
   ],
   "source": [
    "type(my_text)"
   ]
  },
  {
   "cell_type": "code",
   "execution_count": 12,
   "metadata": {},
   "outputs": [
    {
     "data": {
      "text/plain": [
       "'Значение будет 7.2831852'"
      ]
     },
     "execution_count": 12,
     "metadata": {},
     "output_type": "execute_result"
    }
   ],
   "source": [
    "# Преобразование типов\n",
    "\"Значение будет \"+ str(float(\"3.1415926\")* 2 + 1)"
   ]
  },
  {
   "cell_type": "code",
   "execution_count": 13,
   "metadata": {},
   "outputs": [
    {
     "data": {
      "text/plain": [
       "['В моем', 'списке', 4, 'элемента']"
      ]
     },
     "execution_count": 13,
     "metadata": {},
     "output_type": "execute_result"
    }
   ],
   "source": [
    "# Списки позваляют объединить в одну конструкцию языка несколько значений разного (или одинакового) типа\n",
    "# a и b -тип str,4- имеет тип int, 'элемента'- тип str\n",
    "a = 'В моем'\n",
    "b = 'списке'\n",
    "l = [a, b, 4, 'элемента']\n",
    "l"
   ]
  },
  {
   "cell_type": "code",
   "execution_count": 14,
   "metadata": {},
   "outputs": [
    {
     "data": {
      "text/plain": [
       "4"
      ]
     },
     "execution_count": 14,
     "metadata": {},
     "output_type": "execute_result"
    }
   ],
   "source": [
    "# функция len() определяет число элементов списка\n",
    "len(l)"
   ]
  },
  {
   "cell_type": "code",
   "execution_count": 15,
   "metadata": {},
   "outputs": [
    {
     "data": {
      "text/plain": [
       "'В моем'"
      ]
     },
     "execution_count": 15,
     "metadata": {},
     "output_type": "execute_result"
    }
   ],
   "source": [
    "l[0]"
   ]
  },
  {
   "cell_type": "code",
   "execution_count": 16,
   "metadata": {},
   "outputs": [
    {
     "data": {
      "text/plain": [
       "['В моем', 'списке', 4, 'элемента', 'В моем', 'списке', 4, 'элемента']"
      ]
     },
     "execution_count": 16,
     "metadata": {},
     "output_type": "execute_result"
    }
   ],
   "source": [
    "# * 2 показывет что список нужно повторить два раза\n",
    "l*2"
   ]
  },
  {
   "cell_type": "code",
   "execution_count": 18,
   "metadata": {},
   "outputs": [
    {
     "data": {
      "text/plain": [
       "12.7"
      ]
     },
     "execution_count": 18,
     "metadata": {},
     "output_type": "execute_result"
    }
   ],
   "source": [
    "# функции min(), max(), sum()\n",
    "\n",
    "kit = 12.7\n",
    "hall = 20.1\n",
    "bed = 18.6\n",
    "livr = 22.1\n",
    "apart = [kit, hall, bed, livr]\n",
    "min(apart)"
   ]
  },
  {
   "cell_type": "code",
   "execution_count": 19,
   "metadata": {},
   "outputs": [
    {
     "data": {
      "text/plain": [
       "22.1"
      ]
     },
     "execution_count": 19,
     "metadata": {},
     "output_type": "execute_result"
    }
   ],
   "source": [
    "max(apart)"
   ]
  },
  {
   "cell_type": "code",
   "execution_count": 20,
   "metadata": {},
   "outputs": [
    {
     "data": {
      "text/plain": [
       "73.5"
      ]
     },
     "execution_count": 20,
     "metadata": {},
     "output_type": "execute_result"
    }
   ],
   "source": [
    "sum(apart)"
   ]
  },
  {
   "cell_type": "code",
   "execution_count": 21,
   "metadata": {},
   "outputs": [
    {
     "data": {
      "text/plain": [
       "[1, 2, 3, 17, 16]"
      ]
     },
     "execution_count": 21,
     "metadata": {},
     "output_type": "execute_result"
    }
   ],
   "source": [
    "# Списки можно складывать ,\n",
    "                #нарезать,\n",
    "                #копировать.\n",
    "                #Элементом списка может быть другой список\n",
    "# Сложение списка,повторение элементов\n",
    "[1, 2, 3] + [17, 16]"
   ]
  },
  {
   "cell_type": "code",
   "execution_count": 22,
   "metadata": {},
   "outputs": [
    {
     "data": {
      "text/plain": [
       "[1, 1, 1, 1, 1, 1, 1, 1, 1, 1]"
      ]
     },
     "execution_count": 22,
     "metadata": {},
     "output_type": "execute_result"
    }
   ],
   "source": [
    "[1] * 10"
   ]
  },
  {
   "cell_type": "code",
   "execution_count": 23,
   "metadata": {},
   "outputs": [
    {
     "data": {
      "text/plain": [
       "[4, 5, 6, 7, 8]"
      ]
     },
     "execution_count": 23,
     "metadata": {},
     "output_type": "execute_result"
    }
   ],
   "source": [
    "# Нарезка\n",
    "long_list = [1, 2, 3, 4, 5, 6, 7, 8, 9, 10]\n",
    "start = 3\n",
    "stop = 8\n",
    "long_list[start: stop]"
   ]
  },
  {
   "cell_type": "code",
   "execution_count": 24,
   "metadata": {},
   "outputs": [
    {
     "name": "stdout",
     "output_type": "stream",
     "text": [
      "[12, 22, 13] [12, 22, 13]\n",
      "[12, 22, 13]\n"
     ]
    }
   ],
   "source": [
    "# Копирование списка.В примере l1 и l2 ссылаются на один список.\n",
    "# l3-отдельный список\n",
    "l1 = [12,22,13]\n",
    "l2 = l1\n",
    "print(l1, l2)\n",
    "l3 = l1.copy()\n",
    "print(l3)"
   ]
  },
  {
   "cell_type": "code",
   "execution_count": 25,
   "metadata": {},
   "outputs": [
    {
     "data": {
      "text/plain": [
       "[0, 22, 13]"
      ]
     },
     "execution_count": 25,
     "metadata": {},
     "output_type": "execute_result"
    }
   ],
   "source": [
    "# Присвоим нулевому индексу списка l1 значение 0\n",
    "l1[0] = 0\n",
    "l1"
   ]
  },
  {
   "cell_type": "code",
   "execution_count": 26,
   "metadata": {},
   "outputs": [
    {
     "data": {
      "text/plain": [
       "[0, 22, 13]"
      ]
     },
     "execution_count": 26,
     "metadata": {},
     "output_type": "execute_result"
    }
   ],
   "source": [
    "#l2 является полной копией списка l1\n",
    "l2"
   ]
  },
  {
   "cell_type": "code",
   "execution_count": 27,
   "metadata": {},
   "outputs": [
    {
     "data": {
      "text/plain": [
       "[12, 22, 13]"
      ]
     },
     "execution_count": 27,
     "metadata": {},
     "output_type": "execute_result"
    }
   ],
   "source": [
    "# l3 не зависит от изменений в l1\n",
    "l3"
   ]
  },
  {
   "cell_type": "markdown",
   "metadata": {},
   "source": [
    "# Python для начала\n"
   ]
  },
  {
   "cell_type": "raw",
   "metadata": {},
   "source": [
    "-функции\n",
    "-методы\n",
    "-пакеты\n",
    "-numpy"
   ]
  },
  {
   "cell_type": "raw",
   "metadata": {},
   "source": [
    "Важные функции: type(), len(), print(), max(), min(), abs(), round()\n",
    "функции преобразования: int(), str(), float(), complex()    "
   ]
  },
  {
   "cell_type": "code",
   "execution_count": 28,
   "metadata": {},
   "outputs": [
    {
     "data": {
      "text/plain": [
       "[-32, -15, -1, 1, 2, 8, 9, 56, 67]"
      ]
     },
     "execution_count": 28,
     "metadata": {},
     "output_type": "execute_result"
    }
   ],
   "source": [
    "#Многие функции собраны в пакете math(), а функции для работы со списками доступны сразу\n",
    "#Списки сортировка по возрастанию и убыванию\n",
    "l1 = [1, 2, 56,-1, 9]\n",
    "l2 = [-15, -32, 67, 8]\n",
    "sorted(l1 + l2)  # по возрастанию"
   ]
  },
  {
   "cell_type": "code",
   "execution_count": 29,
   "metadata": {},
   "outputs": [
    {
     "data": {
      "text/plain": [
       "[67, 56, 9, 8, 2, 1, -1, -15, -32]"
      ]
     },
     "execution_count": 29,
     "metadata": {},
     "output_type": "execute_result"
    }
   ],
   "source": [
    "sorted(l1 + l2, reverse = True) # по убыванию"
   ]
  },
  {
   "cell_type": "code",
   "execution_count": 30,
   "metadata": {},
   "outputs": [
    {
     "data": {
      "text/plain": [
       "['alpfa', 'betta', 'gamma']"
      ]
     },
     "execution_count": 30,
     "metadata": {},
     "output_type": "execute_result"
    }
   ],
   "source": [
    "l3 = ['alpfa', 'gamma', 'betta' ]\n",
    "sorted(l3) # сортировка по алфавиту"
   ]
  },
  {
   "cell_type": "markdown",
   "metadata": {},
   "source": [
    "Методы"
   ]
  },
  {
   "cell_type": "code",
   "execution_count": 31,
   "metadata": {},
   "outputs": [
    {
     "data": {
      "text/plain": [
       "'ПРИМЕР СТРОКИ'"
      ]
     },
     "execution_count": 31,
     "metadata": {},
     "output_type": "execute_result"
    }
   ],
   "source": [
    "#методы -это функции для работы с объектами\n",
    "s = 'Пример строки'\n",
    "s.upper()  # Заглавные буквы"
   ]
  },
  {
   "cell_type": "code",
   "execution_count": 32,
   "metadata": {},
   "outputs": [
    {
     "data": {
      "text/plain": [
       "'Пример текста'"
      ]
     },
     "execution_count": 32,
     "metadata": {},
     "output_type": "execute_result"
    }
   ],
   "source": [
    "s.replace('строки', \"текста\") # замена"
   ]
  },
  {
   "cell_type": "code",
   "execution_count": 33,
   "metadata": {},
   "outputs": [
    {
     "data": {
      "text/plain": [
       "['Пример', 'строки']"
      ]
     },
     "execution_count": 33,
     "metadata": {},
     "output_type": "execute_result"
    }
   ],
   "source": [
    "s.split(\" \") #  делим на слова"
   ]
  },
  {
   "cell_type": "code",
   "execution_count": 34,
   "metadata": {},
   "outputs": [
    {
     "data": {
      "text/plain": [
       "[1, 23, 17, 7, 11, 7, 11]"
      ]
     },
     "execution_count": 34,
     "metadata": {},
     "output_type": "execute_result"
    }
   ],
   "source": [
    "l = [1, 23, 17] + [7, 11] * 2\n",
    "l"
   ]
  },
  {
   "cell_type": "code",
   "execution_count": 35,
   "metadata": {},
   "outputs": [
    {
     "data": {
      "text/plain": [
       "2"
      ]
     },
     "execution_count": 35,
     "metadata": {},
     "output_type": "execute_result"
    }
   ],
   "source": [
    "l.count(11)  # считает число вхождений)"
   ]
  },
  {
   "cell_type": "code",
   "execution_count": 36,
   "metadata": {},
   "outputs": [
    {
     "data": {
      "text/plain": [
       "4"
      ]
     },
     "execution_count": 36,
     "metadata": {},
     "output_type": "execute_result"
    }
   ],
   "source": [
    "l.index(11)  # индекс первого элемента со значением 11"
   ]
  },
  {
   "cell_type": "code",
   "execution_count": 38,
   "metadata": {},
   "outputs": [
    {
     "data": {
      "text/plain": [
       "[1, 23, 17, 7, 11, 7, 11, 47, 47]"
      ]
     },
     "execution_count": 38,
     "metadata": {},
     "output_type": "execute_result"
    }
   ],
   "source": [
    "l.append(47)  # Добавляем элемент в конец списка\n",
    "l"
   ]
  },
  {
   "cell_type": "code",
   "execution_count": 39,
   "metadata": {},
   "outputs": [
    {
     "data": {
      "text/plain": [
       "47"
      ]
     },
     "execution_count": 39,
     "metadata": {},
     "output_type": "execute_result"
    }
   ],
   "source": [
    "l.pop() # выталкивает последний элемент"
   ]
  },
  {
   "cell_type": "code",
   "execution_count": 41,
   "metadata": {},
   "outputs": [
    {
     "data": {
      "text/plain": [
       "[1, 23, 17, 7, 11, 7, 11, 47]"
      ]
     },
     "execution_count": 41,
     "metadata": {},
     "output_type": "execute_result"
    }
   ],
   "source": [
    "l"
   ]
  },
  {
   "cell_type": "markdown",
   "metadata": {},
   "source": [
    "Пакеты"
   ]
  },
  {
   "cell_type": "markdown",
   "metadata": {},
   "source": [
    "Методы группируются в пакеты, а в программу загружаются такие пакеты(или их модули), которые необходимы"
   ]
  },
  {
   "cell_type": "raw",
   "metadata": {},
   "source": [
    "Чтобы использовать пакеты нужно установить его в систему.\n",
    "Для этого используется установщик пакетов pip\n",
    "terrminal:\n",
    "    python get-pip.py   # запускаем один раз\n",
    "    pip install numpy   # установка пакета numpy"
   ]
  },
  {
   "cell_type": "code",
   "execution_count": 42,
   "metadata": {},
   "outputs": [
    {
     "data": {
      "text/plain": [
       "7.0685834705770345"
      ]
     },
     "execution_count": 42,
     "metadata": {},
     "output_type": "execute_result"
    }
   ],
   "source": [
    "# Пакет math устанавливается вместе с питоном\n",
    "import math\n",
    "r = 1.5\n",
    "area = math.pi*r*r\n",
    "area"
   ]
  },
  {
   "cell_type": "code",
   "execution_count": 43,
   "metadata": {},
   "outputs": [
    {
     "data": {
      "text/plain": [
       "0.7853981633974483"
      ]
     },
     "execution_count": 43,
     "metadata": {},
     "output_type": "execute_result"
    }
   ],
   "source": [
    "#Можно выполнить частичный импорт\n",
    "from math import radians\n",
    "length = r * radians(30)\n",
    "length"
   ]
  },
  {
   "cell_type": "markdown",
   "metadata": {},
   "source": [
    "# Numpy"
   ]
  },
  {
   "cell_type": "code",
   "execution_count": 44,
   "metadata": {},
   "outputs": [],
   "source": [
    "#Это пакет для численных вычислений. Позволяет быстро и эффективно выполнять операции над массивами данных.\n",
    "#Отличная альтернатива для представления списков\n",
    "\n",
    "import numpy as np\n",
    "\n",
    "np_rand = np.random.random(10)  # создать массив из 10 случайных чисел\n",
    "rand = np_rand.tolist()   # из  np_rand делаем обычный список"
   ]
  },
  {
   "cell_type": "code",
   "execution_count": 45,
   "metadata": {},
   "outputs": [
    {
     "data": {
      "text/plain": [
       "array([0.04936267, 0.78066465, 0.46402517, 0.9449689 , 0.49615435,\n",
       "       0.49017592, 0.90871778, 0.03360413, 0.95010964, 0.58578564])"
      ]
     },
     "execution_count": 45,
     "metadata": {},
     "output_type": "execute_result"
    }
   ],
   "source": [
    "np_rand"
   ]
  },
  {
   "cell_type": "code",
   "execution_count": 46,
   "metadata": {},
   "outputs": [
    {
     "data": {
      "text/plain": [
       "[0.04936267216283552,\n",
       " 0.7806646453662431,\n",
       " 0.4640251655929004,\n",
       " 0.9449688989323839,\n",
       " 0.4961543485413381,\n",
       " 0.4901759152025401,\n",
       " 0.9087177839203436,\n",
       " 0.033604129667485605,\n",
       " 0.9501096406801489,\n",
       " 0.5857856434647326]"
      ]
     },
     "execution_count": 46,
     "metadata": {},
     "output_type": "execute_result"
    }
   ],
   "source": [
    "rand"
   ]
  },
  {
   "cell_type": "code",
   "execution_count": null,
   "metadata": {},
   "outputs": [],
   "source": [
    "# измеряем среднее и стандартное отклонение времени поиска максимума\n",
    "timeit max(rand)"
   ]
  },
  {
   "cell_type": "code",
   "execution_count": 48,
   "metadata": {},
   "outputs": [
    {
     "name": "stdout",
     "output_type": "stream",
     "text": [
      "9.23 µs ± 1.07 µs per loop (mean ± std. dev. of 7 runs, 100000 loops each)\n"
     ]
    }
   ],
   "source": [
    "timeit np_rand.max()"
   ]
  },
  {
   "cell_type": "markdown",
   "metadata": {},
   "source": [
    "# Matplotlib. Добавляем графики"
   ]
  },
  {
   "cell_type": "code",
   "execution_count": 54,
   "metadata": {},
   "outputs": [],
   "source": [
    "import matplotlib.pyplot as plt\n",
    "import numpy as np"
   ]
  },
  {
   "cell_type": "code",
   "execution_count": 60,
   "metadata": {},
   "outputs": [
    {
     "data": {
      "image/png": "[encoded data removed]",
      "text/plain": [
       "<Figure size 432x288 with 1 Axes>"
      ]
     },
     "metadata": {
      "needs_background": "light"
     },
     "output_type": "display_data"
    }
   ],
   "source": [
    "x = 1  # значение аргумента\n",
    "y = 3  # значение функции\n",
    "plt.plot(x, y) # график проведет линию от (x[i],y[i]) к (x[i+1], y[i+1]), i = 0.1 и т д\n",
    "plt.show() # функция показа"
   ]
  },
  {
   "cell_type": "code",
   "execution_count": 67,
   "metadata": {},
   "outputs": [
    {
     "data": {
      "image/png": "[encoded data removed]",
      "text/plain": [
       "<Figure size 432x288 with 1 Axes>"
      ]
     },
     "metadata": {
      "needs_background": "light"
     },
     "output_type": "display_data"
    }
   ],
   "source": [
    "import matplotlib.pyplot as plt\n",
    "import numpy as np\n",
    "\n",
    "# Данные для построения графиков\n",
    "x = np.array(np.arange(-1,1.1,0.1))\n",
    "y = x\n",
    "y2 = x**2  # numpy выполняет операции над каждым элементом массива x\n",
    "y3 = x**3\n",
    "\n",
    "# Строим график\n",
    "\n",
    "plt.plot(x, y, label = 'y')   # на одном графике можно размещать несколько функций\n",
    "plt.plot(x, y2, label = 'y2')\n",
    "plt.plot(x, y3, label = 'y3')\n",
    "\n",
    "plt.xlabel('x')\n",
    "plt.ylabel(\"y, y2, y3\")\n",
    "\n",
    "plt.legend()\n",
    "\n",
    "plt.title(\"y = x, y2 = x ** 2, y3 = x ** 3\")\n",
    "plt.show()\n"
   ]
  },
  {
   "cell_type": "markdown",
   "metadata": {},
   "source": [
    "# гистограммы"
   ]
  },
  {
   "cell_type": "code",
   "execution_count": 68,
   "metadata": {},
   "outputs": [],
   "source": [
    "import matplotlib.pyplot as plt\n",
    "import numpy as np"
   ]
  },
  {
   "cell_type": "code",
   "execution_count": 72,
   "metadata": {},
   "outputs": [
    {
     "data": {
      "text/plain": [
       "Text(0, 0.5, 'число попаданий в интервал')"
      ]
     },
     "execution_count": 72,
     "metadata": {},
     "output_type": "execute_result"
    },
    {
     "data": {
      "image/png": "[encoded data removed]",
      "text/plain": [
       "<Figure size 432x288 with 1 Axes>"
      ]
     },
     "metadata": {
      "needs_background": "light"
     },
     "output_type": "display_data"
    }
   ],
   "source": [
    "# Данные для построения графиков\n",
    "x = np.random.normal(size = 10000)\n",
    "plt.hist(x) # строим гистограмму она показывает сколько данных из набора в какой интервал попало\n",
    "plt.grid()  # рисуем сетку\n",
    "plt.xlabel(\"значения\")\n",
    "plt.ylabel(\"число попаданий в интервал\")\n",
    "plt.title('Гистограмма 10000 случайных чисел')\n",
    "\n"
   ]
  },
  {
   "cell_type": "markdown",
   "metadata": {},
   "source": [
    "Рисуем график точками"
   ]
  },
  {
   "cell_type": "code",
   "execution_count": 74,
   "metadata": {},
   "outputs": [
    {
     "data": {
      "image/png": "[encoded data removed]",
      "text/plain": [
       "<Figure size 432x288 with 1 Axes>"
      ]
     },
     "metadata": {
      "needs_background": "light"
     },
     "output_type": "display_data"
    }
   ],
   "source": [
    "x = np.array(np.arange(-1, 1, 2/300))\n",
    "y = np.random.normal(loc = 0, scale = 0.2, size = 300) + x\n",
    "plt.scatter(x, y)\n",
    "plt.grid()\n",
    "plt.xlabel('X')\n",
    "plt.ylabel('Y = X + norm(0, 0.2)')\n",
    "plt.title('Значения со случайной составляющей')\n",
    "plt.show()"
   ]
  },
  {
   "cell_type": "markdown",
   "metadata": {},
   "source": [
    "# Словари и фреймы"
   ]
  },
  {
   "cell_type": "code",
   "execution_count": 76,
   "metadata": {},
   "outputs": [
    {
     "data": {
      "text/plain": [
       "{'Строка 1': 'Текстовая строка', 'Число': 234}"
      ]
     },
     "execution_count": 76,
     "metadata": {},
     "output_type": "execute_result"
    }
   ],
   "source": [
    "# Cловари в питоне предназначены для хранения пар значений key-value.\n",
    "# Создать словарь a , заносим в него два значения\n",
    "\n",
    "a = {}\n",
    "a['Строка 1'] = 'Текстовая строка'\n",
    "a[\"Число\"] = 234\n",
    "a"
   ]
  },
  {
   "cell_type": "code",
   "execution_count": 77,
   "metadata": {},
   "outputs": [
    {
     "data": {
      "text/plain": [
       "'Текстовая строка'"
      ]
     },
     "execution_count": 77,
     "metadata": {},
     "output_type": "execute_result"
    }
   ],
   "source": [
    "a['Строка 1']"
   ]
  },
  {
   "cell_type": "code",
   "execution_count": 78,
   "metadata": {},
   "outputs": [
    {
     "name": "stdout",
     "output_type": "stream",
     "text": [
      "2\n"
     ]
    }
   ],
   "source": [
    "#печатаем число элементов словаря\n",
    "print(len(a))"
   ]
  },
  {
   "cell_type": "code",
   "execution_count": 82,
   "metadata": {},
   "outputs": [
    {
     "name": "stdout",
     "output_type": "stream",
     "text": [
      "['Текстовая', 'строка'] 498\n"
     ]
    }
   ],
   "source": [
    "#Делим строку на слова\n",
    "b = a['Строка 1'].split(\" \")\n",
    "a['Число'] = a['Число'] + 66\n",
    "\n",
    "print(b, a['Число'])"
   ]
  },
  {
   "cell_type": "code",
   "execution_count": 83,
   "metadata": {},
   "outputs": [
    {
     "data": {
      "text/plain": [
       "{'Число': 498}"
      ]
     },
     "execution_count": 83,
     "metadata": {},
     "output_type": "execute_result"
    }
   ],
   "source": [
    "# Удаление элемента из словаря\n",
    "del a['Строка 1']\n",
    "a"
   ]
  },
  {
   "cell_type": "markdown",
   "metadata": {},
   "source": [
    "Создание словаря:"
   ]
  },
  {
   "cell_type": "code",
   "execution_count": 85,
   "metadata": {},
   "outputs": [],
   "source": [
    "countries = {\n",
    "    'Австрия':\n",
    "        {'столица': 'Вена', 'население': 8.86, 'ввп': 445.1},\n",
    "    \"Чехия\":\n",
    "        {'столица': 'Прага', 'население': 10.65, 'ввп': 250.7},\n",
    "    \"Германия\":\n",
    "        {'столица': 'Берлин', 'население': 82.02, 'ввп': 3861},\n",
    "    \"Дания\":\n",
    "        {'столица': 'Копенгаген', 'население': 5.806, 'ввп': 350.1} \n",
    "}"
   ]
  },
  {
   "cell_type": "code",
   "execution_count": 86,
   "metadata": {},
   "outputs": [
    {
     "data": {
      "text/plain": [
       "{'Австрия': {'столица': 'Вена', 'население': 8.86, 'ввп': 445.1},\n",
       " 'Чехия': {'столица': 'Прага', 'население': 10.65, 'ввп': 250.7},\n",
       " 'Германия': {'столица': 'Берлин', 'население': 82.02, 'ввп': 3861},\n",
       " 'Дания': {'столица': 'Копенгаген', 'население': 5.806, 'ввп': 350.1}}"
      ]
     },
     "execution_count": 86,
     "metadata": {},
     "output_type": "execute_result"
    }
   ],
   "source": [
    "# Полная информация из словарю по странам\n",
    "countries"
   ]
  },
  {
   "cell_type": "code",
   "execution_count": 87,
   "metadata": {},
   "outputs": [
    {
     "data": {
      "text/plain": [
       "{'столица': 'Прага', 'население': 10.65, 'ввп': 250.7}"
      ]
     },
     "execution_count": 87,
     "metadata": {},
     "output_type": "execute_result"
    }
   ],
   "source": [
    "# Выборка из словаря страны\n",
    "countries['Чехия']"
   ]
  },
  {
   "cell_type": "code",
   "execution_count": 88,
   "metadata": {},
   "outputs": [
    {
     "data": {
      "text/plain": [
       "10.65"
      ]
     },
     "execution_count": 88,
     "metadata": {},
     "output_type": "execute_result"
    }
   ],
   "source": [
    "# выборка из словаря стран,население в стране ЧЕХИЯ \n",
    "countries['Чехия']['население']"
   ]
  },
  {
   "cell_type": "code",
   "execution_count": 89,
   "metadata": {},
   "outputs": [
    {
     "data": {
      "text/plain": [
       "['Австрия', 'Чехия', 'Германия', 'Дания']"
      ]
     },
     "execution_count": 89,
     "metadata": {},
     "output_type": "execute_result"
    }
   ],
   "source": [
    " # получить списки ключей(keys()) \n",
    "list(countries.keys())"
   ]
  },
  {
   "cell_type": "code",
   "execution_count": 90,
   "metadata": {},
   "outputs": [
    {
     "data": {
      "text/plain": [
       "[{'столица': 'Вена', 'население': 8.86, 'ввп': 445.1},\n",
       " {'столица': 'Прага', 'население': 10.65, 'ввп': 250.7},\n",
       " {'столица': 'Берлин', 'население': 82.02, 'ввп': 3861},\n",
       " {'столица': 'Копенгаген', 'население': 5.806, 'ввп': 350.1}]"
      ]
     },
     "execution_count": 90,
     "metadata": {},
     "output_type": "execute_result"
    }
   ],
   "source": [
    "# получить списки значений(values())\n",
    "list(countries.values())"
   ]
  },
  {
   "cell_type": "markdown",
   "metadata": {},
   "source": [
    "# Pandas. Фреймы данных"
   ]
  },
  {
   "cell_type": "code",
   "execution_count": 91,
   "metadata": {},
   "outputs": [],
   "source": [
    "import pandas as pd"
   ]
  },
  {
   "cell_type": "code",
   "execution_count": 97,
   "metadata": {},
   "outputs": [],
   "source": [
    "# Фрейм данных создадим из словаря:\n",
    "country = ['Австралия', 'Чехия', 'Германия', 'Дания', 'Франция', 'Голандия', 'Бельгия']  # список стран\n",
    "population = [8.86, 10.65, 82.02, 5.806, 67.06, 17.28, 11.46]  # список данных по численности населения\n",
    "gdp = [445.1, 250.7, 3861, 350.1, 2716, 907.1, 533.1] # значение внутреннего валового продукта"
   ]
  },
  {
   "cell_type": "code",
   "execution_count": 101,
   "metadata": {},
   "outputs": [
    {
     "data": {
      "text/plain": [
       "{'countries': ['Австралия',\n",
       "  'Чехия',\n",
       "  'Германия',\n",
       "  'Дания',\n",
       "  'Франция',\n",
       "  'Голандия',\n",
       "  'Бельгия'],\n",
       " 'population': [8.86, 10.65, 82.02, 5.806, 67.06, 17.28, 11.46],\n",
       " 'gdp': [445.1, 250.7, 3861, 350.1, 2716, 907.1, 533.1]}"
      ]
     },
     "execution_count": 101,
     "metadata": {},
     "output_type": "execute_result"
    }
   ],
   "source": [
    "# Создать словарь:\n",
    "country_dict = {'countries': country, 'population': population, 'gdp': gdp}\n",
    "country_dict"
   ]
  },
  {
   "cell_type": "code",
   "execution_count": 102,
   "metadata": {},
   "outputs": [
    {
     "data": {
      "text/html": [
       "<div>\n",
       "<style scoped>\n",
       "    .dataframe tbody tr th:only-of-type {\n",
       "        vertical-align: middle;\n",
       "    }\n",
       "\n",
       "    .dataframe tbody tr th {\n",
       "        vertical-align: top;\n",
       "    }\n",
       "\n",
       "    .dataframe thead th {\n",
       "        text-align: right;\n",
       "    }\n",
       "</style>\n",
       "<table border=\"1\" class=\"dataframe\">\n",
       "  <thead>\n",
       "    <tr style=\"text-align: right;\">\n",
       "      <th></th>\n",
       "      <th>countries</th>\n",
       "      <th>population</th>\n",
       "      <th>gdp</th>\n",
       "    </tr>\n",
       "  </thead>\n",
       "  <tbody>\n",
       "    <tr>\n",
       "      <th>0</th>\n",
       "      <td>Австралия</td>\n",
       "      <td>8.860</td>\n",
       "      <td>445.1</td>\n",
       "    </tr>\n",
       "    <tr>\n",
       "      <th>1</th>\n",
       "      <td>Чехия</td>\n",
       "      <td>10.650</td>\n",
       "      <td>250.7</td>\n",
       "    </tr>\n",
       "    <tr>\n",
       "      <th>2</th>\n",
       "      <td>Германия</td>\n",
       "      <td>82.020</td>\n",
       "      <td>3861.0</td>\n",
       "    </tr>\n",
       "    <tr>\n",
       "      <th>3</th>\n",
       "      <td>Дания</td>\n",
       "      <td>5.806</td>\n",
       "      <td>350.1</td>\n",
       "    </tr>\n",
       "    <tr>\n",
       "      <th>4</th>\n",
       "      <td>Франция</td>\n",
       "      <td>67.060</td>\n",
       "      <td>2716.0</td>\n",
       "    </tr>\n",
       "    <tr>\n",
       "      <th>5</th>\n",
       "      <td>Голандия</td>\n",
       "      <td>17.280</td>\n",
       "      <td>907.1</td>\n",
       "    </tr>\n",
       "    <tr>\n",
       "      <th>6</th>\n",
       "      <td>Бельгия</td>\n",
       "      <td>11.460</td>\n",
       "      <td>533.1</td>\n",
       "    </tr>\n",
       "  </tbody>\n",
       "</table>\n",
       "</div>"
      ],
      "text/plain": [
       "   countries  population     gdp\n",
       "0  Австралия       8.860   445.1\n",
       "1      Чехия      10.650   250.7\n",
       "2   Германия      82.020  3861.0\n",
       "3      Дания       5.806   350.1\n",
       "4    Франция      67.060  2716.0\n",
       "5   Голандия      17.280   907.1\n",
       "6    Бельгия      11.460   533.1"
      ]
     },
     "execution_count": 102,
     "metadata": {},
     "output_type": "execute_result"
    }
   ],
   "source": [
    "# Создаем из словаря фрейм данных\n",
    "df_country = pd.DataFrame(country_dict)\n",
    "df_country"
   ]
  },
  {
   "cell_type": "code",
   "execution_count": 107,
   "metadata": {},
   "outputs": [
    {
     "data": {
      "text/html": [
       "<div>\n",
       "<style scoped>\n",
       "    .dataframe tbody tr th:only-of-type {\n",
       "        vertical-align: middle;\n",
       "    }\n",
       "\n",
       "    .dataframe tbody tr th {\n",
       "        vertical-align: top;\n",
       "    }\n",
       "\n",
       "    .dataframe thead th {\n",
       "        text-align: right;\n",
       "    }\n",
       "</style>\n",
       "<table border=\"1\" class=\"dataframe\">\n",
       "  <thead>\n",
       "    <tr style=\"text-align: right;\">\n",
       "      <th></th>\n",
       "      <th>population</th>\n",
       "      <th>gdp</th>\n",
       "    </tr>\n",
       "  </thead>\n",
       "  <tbody>\n",
       "    <tr>\n",
       "      <th>count</th>\n",
       "      <td>7.000000</td>\n",
       "      <td>7.000000</td>\n",
       "    </tr>\n",
       "    <tr>\n",
       "      <th>mean</th>\n",
       "      <td>29.019429</td>\n",
       "      <td>1294.728571</td>\n",
       "    </tr>\n",
       "    <tr>\n",
       "      <th>std</th>\n",
       "      <td>31.583210</td>\n",
       "      <td>1416.585273</td>\n",
       "    </tr>\n",
       "    <tr>\n",
       "      <th>min</th>\n",
       "      <td>5.806000</td>\n",
       "      <td>250.700000</td>\n",
       "    </tr>\n",
       "    <tr>\n",
       "      <th>25%</th>\n",
       "      <td>9.755000</td>\n",
       "      <td>397.600000</td>\n",
       "    </tr>\n",
       "    <tr>\n",
       "      <th>50%</th>\n",
       "      <td>11.460000</td>\n",
       "      <td>533.100000</td>\n",
       "    </tr>\n",
       "    <tr>\n",
       "      <th>75%</th>\n",
       "      <td>42.170000</td>\n",
       "      <td>1811.550000</td>\n",
       "    </tr>\n",
       "    <tr>\n",
       "      <th>max</th>\n",
       "      <td>82.020000</td>\n",
       "      <td>3861.000000</td>\n",
       "    </tr>\n",
       "  </tbody>\n",
       "</table>\n",
       "</div>"
      ],
      "text/plain": [
       "       population          gdp\n",
       "count    7.000000     7.000000\n",
       "mean    29.019429  1294.728571\n",
       "std     31.583210  1416.585273\n",
       "min      5.806000   250.700000\n",
       "25%      9.755000   397.600000\n",
       "50%     11.460000   533.100000\n",
       "75%     42.170000  1811.550000\n",
       "max     82.020000  3861.000000"
      ]
     },
     "execution_count": 107,
     "metadata": {},
     "output_type": "execute_result"
    }
   ],
   "source": [
    "df_country.describe() # обобщенные данные 50%-медиана, 25% и 75% - процентили"
   ]
  },
  {
   "cell_type": "code",
   "execution_count": 108,
   "metadata": {},
   "outputs": [
    {
     "data": {
      "text/plain": [
       "countries     7\n",
       "population    7\n",
       "gdp           7\n",
       "dtype: int64"
      ]
     },
     "execution_count": 108,
     "metadata": {},
     "output_type": "execute_result"
    }
   ],
   "source": [
    "df_country.count()  # Число строк во фрейме"
   ]
  },
  {
   "cell_type": "code",
   "execution_count": 109,
   "metadata": {},
   "outputs": [
    {
     "data": {
      "text/plain": [
       "population      29.019429\n",
       "gdp           1294.728571\n",
       "dtype: float64"
      ]
     },
     "execution_count": 109,
     "metadata": {},
     "output_type": "execute_result"
    }
   ],
   "source": [
    "df_country.mean()  # среднее значение"
   ]
  },
  {
   "cell_type": "code",
   "execution_count": 110,
   "metadata": {},
   "outputs": [
    {
     "data": {
      "text/plain": [
       "population      31.583210\n",
       "gdp           1416.585273\n",
       "dtype: float64"
      ]
     },
     "execution_count": 110,
     "metadata": {},
     "output_type": "execute_result"
    }
   ],
   "source": [
    "df_country.std() # Стандартное отклонение(характеризует разброс)"
   ]
  },
  {
   "cell_type": "code",
   "execution_count": 111,
   "metadata": {},
   "outputs": [
    {
     "data": {
      "text/plain": [
       "countries     Австралия\n",
       "population        5.806\n",
       "gdp               250.7\n",
       "dtype: object"
      ]
     },
     "execution_count": 111,
     "metadata": {},
     "output_type": "execute_result"
    }
   ],
   "source": [
    "df_country.min() # минимальное значение"
   ]
  },
  {
   "cell_type": "code",
   "execution_count": 113,
   "metadata": {},
   "outputs": [
    {
     "data": {
      "text/plain": [
       "countries     Чехия\n",
       "population    82.02\n",
       "gdp            3861\n",
       "dtype: object"
      ]
     },
     "execution_count": 113,
     "metadata": {},
     "output_type": "execute_result"
    }
   ],
   "source": [
    "df_country.max() # максимальное значение"
   ]
  },
  {
   "cell_type": "code",
   "execution_count": 115,
   "metadata": {},
   "outputs": [],
   "source": [
    "#Cтроим графики\n",
    "import matplotlib.pyplot as plt"
   ]
  },
  {
   "cell_type": "code",
   "execution_count": 116,
   "metadata": {},
   "outputs": [
    {
     "data": {
      "text/plain": [
       "<AxesSubplot:xlabel='countries'>"
      ]
     },
     "execution_count": 116,
     "metadata": {},
     "output_type": "execute_result"
    },
    {
     "data": {
      "image/png": "[encoded data removed]",
      "text/plain": [
       "<Figure size 432x288 with 1 Axes>"
      ]
     },
     "metadata": {
      "needs_background": "light"
     },
     "output_type": "display_data"
    }
   ],
   "source": [
    "df_country.plot(x = 'countries', y = 'gdp', kind = 'bar')  # По х будут страны по у ВВП"
   ]
  },
  {
   "cell_type": "markdown",
   "metadata": {},
   "source": [
    "# Операции сравнения, логические операции, ЦИКЛЫ"
   ]
  },
  {
   "cell_type": "code",
   "execution_count": 118,
   "metadata": {},
   "outputs": [
    {
     "data": {
      "text/plain": [
       "False"
      ]
     },
     "execution_count": 118,
     "metadata": {},
     "output_type": "execute_result"
    }
   ],
   "source": [
    "# True и False .Операции сравнения.\n",
    "# == , !=,  >, <,  >=,  <=\n",
    "a = True\n",
    "a > True\n"
   ]
  },
  {
   "cell_type": "code",
   "execution_count": 119,
   "metadata": {},
   "outputs": [
    {
     "data": {
      "text/plain": [
       "True"
      ]
     },
     "execution_count": 119,
     "metadata": {},
     "output_type": "execute_result"
    }
   ],
   "source": [
    "b = 7\n",
    "3 + 4 == 7"
   ]
  },
  {
   "cell_type": "code",
   "execution_count": 120,
   "metadata": {},
   "outputs": [
    {
     "data": {
      "text/plain": [
       "False"
      ]
     },
     "execution_count": 120,
     "metadata": {},
     "output_type": "execute_result"
    }
   ],
   "source": [
    "# Лексикографическое сравнение\n",
    "\"Красный\" == \"Синий\""
   ]
  },
  {
   "cell_type": "code",
   "execution_count": 123,
   "metadata": {},
   "outputs": [
    {
     "data": {
      "text/plain": [
       "array([ True,  True,  True])"
      ]
     },
     "execution_count": 123,
     "metadata": {},
     "output_type": "execute_result"
    }
   ],
   "source": [
    "# Cравнивать можно даже np maссивы\n",
    "import numpy as np\n",
    "\n",
    "arr1 = np.array([1, 2, 3])\n",
    "arr2 = np.array([1, 1 + 1, 3])\n",
    "\n",
    "arr1 == arr2\n"
   ]
  },
  {
   "cell_type": "code",
   "execution_count": 124,
   "metadata": {},
   "outputs": [
    {
     "data": {
      "text/plain": [
       "True"
      ]
     },
     "execution_count": 124,
     "metadata": {},
     "output_type": "execute_result"
    }
   ],
   "source": [
    "# Логические операции выполняются над булевскими значениями\n",
    "#             OR and NOT\n",
    "True or 7-1 > 5"
   ]
  },
  {
   "cell_type": "code",
   "execution_count": 125,
   "metadata": {},
   "outputs": [
    {
     "data": {
      "text/plain": [
       "True"
      ]
     },
     "execution_count": 125,
     "metadata": {},
     "output_type": "execute_result"
    }
   ],
   "source": [
    "x = 17\n",
    "x != 6 and x > 3"
   ]
  },
  {
   "cell_type": "code",
   "execution_count": 126,
   "metadata": {},
   "outputs": [
    {
     "data": {
      "text/plain": [
       "False"
      ]
     },
     "execution_count": 126,
     "metadata": {},
     "output_type": "execute_result"
    }
   ],
   "source": [
    "d = False\n",
    "2**2 > 5 and not d"
   ]
  },
  {
   "cell_type": "markdown",
   "metadata": {},
   "source": [
    "Для логических операций имеются методы в numpy"
   ]
  },
  {
   "cell_type": "code",
   "execution_count": 127,
   "metadata": {},
   "outputs": [
    {
     "name": "stdout",
     "output_type": "stream",
     "text": [
      "[False  True False]\n",
      "[False False False]\n"
     ]
    }
   ],
   "source": [
    "import numpy as np\n",
    "a1 = np.array([17, 19, -3])\n",
    "a2 = np.array([6, -4, -10])\n",
    "\n",
    "print(np.logical_or(a1 > 18, a1 == 5))\n",
    "print(np.logical_and(a2 > 10, a2 < 5))"
   ]
  },
  {
   "cell_type": "markdown",
   "metadata": {},
   "source": [
    "Длинные строки или составные части операторов можно переносить. Сдвиг на новой строке устанавливается произвольно\n",
    "(не менее двух пробелов) и должен быть везде одинаковым"
   ]
  },
  {
   "cell_type": "code",
   "execution_count": 128,
   "metadata": {},
   "outputs": [
    {
     "name": "stdout",
     "output_type": "stream",
     "text": [
      "medium\n"
     ]
    }
   ],
   "source": [
    "length = 1000.0\n",
    "if(length < 900):\n",
    "    print(\"small\")\n",
    "elif(length < 1200):\n",
    "    print(\"medium\")\n",
    "else:\n",
    "    print(\"large\")"
   ]
  },
  {
   "cell_type": "markdown",
   "metadata": {},
   "source": [
    "Циклы for и while"
   ]
  },
  {
   "cell_type": "code",
   "execution_count": 130,
   "metadata": {},
   "outputs": [
    {
     "name": "stdout",
     "output_type": "stream",
     "text": [
      "t\n",
      "1\n",
      "te\n",
      "2\n",
      "tex\n",
      "3\n",
      "text\n",
      "4\n"
     ]
    }
   ],
   "source": [
    "# Цикл While исполняет операции в теле цикла до тех пор, пока условие выполнения имеет значение истина \n",
    "# Изменяется число выводимых на печать символов строки\n",
    "t = 'text'\n",
    "ind = 1\n",
    "while ind <= 4:\n",
    "   \n",
    "    print(t[:ind])\n",
    "    print(ind)\n",
    "    ind += 1\n",
    "    "
   ]
  },
  {
   "cell_type": "code",
   "execution_count": 131,
   "metadata": {},
   "outputs": [
    {
     "name": "stdout",
     "output_type": "stream",
     "text": [
      "1\n",
      "2\n",
      "4\n"
     ]
    }
   ],
   "source": [
    "# вычисляется переменная, входящая в условие выполнения цикла\n",
    "x = 1\n",
    "\n",
    "while x <= 4:\n",
    "    print(x)\n",
    "    x = x * 2"
   ]
  },
  {
   "cell_type": "code",
   "execution_count": 133,
   "metadata": {},
   "outputs": [
    {
     "name": "stdout",
     "output_type": "stream",
     "text": [
      "110.25\n",
      "800.0\n",
      "230.0\n"
     ]
    }
   ],
   "source": [
    "# Цикл for удобен для работы с коллекциями данных такими,как списки,словари,массивы numpy, фреймы pandas\n",
    "\n",
    "# Расстояния до выходов из парка\n",
    "\n",
    "distance = [110.25, 800.0, 230.0]\n",
    "\n",
    "for dist in distance:\n",
    "    print(dist)"
   ]
  },
  {
   "cell_type": "code",
   "execution_count": 136,
   "metadata": {},
   "outputs": [
    {
     "name": "stdout",
     "output_type": "stream",
     "text": [
      "выход 0:110.25\n",
      "выход 1:800.0\n",
      "выход 2:230.0\n"
     ]
    }
   ],
   "source": [
    "# Функция enumerate() присваивает индексы элементым списка\n",
    "\n",
    "distance = [110.25, 800.0, 230.0]\n",
    "\n",
    "for index,dist in enumerate(distance):\n",
    "    print(\"выход \" + str(index) + \":\" + str(dist))"
   ]
  },
  {
   "cell_type": "markdown",
   "metadata": {},
   "source": [
    "for и одномерные массивы"
   ]
  },
  {
   "cell_type": "code",
   "execution_count": 137,
   "metadata": {},
   "outputs": [
    {
     "name": "stdout",
     "output_type": "stream",
     "text": [
      "1\n",
      "2\n",
      "3\n"
     ]
    }
   ],
   "source": [
    "# Элементы массива можно перебирать также как и обычные списки\n",
    "\n",
    "import numpy as np\n",
    "\n",
    "a = [1, 2, 3]\n",
    "c = np.array(a)\n",
    "\n",
    "for el in c:\n",
    "    print(el)"
   ]
  },
  {
   "cell_type": "markdown",
   "metadata": {},
   "source": [
    "for и двумерные массивы"
   ]
  },
  {
   "cell_type": "code",
   "execution_count": 143,
   "metadata": {},
   "outputs": [
    {
     "data": {
      "text/plain": [
       "array([[  1,   2,   3],\n",
       "       [  7,   8, -11]])"
      ]
     },
     "execution_count": 143,
     "metadata": {},
     "output_type": "execute_result"
    }
   ],
   "source": [
    "import numpy as np\n",
    "\n",
    "a = [1, 2, 3]\n",
    "b = [7, 8, -11]\n",
    "\n",
    "\n",
    "x = np.array([a, b])\n",
    "x"
   ]
  },
  {
   "cell_type": "code",
   "execution_count": 144,
   "metadata": {},
   "outputs": [
    {
     "name": "stdout",
     "output_type": "stream",
     "text": [
      "1\n",
      "2\n",
      "3\n",
      "7\n",
      "8\n",
      "-11\n"
     ]
    }
   ],
   "source": [
    "import numpy as np\n",
    "\n",
    "a = [1, 2, 3]\n",
    "b = [7, 8, -11]\n",
    "\n",
    "x = np.array([a, b])\n",
    "for el in np.nditer(x):\n",
    "    print(el)"
   ]
  },
  {
   "cell_type": "markdown",
   "metadata": {},
   "source": [
    "СОЗДАТЬ ДАТА ФРЭЙМ ИЗ ФАЙЛА CSV"
   ]
  },
  {
   "cell_type": "code",
   "execution_count": null,
   "metadata": {},
   "outputs": [],
   "source": [
    "import pandas as pd\n",
    "\n",
    "df = pd.read_csv(\"capitals.csv\", index_col = 0, header = 0)\n",
    "df"
   ]
  },
  {
   "cell_type": "raw",
   "metadata": {},
   "source": [
    "Выбираем колонки . Квадратные скобки\n",
    "В квадратные скобки с дата-фреймами используются  для выбора колонок.\n",
    "Одинарные скобки дадут результат типа Series\n",
    "\n",
    "dfs = df['Страна']\n",
    "type(dfs)\n",
    "pandas.core.series.Series\n",
    "\n",
    "Двойные скобки типа DataFrame\n",
    "dfd = df[['Страна']]\n",
    "type(dfs)\n",
    "pandas.core.frame.DataFrame"
   ]
  },
  {
   "cell_type": "markdown",
   "metadata": {},
   "source": [
    "несколько колонок"
   ]
  },
  {
   "cell_type": "code",
   "execution_count": null,
   "metadata": {},
   "outputs": [],
   "source": [
    "# Для того чтобы выбрать несколько колонок их следует перечислить через запятую\n",
    "dfd2 = df[['Страна', 'Население']]\n",
    "dfd2"
   ]
  },
  {
   "cell_type": "markdown",
   "metadata": {},
   "source": [
    "Фильтрация"
   ]
  },
  {
   "cell_type": "code",
   "execution_count": null,
   "metadata": {},
   "outputs": [],
   "source": [
    "df[df[\"Население\"] > 2900000]"
   ]
  },
  {
   "cell_type": "markdown",
   "metadata": {},
   "source": [
    "Условие"
   ]
  },
  {
   "cell_type": "code",
   "execution_count": null,
   "metadata": {},
   "outputs": [],
   "source": [
    "df[df['Столица'] > 'Берлин']"
   ]
  },
  {
   "cell_type": "markdown",
   "metadata": {},
   "source": [
    "Свойства loc и iloc для выбора строки с индексом i"
   ]
  },
  {
   "cell_type": "code",
   "execution_count": null,
   "metadata": {},
   "outputs": [],
   "source": [
    "i = 1\n",
    "df.iloc[[i]]"
   ]
  },
  {
   "cell_type": "code",
   "execution_count": null,
   "metadata": {},
   "outputs": [],
   "source": [
    "#Выбрать несколько строк\n",
    "df.iloc[[1,3]]"
   ]
  },
  {
   "cell_type": "code",
   "execution_count": null,
   "metadata": {},
   "outputs": [],
   "source": [
    "# Со строками DataFrame тоже используют ЦИКЛЫ\n",
    "for i in range(4):\n",
    "    print(df.iloc[[i], [1]].values[0])\n",
    "    \n",
    "    где [i]       - номер строки\n",
    "        [1]       - номер колонки\n",
    "  values[0]       -элемент из списка значений"
   ]
  },
  {
   "cell_type": "code",
   "execution_count": null,
   "metadata": {},
   "outputs": [],
   "source": [
    "# Еще один \"хитрый\" цикл при работе с pandas DataFrame\n",
    "\n",
    "import pandas as pd\n",
    "\n",
    "df = pd.read_csv(\"capitals.csv\", index_col = 0, header = 0)"
   ]
  },
  {
   "cell_type": "code",
   "execution_count": null,
   "metadata": {},
   "outputs": [],
   "source": [
    "for ind, row in df.iterrows():\n",
    "    print(ind)\n",
    "    print(row)"
   ]
  },
  {
   "cell_type": "markdown",
   "metadata": {},
   "source": [
    "# Случайный поиск, робот проходит лабиринт"
   ]
  },
  {
   "cell_type": "markdown",
   "metadata": {},
   "source": [
    "ПЕРВЫЙ ПРОЭКТ НА ПИТОНЕ"
   ]
  },
  {
   "cell_type": "raw",
   "metadata": {},
   "source": [
    "Робот и лабиринт:\n",
    "    Выполним небольшой исследовательский проэкт.Есть игровое приложение,в котором маленькому роботу нужно\n",
    "    найти в лабиринте портал для перехода на другой уровень.\n",
    "    Робот перебегает из помещения в помещение,до тех пор, пока не найдет портал.Номера помешений \n",
    "    и возможные переходы указаны на плане."
   ]
  },
  {
   "cell_type": "raw",
   "metadata": {},
   "source": [
    "Берем на вооружение хакерскую статистику:\n",
    "    \n",
    "    1.Робот перед началом поиска портала должен знать, сколько переходов он сделает до выхода из лабиринта\n",
    "    \n",
    "    2.У НАС НЕТ РЕАЛЬНЫХ ИЗМЕРЕНИЙ прохождений другими роботами этого лабиринта, но мы знаем, что, находясь\n",
    "       в помещении,робот выбирает новое помещение СЛУЧАЙНЫМ образом. То из какого помещения он пришел,при \n",
    "       выборе перехода, робот не учитывает\n",
    "    \n",
    "    3.МЫ ЗНАЕМ ПЛАН ЛАБИРИНТА, ЗНАЕМ КАК РОБОТ ПРИНИМАЕТ РЕШЕНИЕ, а значит можем построить модель прохождения лабиринта.\n",
    "      В модели для выбора перехода будем использовать случайные числа!\n",
    "        \n",
    "    4.Все что узнаем о переходах сообщим роботу!\n",
    "    \n",
    "    5.Прием получения недостающих для статистики данных программным моделированием называется \"хакерская статистика\"!"
   ]
  },
  {
   "cell_type": "markdown",
   "metadata": {},
   "source": [
    "Строим модель:"
   ]
  },
  {
   "cell_type": "code",
   "execution_count": 160,
   "metadata": {},
   "outputs": [],
   "source": [
    "# Для начала подключим библиотеки, установим ядро(seed) генератора случайных чисел и опишем \"план лабиринта\"\n",
    " \n",
    "    # Прохождение лабиринта\n",
    "import numpy as np\n",
    "import matplotlib.pyplot as plt\n",
    "\n",
    "np.random.seed(123) # обеспечиваем повторяемость\n",
    "\n",
    "# Из какого помещения,в какое можно перейти. На плане это нарисовано\n",
    "prob = {1: [2, 3], 2: [1, 3, 4], 3: [1, 2], 4: [2, 5], 5: [4, 6]}  #  план лабиринта\n",
    "prob[1]  # показывае что из помещения 1 можно перейти в помещения 2 и 3\n",
    "\n",
    "total = [] # сколько шагов пройдено.Это список в котором сохраняем сколько переходов выполнено при каждой итерации модели"
   ]
  },
  {
   "cell_type": "code",
   "execution_count": 161,
   "metadata": {},
   "outputs": [
    {
     "data": {
      "text/plain": [
       "[2, 3]"
      ]
     },
     "execution_count": 161,
     "metadata": {},
     "output_type": "execute_result"
    }
   ],
   "source": [
    "prob[1]"
   ]
  },
  {
   "cell_type": "markdown",
   "metadata": {},
   "source": [
    "Цикл for выполняется 10000 раз. В начале цикла устанавливаются переменные, используемые моделью\n",
    "Цикл while это сама модель"
   ]
  },
  {
   "cell_type": "code",
   "execution_count": 162,
   "metadata": {},
   "outputs": [],
   "source": [
    "for i in range(10000): # Пройдем лабиринт\n",
    "    s = 1 # начальное помещение\n",
    "    n = 0 # число шагов \n",
    "    while s != 6: # когда найдем портал прекратим повторения\n",
    "        n = n + 1\n",
    "        \n",
    "        # случайный переход., \n",
    "        if s == 2:\n",
    "            k = np.random.randint(0, 3) #  Во втором помещении три возможных перехода\n",
    "        else:\n",
    "            k = np.random.randint(0, 2) # а в остальных два\n",
    "        s = prob[s][k]\n",
    "    total.append(n) #  здесь вычисляем новое s\n"
   ]
  },
  {
   "cell_type": "markdown",
   "metadata": {},
   "source": [
    "Обрабатываем результаты"
   ]
  },
  {
   "cell_type": "code",
   "execution_count": 163,
   "metadata": {},
   "outputs": [
    {
     "data": {
      "image/png": "[encoded data removed]",
      "text/plain": [
       "<Figure size 432x288 with 1 Axes>"
      ]
     },
     "metadata": {
      "needs_background": "light"
     },
     "output_type": "display_data"
    }
   ],
   "source": [
    "# для оценки строим гистограмму\n",
    "plt.hist(total, color = 'green')\n",
    "plt.title('Число шагов до выхода из лабиринта')\n",
    "plt.grid()\n",
    "plt.xlabel('Шаги')\n",
    "plt.ylabel('Частота')\n",
    "plt.show()"
   ]
  },
  {
   "cell_type": "code",
   "execution_count": 167,
   "metadata": {},
   "outputs": [
    {
     "name": "stdout",
     "output_type": "stream",
     "text": [
      "Шаги (максимальное число шагов по лабиринту): 203\n",
      "Шаги (минимальное число шагов по лабиринту): 4\n",
      "Шаги (среднее число шагов по лабиринту): 28.9082\n",
      "Шаги (стандартное отклонение): 25.172500327937232\n",
      "Шаги (медиана.Половина случайных прохождений лабиринта завершалась менее чем): 21.0\n",
      "Шаги (разница между минимальным и максимальным количеством шагов): 199\n"
     ]
    }
   ],
   "source": [
    "# Выводим на печать нужные значения\n",
    "print('Шаги (максимальное число шагов по лабиринту):', np.max(total))\n",
    "print('Шаги (минимальное число шагов по лабиринту):', np.min(total))\n",
    "print('Шаги (среднее число шагов по лабиринту):', np.mean(total))\n",
    "print('Шаги (стандартное отклонение):', np.std(total))\n",
    "print('Шаги (медиана.Половина случайных прохождений лабиринта завершалась менее чем):', np.median(total))\n",
    "print('Шаги (разница между минимальным и максимальным количеством шагов):', np.max(total) - np.min(total))"
   ]
  },
  {
   "cell_type": "markdown",
   "metadata": {},
   "source": [
    "# Аналитика с python. Случайные числа"
   ]
  },
  {
   "cell_type": "raw",
   "metadata": {},
   "source": [
    "1.Загружаем библиотеку numpy\n",
    "2.метод seed() можно не использовать его параметр-произвольное целое число.Но если вы хотите, чтобы \n",
    "  воспроизводилась одинаковая случайная последовательность ,его нужно применить\n",
    "3.Метод rand() вырабатывает случайное целое число в диапазоне от 0-1"
   ]
  },
  {
   "cell_type": "code",
   "execution_count": 169,
   "metadata": {},
   "outputs": [
    {
     "data": {
      "text/plain": [
       "0.6964691855978616"
      ]
     },
     "execution_count": 169,
     "metadata": {},
     "output_type": "execute_result"
    }
   ],
   "source": [
    "import numpy as np\n",
    "\n",
    "np.random.seed(123)\n",
    "np.random.rand()"
   ]
  },
  {
   "cell_type": "markdown",
   "metadata": {},
   "source": [
    "np.random.rand()"
   ]
  },
  {
   "cell_type": "raw",
   "metadata": {},
   "source": [
    "Если мы хотим генерировать случайные числа v в диапазоне 0,b, где b-произвольное положительное число,то случайное число r\n",
    "(из диапазона 0,1) нужно умножить на b  v=b*r \n",
    "Чтобы v сдвтнуть на величину a, нужно к v + а.Пусть а=10 b=5 тогда:"
   ]
  },
  {
   "cell_type": "code",
   "execution_count": 170,
   "metadata": {},
   "outputs": [
    {
     "data": {
      "text/plain": [
       "11.430696674751896"
      ]
     },
     "execution_count": 170,
     "metadata": {},
     "output_type": "execute_result"
    }
   ],
   "source": [
    "a = 10\n",
    "b = 5\n",
    "a + b * np.random.rand()"
   ]
  },
  {
   "cell_type": "code",
   "execution_count": 171,
   "metadata": {},
   "outputs": [
    {
     "data": {
      "text/plain": [
       "array([0.22685145, 0.55131477, 0.71946897, 0.42310646])"
      ]
     },
     "execution_count": 171,
     "metadata": {},
     "output_type": "execute_result"
    }
   ],
   "source": [
    "#Генерация массива\n",
    "np.random.rand(4)"
   ]
  },
  {
   "cell_type": "markdown",
   "metadata": {},
   "source": [
    "ПРОСТАЯ СТАТИСТИКА"
   ]
  },
  {
   "cell_type": "code",
   "execution_count": 177,
   "metadata": {},
   "outputs": [],
   "source": [
    " #Запись в файл CSV с помощью vsv.writer\n",
    "import csv\n",
    "myData = [[\"x1\", \"y1\", \"x2\", \"y2\", \"x3\", \"y3\", \"x4\", \"y4\"],\n",
    "          ['10.0', '8.04', '10.0', '9.14', '10.0','7.46', '8.0', '6.58'],\n",
    "         ['8.0', '6.95', '8.0', '8.14', '8.0', '6.77', '8.0', '5.76'],\n",
    "         ['13.0', '8.58', '13.0', '8.74', '13.0', '12.74', '8.0', '7.71'],\n",
    "         ['9.0', '8.81', '9.00', '8.77', '9.0', '12.74', '8.0', '8.84'],\n",
    "         ['11.0', '8.33', '11.0', '9.26', '11.0', '7.81', '8.0', '8.47']]\n",
    "\n",
    "myFile = open('anscombe.csv', 'w')\n",
    "with myFile:\n",
    "    writer = csv.writer(myFile)\n",
    "    writer.writerows(myData)\n"
   ]
  },
  {
   "cell_type": "code",
   "execution_count": 178,
   "metadata": {},
   "outputs": [
    {
     "data": {
      "text/plain": [
       "[['x1', 'y1', 'x2', 'y2', 'x3', 'y3', 'x4', 'y4'],\n",
       " ['10.0', '8.04', '10.0', '9.14', '10.0', '7.46', '8.0', '6.58'],\n",
       " ['8.0', '6.95', '8.0', '8.14', '8.0', '6.77', '8.0', '5.76'],\n",
       " ['13.0', '8.58', '13.0', '8.74', '13.0', '12.74', '8.0', '7.71'],\n",
       " ['9.0', '8.81', '9.00', '8.77', '9.0', '12.74', '8.0', '8.84'],\n",
       " ['11.0', '8.33', '11.0', '9.26', '11.0', '7.81', '8.0', '8.47']]"
      ]
     },
     "execution_count": 178,
     "metadata": {},
     "output_type": "execute_result"
    }
   ],
   "source": [
    "myData"
   ]
  },
  {
   "cell_type": "code",
   "execution_count": 179,
   "metadata": {},
   "outputs": [
    {
     "name": "stdout",
     "output_type": "stream",
     "text": [
      "              x1         x2         x3   x4\n",
      "count   5.000000   5.000000   5.000000  5.0\n",
      "mean   10.200000  10.200000  10.200000  8.0\n",
      "std     1.923538   1.923538   1.923538  0.0\n",
      "min     8.000000   8.000000   8.000000  8.0\n",
      "25%     9.000000   9.000000   9.000000  8.0\n",
      "50%    10.000000  10.000000  10.000000  8.0\n",
      "75%    11.000000  11.000000  11.000000  8.0\n",
      "max    13.000000  13.000000  13.000000  8.0\n"
     ]
    }
   ],
   "source": [
    "import pandas as pd\n",
    "import matplotlib.pyplot as plt\n",
    "\n",
    "df = pd.read_csv('anscombe.csv')\n",
    "\n",
    "# Средние и стандартные отклонения практически совпадают по оси X\n",
    "print(df[['x1', 'x2', 'x3', 'x4']].describe())"
   ]
  },
  {
   "cell_type": "code",
   "execution_count": 180,
   "metadata": {},
   "outputs": [
    {
     "name": "stdout",
     "output_type": "stream",
     "text": [
      "             y1        y2         y3        y4\n",
      "count  5.000000  5.000000   5.000000  5.000000\n",
      "mean   8.142000  8.810000   9.504000  7.472000\n",
      "std    0.725376  0.437836   2.977655  1.289446\n",
      "min    6.950000  8.140000   6.770000  5.760000\n",
      "25%    8.040000  8.740000   7.460000  6.580000\n",
      "50%    8.330000  8.770000   7.810000  7.710000\n",
      "75%    8.580000  9.140000  12.740000  8.470000\n",
      "max    8.810000  9.260000  12.740000  8.840000\n"
     ]
    }
   ],
   "source": [
    "print(df[['y1', 'y2', 'y3', 'y4']].describe())"
   ]
  },
  {
   "cell_type": "raw",
   "metadata": {},
   "source": [
    "ЛИНИЯ РЕГРЕССИИ - это прямая вида:\n",
    "    y(x)=b+ax\n",
    "\n",
    "    Коэфициенты а и b подбираются так,чтобы на множестве точек Х, вычесленные значения У откланялись от заданных значений\n",
    "    У наименьшим образом. Часто а и b выбираются методом наименьших квадратов"
   ]
  },
  {
   "cell_type": "code",
   "execution_count": 189,
   "metadata": {},
   "outputs": [
    {
     "name": "stderr",
     "output_type": "stream",
     "text": [
      "C:\\Users\\Валерий\\AppData\\Roaming\\Python\\Python38\\site-packages\\IPython\\core\\interactiveshell.py:3437: RankWarning: Polyfit may be poorly conditioned\n",
      "  exec(code_obj, self.user_global_ns, self.user_ns)\n"
     ]
    }
   ],
   "source": [
    "a1, b1 = np.polyfit(df['x1'], df['y1'],1)\n",
    "a2, b2 = np.polyfit(df['x2'], df['y2'],1)\n",
    "a3, b3 = np.polyfit(df['x3'], df['y3'],1)\n",
    "a4, b4 = np.polyfit(df['x4'], df['y4'],1)"
   ]
  },
  {
   "cell_type": "code",
   "execution_count": 193,
   "metadata": {},
   "outputs": [
    {
     "data": {
      "image/png": "[encoded data removed]",
      "text/plain": [
       "<Figure size 432x288 with 1 Axes>"
      ]
     },
     "metadata": {
      "needs_background": "light"
     },
     "output_type": "display_data"
    }
   ],
   "source": [
    "# Строим график\n",
    "_=plt.scatter(df['x1'], df['y1'], color = 'red')\n",
    "_=plt.plot(df['x1'], b1 + a1 * df['x1'])\n",
    "_=plt.xlabel('x1')\n",
    "_=plt.ylabel('y1')\n",
    "plt.grid()\n",
    "_=plt.show()"
   ]
  },
  {
   "cell_type": "markdown",
   "metadata": {},
   "source": [
    "# Играем в кости . Проэкт на питоне"
   ]
  },
  {
   "cell_type": "markdown",
   "metadata": {},
   "source": [
    "Два приятеля играют в кости. Каждый по несколько раз подбрасывает кость, суммы выпавших за все подбрасывания очков\n",
    "подсчитывается.Выигрывает тот кто за меньшее количество бросков наберет 15 или большее число очков.Если у игроков\n",
    "однаковое число подбрасываний , то игра переигрываеся не зависимо от числа очков.\n",
    "Приятели играли N раз.Можно ли сказать, что кто-либо из них играет лучше?"
   ]
  },
  {
   "cell_type": "markdown",
   "metadata": {},
   "source": [
    "У нас нет реальных данных, но можно написать программу, иммитирующую серию игр\n",
    "Сохраним все результаты, а затем подсчитаем число выигрышей у каждого игрока"
   ]
  },
  {
   "cell_type": "code",
   "execution_count": 194,
   "metadata": {},
   "outputs": [],
   "source": [
    "import numpy as np\n",
    "import pandas as pd"
   ]
  },
  {
   "cell_type": "code",
   "execution_count": 195,
   "metadata": {},
   "outputs": [],
   "source": [
    "N = 1000\n",
    "np.random.seed(123)\n",
    "\n",
    "#В списке player1 и player2 запишем сколько  очков набрал соотв. игрок в очередном туре\n",
    "player1 = []\n",
    "player2 = []\n",
    "\n",
    "while len(player1) < N:\n",
    "    s1, s2 = 0, 0\n",
    "    #набрать 15 или больше число очков\n",
    "    while (s1 < 15) and (s2 < 15):\n",
    "        s1 = s1 + np.random.choice(range(1, 7))\n",
    "        s2 = s2 + np.random.choice(range(1, 7))\n",
    "    # Если оба набрали >= 15 очков, то игра не засчитывается\n",
    "    if (s1 < 15) or (s2 < 15):\n",
    "        player1.append(s1)\n",
    "        player2.append(s2)"
   ]
  },
  {
   "cell_type": "code",
   "execution_count": null,
   "metadata": {},
   "outputs": [],
   "source": []
  }
 ],
 "metadata": {
  "kernelspec": {
   "display_name": "Python 3",
   "language": "python",
   "name": "python3"
  },
  "language_info": {
   "codemirror_mode": {
    "name": "ipython",
    "version": 3
   },
   "file_extension": ".py",
   "mimetype": "text/x-python",
   "name": "python",
   "nbconvert_exporter": "python",
   "pygments_lexer": "ipython3",
   "version": "3.8.5"
  }
 },
 "nbformat": 4,
 "nbformat_minor": 4
}
