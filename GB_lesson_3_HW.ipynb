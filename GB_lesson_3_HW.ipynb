{
  "nbformat": 4,
  "nbformat_minor": 0,
  "metadata": {
    "colab": {
      "name": "GB_lesson_3_HW.ipynb",
      "provenance": []
    },
    "kernelspec": {
      "name": "python3",
      "display_name": "Python 3"
    }
  },
  "cells": [
    {
      "cell_type": "code",
      "metadata": {
        "id": "B3JyUqwWObTT"
      },
      "source": [
        "from math import factorial, sqrt\n",
        "import sympy\n",
        "import math"
      ],
      "execution_count": null,
      "outputs": []
    },
    {
      "cell_type": "code",
      "metadata": {
        "id": "b4kIQsxDPYAm"
      },
      "source": [
        "def function(n):\n",
        "  return n/(factorial(n)**(1/n))"
      ],
      "execution_count": null,
      "outputs": []
    },
    {
      "cell_type": "code",
      "metadata": {
        "id": "3OevefJIH8OJ"
      },
      "source": [
        "def function_s(n):\n",
        "  return n/(sympy.factorial(n)**(1/n))"
      ],
      "execution_count": null,
      "outputs": []
    },
    {
      "cell_type": "markdown",
      "metadata": {
        "id": "9CSJGeOaKwWN"
      },
      "source": [
        "### Решаем \"в лоб\""
      ]
    },
    {
      "cell_type": "code",
      "metadata": {
        "id": "Z8rW-vMfOg04"
      },
      "source": [
        "epsilon = 10e-7\n",
        "delta = 10\n",
        "n = 1\n",
        "curr = function(1)\n",
        "step = 50"
      ],
      "execution_count": null,
      "outputs": []
    },
    {
      "cell_type": "code",
      "metadata": {
        "colab": {
          "base_uri": "https://localhost:8080/",
          "height": 436
        },
        "id": "UygIBr2aOhO8",
        "outputId": "bb8f279f-b7b3-45d6-b240-949b454ea096"
      },
      "source": [
        "while delta > epsilon:\n",
        "  next = function(n+1)\n",
        "  delta = abs(curr - next)\n",
        "  curr = next\n",
        "  n += step\n",
        "  print(n, delta)\n",
        "  print(f\"Текущее значение предела: {curr}\")"
      ],
      "execution_count": null,
      "outputs": [
        {
          "output_type": "stream",
          "text": [
            "51 0.4142135623730949\n",
            "Текущее значение предела: 1.414213562373095\n",
            "101 1.15681119807808\n",
            "Текущее значение предела: 2.571024760451175\n",
            "151 0.06246890251100812\n",
            "Текущее значение предела: 2.633493662962183\n",
            "201 0.024109957325484377\n",
            "Текущее значение предела: 2.6576036202876674\n"
          ],
          "name": "stdout"
        },
        {
          "output_type": "error",
          "ename": "OverflowError",
          "evalue": "ignored",
          "traceback": [
            "\u001b[0;31m---------------------------------------------------------------------------\u001b[0m",
            "\u001b[0;31mOverflowError\u001b[0m                             Traceback (most recent call last)",
            "\u001b[0;32m<ipython-input-6-85c37d318a24>\u001b[0m in \u001b[0;36m<module>\u001b[0;34m()\u001b[0m\n\u001b[1;32m      1\u001b[0m \u001b[0;32mwhile\u001b[0m \u001b[0mdelta\u001b[0m \u001b[0;34m>\u001b[0m \u001b[0mepsilon\u001b[0m\u001b[0;34m:\u001b[0m\u001b[0;34m\u001b[0m\u001b[0;34m\u001b[0m\u001b[0m\n\u001b[0;32m----> 2\u001b[0;31m   \u001b[0mnext\u001b[0m \u001b[0;34m=\u001b[0m \u001b[0mfunction\u001b[0m\u001b[0;34m(\u001b[0m\u001b[0mn\u001b[0m\u001b[0;34m+\u001b[0m\u001b[0;36m1\u001b[0m\u001b[0;34m)\u001b[0m\u001b[0;34m\u001b[0m\u001b[0;34m\u001b[0m\u001b[0m\n\u001b[0m\u001b[1;32m      3\u001b[0m   \u001b[0mdelta\u001b[0m \u001b[0;34m=\u001b[0m \u001b[0mabs\u001b[0m\u001b[0;34m(\u001b[0m\u001b[0mcurr\u001b[0m \u001b[0;34m-\u001b[0m \u001b[0mnext\u001b[0m\u001b[0;34m)\u001b[0m\u001b[0;34m\u001b[0m\u001b[0;34m\u001b[0m\u001b[0m\n\u001b[1;32m      4\u001b[0m   \u001b[0mcurr\u001b[0m \u001b[0;34m=\u001b[0m \u001b[0mnext\u001b[0m\u001b[0;34m\u001b[0m\u001b[0;34m\u001b[0m\u001b[0m\n\u001b[1;32m      5\u001b[0m   \u001b[0mn\u001b[0m \u001b[0;34m+=\u001b[0m \u001b[0mstep\u001b[0m\u001b[0;34m\u001b[0m\u001b[0;34m\u001b[0m\u001b[0m\n",
            "\u001b[0;32m<ipython-input-2-815683c5674d>\u001b[0m in \u001b[0;36mfunction\u001b[0;34m(n)\u001b[0m\n\u001b[1;32m      1\u001b[0m \u001b[0;32mdef\u001b[0m \u001b[0mfunction\u001b[0m\u001b[0;34m(\u001b[0m\u001b[0mn\u001b[0m\u001b[0;34m)\u001b[0m\u001b[0;34m:\u001b[0m\u001b[0;34m\u001b[0m\u001b[0;34m\u001b[0m\u001b[0m\n\u001b[0;32m----> 2\u001b[0;31m   \u001b[0;32mreturn\u001b[0m \u001b[0mn\u001b[0m\u001b[0;34m/\u001b[0m\u001b[0;34m(\u001b[0m\u001b[0mfactorial\u001b[0m\u001b[0;34m(\u001b[0m\u001b[0mn\u001b[0m\u001b[0;34m)\u001b[0m\u001b[0;34m**\u001b[0m\u001b[0;34m(\u001b[0m\u001b[0;36m1\u001b[0m\u001b[0;34m/\u001b[0m\u001b[0mn\u001b[0m\u001b[0;34m)\u001b[0m\u001b[0;34m)\u001b[0m\u001b[0;34m\u001b[0m\u001b[0;34m\u001b[0m\u001b[0m\n\u001b[0m",
            "\u001b[0;31mOverflowError\u001b[0m: int too large to convert to float"
          ]
        }
      ]
    },
    {
      "cell_type": "markdown",
      "metadata": {
        "id": "dF9oLCS0LMWU"
      },
      "source": [
        "### Используем SymPy для факториала"
      ]
    },
    {
      "cell_type": "code",
      "metadata": {
        "id": "OKTs_e4nKvKL"
      },
      "source": [
        "epsilon = 10e-7\n",
        "delta = 1\n",
        "n = 1\n",
        "curr = function(1)\n",
        "step = 1"
      ],
      "execution_count": null,
      "outputs": []
    },
    {
      "cell_type": "code",
      "metadata": {
        "colab": {
          "base_uri": "https://localhost:8080/"
        },
        "id": "fkMqWSq0I5Kq",
        "outputId": "89ccbb88-b8a1-4480-c07f-6c3d9d7be4ad"
      },
      "source": [
        "%%time\n",
        "while delta > epsilon:\n",
        "  next = function_s(n+1)\n",
        "  delta = abs(curr - next)\n",
        "  curr = next\n",
        "  n += step"
      ],
      "execution_count": null,
      "outputs": [
        {
          "output_type": "stream",
          "text": [
            "CPU times: user 6.15 s, sys: 35.6 ms, total: 6.18 s\n",
            "Wall time: 6.22 s\n"
          ],
          "name": "stdout"
        }
      ]
    },
    {
      "cell_type": "code",
      "metadata": {
        "colab": {
          "base_uri": "https://localhost:8080/"
        },
        "id": "0xbavA6SJAk6",
        "outputId": "f7b568cd-3ed2-475d-a671-f46b946c64e9"
      },
      "source": [
        "print(n, delta)\n",
        "print(f\"Текущее значение предела: {curr}\")"
      ],
      "execution_count": null,
      "outputs": [
        {
          "output_type": "stream",
          "text": [
            "3495 9.99923936539915e-7\n",
            "Текущее значение предела: 2.71439695339699\n"
          ],
          "name": "stdout"
        }
      ]
    },
    {
      "cell_type": "markdown",
      "metadata": {
        "id": "gpNIikdCLRM8"
      },
      "source": [
        "### Используем теорему Штольца"
      ]
    },
    {
      "cell_type": "code",
      "metadata": {
        "id": "eYtqQ9EwSKmI"
      },
      "source": [
        "def stolz_theorem(n):\n",
        "  return 1/(sympy.factorial(n)**(1/n)-sympy.factorial(n-1)**(1/(n-1)))"
      ],
      "execution_count": null,
      "outputs": []
    },
    {
      "cell_type": "code",
      "metadata": {
        "colab": {
          "base_uri": "https://localhost:8080/",
          "height": 232
        },
        "id": "zkY-nAZaGSOI",
        "outputId": "5ac93cc4-75c3-44c2-ee47-1599d961ef89"
      },
      "source": [
        "stolz_theorem(1)"
      ],
      "execution_count": null,
      "outputs": [
        {
          "output_type": "error",
          "ename": "ZeroDivisionError",
          "evalue": "ignored",
          "traceback": [
            "\u001b[0;31m---------------------------------------------------------------------------\u001b[0m",
            "\u001b[0;31mZeroDivisionError\u001b[0m                         Traceback (most recent call last)",
            "\u001b[0;32m<ipython-input-12-51cd40f66285>\u001b[0m in \u001b[0;36m<module>\u001b[0;34m()\u001b[0m\n\u001b[0;32m----> 1\u001b[0;31m \u001b[0mstolz_theorem\u001b[0m\u001b[0;34m(\u001b[0m\u001b[0;36m1\u001b[0m\u001b[0;34m)\u001b[0m\u001b[0;34m\u001b[0m\u001b[0;34m\u001b[0m\u001b[0m\n\u001b[0m",
            "\u001b[0;32m<ipython-input-11-4f0df129c646>\u001b[0m in \u001b[0;36mstolz_theorem\u001b[0;34m(n)\u001b[0m\n\u001b[1;32m      1\u001b[0m \u001b[0;32mdef\u001b[0m \u001b[0mstolz_theorem\u001b[0m\u001b[0;34m(\u001b[0m\u001b[0mn\u001b[0m\u001b[0;34m)\u001b[0m\u001b[0;34m:\u001b[0m\u001b[0;34m\u001b[0m\u001b[0;34m\u001b[0m\u001b[0m\n\u001b[0;32m----> 2\u001b[0;31m   \u001b[0;32mreturn\u001b[0m \u001b[0;36m1\u001b[0m\u001b[0;34m/\u001b[0m\u001b[0;34m(\u001b[0m\u001b[0msympy\u001b[0m\u001b[0;34m.\u001b[0m\u001b[0mfactorial\u001b[0m\u001b[0;34m(\u001b[0m\u001b[0mn\u001b[0m\u001b[0;34m)\u001b[0m\u001b[0;34m**\u001b[0m\u001b[0;34m(\u001b[0m\u001b[0;36m1\u001b[0m\u001b[0;34m/\u001b[0m\u001b[0mn\u001b[0m\u001b[0;34m)\u001b[0m\u001b[0;34m-\u001b[0m\u001b[0msympy\u001b[0m\u001b[0;34m.\u001b[0m\u001b[0mfactorial\u001b[0m\u001b[0;34m(\u001b[0m\u001b[0mn\u001b[0m\u001b[0;34m-\u001b[0m\u001b[0;36m1\u001b[0m\u001b[0;34m)\u001b[0m\u001b[0;34m**\u001b[0m\u001b[0;34m(\u001b[0m\u001b[0;36m1\u001b[0m\u001b[0;34m/\u001b[0m\u001b[0;34m(\u001b[0m\u001b[0mn\u001b[0m\u001b[0;34m-\u001b[0m\u001b[0;36m1\u001b[0m\u001b[0;34m)\u001b[0m\u001b[0;34m)\u001b[0m\u001b[0;34m)\u001b[0m\u001b[0;34m\u001b[0m\u001b[0;34m\u001b[0m\u001b[0m\n\u001b[0m",
            "\u001b[0;31mZeroDivisionError\u001b[0m: division by zero"
          ]
        }
      ]
    },
    {
      "cell_type": "code",
      "metadata": {
        "id": "Geq-ln7uSKXs"
      },
      "source": [
        "epsilon = 10e-7\n",
        "delta = 1\n",
        "n = 2\n",
        "curr = stolz_theorem(2)\n",
        "step = 1"
      ],
      "execution_count": null,
      "outputs": []
    },
    {
      "cell_type": "code",
      "metadata": {
        "colab": {
          "base_uri": "https://localhost:8080/"
        },
        "id": "5xQ4jSGuIvy-",
        "outputId": "cbc5756c-441d-46de-8cd9-5c5a53e4924a"
      },
      "source": [
        "%%time\n",
        "while delta > epsilon:\n",
        "  next = stolz_theorem(n+1)\n",
        "  delta = abs(curr - next)\n",
        "  curr = next\n",
        "  n += step"
      ],
      "execution_count": null,
      "outputs": [
        {
          "output_type": "stream",
          "text": [
            "CPU times: user 1.48 s, sys: 11.3 ms, total: 1.49 s\n",
            "Wall time: 1.5 s\n"
          ],
          "name": "stdout"
        }
      ]
    },
    {
      "cell_type": "code",
      "metadata": {
        "colab": {
          "base_uri": "https://localhost:8080/"
        },
        "id": "54W51P4xIvnM",
        "outputId": "55705c8b-3c4b-4c15-f72c-ed48e9264fb4"
      },
      "source": [
        "print(n, delta)\n",
        "print(f\"Текущее значение предела: {curr}\")"
      ],
      "execution_count": null,
      "outputs": [
        {
          "output_type": "stream",
          "text": [
            "1153 9.99185107097844e-7\n",
            "Текущее значение предела: 2.71711890243040\n"
          ],
          "name": "stdout"
        }
      ]
    },
    {
      "cell_type": "markdown",
      "metadata": {
        "id": "4ByHrVfTLXDk"
      },
      "source": [
        "### Используем формулу Стирлинга"
      ]
    },
    {
      "cell_type": "code",
      "metadata": {
        "id": "_Qh7-ZvPJSzX"
      },
      "source": [
        "e = math.exp(1)\n",
        "pi = math.pi"
      ],
      "execution_count": null,
      "outputs": []
    },
    {
      "cell_type": "code",
      "metadata": {
        "id": "rk59SUpyJSt7"
      },
      "source": [
        "def stirling(n):\n",
        "  return e/(2*pi*n)**(1/(2*n))"
      ],
      "execution_count": null,
      "outputs": []
    },
    {
      "cell_type": "code",
      "metadata": {
        "id": "2pGcqFoAKWZ_"
      },
      "source": [
        "epsilon = 10e-7\n",
        "delta = 1\n",
        "n = 1\n",
        "curr = stirling(1)\n",
        "step = 1"
      ],
      "execution_count": null,
      "outputs": []
    },
    {
      "cell_type": "code",
      "metadata": {
        "colab": {
          "base_uri": "https://localhost:8080/"
        },
        "id": "jMY6z6zJKWU2",
        "outputId": "6cce7b5f-1cfe-45e6-83b9-9b0dff4706b8"
      },
      "source": [
        "%%time\n",
        "while delta > epsilon:\n",
        "  next = stirling(n+1)\n",
        "  delta = abs(curr - next)\n",
        "  curr = next\n",
        "  n += step"
      ],
      "execution_count": null,
      "outputs": [
        {
          "output_type": "stream",
          "text": [
            "CPU times: user 3.93 ms, sys: 47 µs, total: 3.98 ms\n",
            "Wall time: 6.41 ms\n"
          ],
          "name": "stdout"
        }
      ]
    },
    {
      "cell_type": "code",
      "metadata": {
        "colab": {
          "base_uri": "https://localhost:8080/"
        },
        "id": "KkPsQXTMKWON",
        "outputId": "52063a03-7bd8-40d9-8f48-c2ca6ce02535"
      },
      "source": [
        "print(n, delta)\n",
        "print(f\"Текущее значение предела: {curr}\")"
      ],
      "execution_count": null,
      "outputs": [
        {
          "output_type": "stream",
          "text": [
            "3495 9.999133441240815e-07\n",
            "Текущее значение предела: 2.714396971915147\n"
          ],
          "name": "stdout"
        }
      ]
    },
    {
      "cell_type": "markdown",
      "metadata": {
        "id": "2-JtzAfjQODa"
      },
      "source": [
        "### Используем просто SymPy"
      ]
    },
    {
      "cell_type": "code",
      "metadata": {
        "id": "w-HJzYOORaL-"
      },
      "source": [
        "from sympy import limit, factorial, oo"
      ],
      "execution_count": null,
      "outputs": []
    },
    {
      "cell_type": "code",
      "metadata": {
        "colab": {
          "base_uri": "https://localhost:8080/"
        },
        "id": "jgIWlhRzQMd3",
        "outputId": "6fd335a4-f3ec-4221-ee9d-05d442d5f11a"
      },
      "source": [
        "%%time\n",
        "limit(n/(factorial(n)**(1/n)), n, oo)"
      ],
      "execution_count": null,
      "outputs": [
        {
          "output_type": "stream",
          "text": [
            "CPU times: user 3.35 ms, sys: 0 ns, total: 3.35 ms\n",
            "Wall time: 3.38 ms\n"
          ],
          "name": "stdout"
        },
        {
          "output_type": "execute_result",
          "data": {
            "text/plain": [
              "2.71439695339699"
            ]
          },
          "metadata": {
            "tags": []
          },
          "execution_count": 23
        }
      ]
    },
    {
      "cell_type": "code",
      "metadata": {
        "id": "aPtslsOQRrKm"
      },
      "source": [
        "е=2,718281828459045235360287..."
      ],
      "execution_count": null,
      "outputs": []
    }
  ]
}