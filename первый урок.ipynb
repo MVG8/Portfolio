{
 "cells": [
  {
   "cell_type": "code",
   "execution_count": 1,
   "metadata": {},
   "outputs": [
    {
     "data": {
      "text/plain": [
       "4"
      ]
     },
     "execution_count": 1,
     "metadata": {},
     "output_type": "execute_result"
    }
   ],
   "source": [
    "2 + 2"
   ]
  },
  {
   "cell_type": "markdown",
   "metadata": {},
   "source": [
    "запись в режиме Markdown"
   ]
  },
  {
   "cell_type": "code",
   "execution_count": 3,
   "metadata": {},
   "outputs": [
    {
     "name": "stdout",
     "output_type": "stream",
     "text": [
      "Hello!\n",
      "4\n"
     ]
    }
   ],
   "source": [
    "print('Hello!')\n",
    "print (2 + 2)"
   ]
  },
  {
   "cell_type": "markdown",
   "metadata": {},
   "source": [
    "Инструкция по сдаче домашнего задания:\n",
    "1. Сохранить программу как файл\n",
    "    File>Download as>Python(py)\n",
    " Этот файл можно открыть с помощью текстового редактора,где вспомогательные строки закоментированны,а остается только инструкция для интерпретатора\n",
    "2.Далее копируем текст и вставляем на сайт"
   ]
  },
  {
   "cell_type": "markdown",
   "metadata": {},
   "source": [
    "# Целые цисла"
   ]
  },
  {
   "cell_type": "code",
   "execution_count": 4,
   "metadata": {},
   "outputs": [
    {
     "data": {
      "text/plain": [
       "7"
      ]
     },
     "execution_count": 4,
     "metadata": {},
     "output_type": "execute_result"
    }
   ],
   "source": [
    "2 + 5"
   ]
  },
  {
   "cell_type": "code",
   "execution_count": 5,
   "metadata": {},
   "outputs": [
    {
     "data": {
      "text/plain": [
       "5"
      ]
     },
     "execution_count": 5,
     "metadata": {},
     "output_type": "execute_result"
    }
   ],
   "source": [
    "10 - 5"
   ]
  },
  {
   "cell_type": "code",
   "execution_count": 6,
   "metadata": {},
   "outputs": [
    {
     "data": {
      "text/plain": [
       "42"
      ]
     },
     "execution_count": 6,
     "metadata": {},
     "output_type": "execute_result"
    }
   ],
   "source": [
    "6 * 7"
   ]
  },
  {
   "cell_type": "code",
   "execution_count": 7,
   "metadata": {},
   "outputs": [
    {
     "data": {
      "text/plain": [
       "88172"
      ]
     },
     "execution_count": 7,
     "metadata": {},
     "output_type": "execute_result"
    }
   ],
   "source": [
    "134*658"
   ]
  },
  {
   "cell_type": "code",
   "execution_count": 8,
   "metadata": {},
   "outputs": [
    {
     "data": {
      "text/plain": [
       "23"
      ]
     },
     "execution_count": 8,
     "metadata": {},
     "output_type": "execute_result"
    }
   ],
   "source": [
    "3 + 5 * 4"
   ]
  },
  {
   "cell_type": "code",
   "execution_count": 9,
   "metadata": {},
   "outputs": [
    {
     "data": {
      "text/plain": [
       "32"
      ]
     },
     "execution_count": 9,
     "metadata": {},
     "output_type": "execute_result"
    }
   ],
   "source": [
    "(3 + 5) * 4"
   ]
  },
  {
   "cell_type": "code",
   "execution_count": 11,
   "metadata": {},
   "outputs": [
    {
     "data": {
      "text/plain": [
       "12345554321"
      ]
     },
     "execution_count": 11,
     "metadata": {},
     "output_type": "execute_result"
    }
   ],
   "source": [
    "11111* 1111111"
   ]
  },
  {
   "cell_type": "markdown",
   "metadata": {},
   "source": [
    "Целочисленное деление"
   ]
  },
  {
   "cell_type": "code",
   "execution_count": 12,
   "metadata": {},
   "outputs": [
    {
     "data": {
      "text/plain": [
       "5"
      ]
     },
     "execution_count": 12,
     "metadata": {},
     "output_type": "execute_result"
    }
   ],
   "source": [
    "40 // 8"
   ]
  },
  {
   "cell_type": "code",
   "execution_count": 13,
   "metadata": {},
   "outputs": [
    {
     "data": {
      "text/plain": [
       "5"
      ]
     },
     "execution_count": 13,
     "metadata": {},
     "output_type": "execute_result"
    }
   ],
   "source": [
    "42 // 8"
   ]
  },
  {
   "cell_type": "markdown",
   "metadata": {},
   "source": [
    "Остаток от деления"
   ]
  },
  {
   "cell_type": "code",
   "execution_count": 14,
   "metadata": {},
   "outputs": [
    {
     "data": {
      "text/plain": [
       "2"
      ]
     },
     "execution_count": 14,
     "metadata": {},
     "output_type": "execute_result"
    }
   ],
   "source": [
    "42 % 8"
   ]
  },
  {
   "cell_type": "code",
   "execution_count": 15,
   "metadata": {},
   "outputs": [
    {
     "ename": "ZeroDivisionError",
     "evalue": "integer division or modulo by zero",
     "output_type": "error",
     "traceback": [
      "\u001b[1;31m---------------------------------------------------------------------------\u001b[0m",
      "\u001b[1;31mZeroDivisionError\u001b[0m                         Traceback (most recent call last)",
      "\u001b[1;32m<ipython-input-15-4a248ec6c3cf>\u001b[0m in \u001b[0;36m<module>\u001b[1;34m\u001b[0m\n\u001b[1;32m----> 1\u001b[1;33m \u001b[1;36m42\u001b[0m \u001b[1;33m//\u001b[0m \u001b[1;33m(\u001b[0m\u001b[1;36m4\u001b[0m \u001b[1;33m+\u001b[0m \u001b[1;36m2\u001b[0m \u001b[1;33m*\u001b[0m \u001b[1;33m(\u001b[0m\u001b[1;33m-\u001b[0m\u001b[1;36m2\u001b[0m\u001b[1;33m)\u001b[0m\u001b[1;33m)\u001b[0m\u001b[1;33m\u001b[0m\u001b[1;33m\u001b[0m\u001b[0m\n\u001b[0m",
      "\u001b[1;31mZeroDivisionError\u001b[0m: integer division or modulo by zero"
     ]
    }
   ],
   "source": [
    "42 // (4 + 2 * (-2))"
   ]
  },
  {
   "cell_type": "markdown",
   "metadata": {},
   "source": [
    "Операции с целыми числами"
   ]
  },
  {
   "cell_type": "code",
   "execution_count": 16,
   "metadata": {},
   "outputs": [
    {
     "data": {
      "text/plain": [
       "9"
      ]
     },
     "execution_count": 16,
     "metadata": {},
     "output_type": "execute_result"
    }
   ],
   "source": [
    "239 % 10"
   ]
  },
  {
   "cell_type": "code",
   "execution_count": 17,
   "metadata": {},
   "outputs": [
    {
     "data": {
      "text/plain": [
       "23"
      ]
     },
     "execution_count": 17,
     "metadata": {},
     "output_type": "execute_result"
    }
   ],
   "source": [
    "239 // 10"
   ]
  },
  {
   "cell_type": "code",
   "execution_count": 18,
   "metadata": {},
   "outputs": [
    {
     "data": {
      "text/plain": [
       "32"
      ]
     },
     "execution_count": 18,
     "metadata": {},
     "output_type": "execute_result"
    }
   ],
   "source": [
    "2 ** 5"
   ]
  },
  {
   "cell_type": "code",
   "execution_count": 19,
   "metadata": {},
   "outputs": [
    {
     "data": {
      "text/plain": [
       "18064773765607550801425251468864907833685590016"
      ]
     },
     "execution_count": 19,
     "metadata": {},
     "output_type": "execute_result"
    }
   ],
   "source": [
    "2014 ** 14"
   ]
  },
  {
   "cell_type": "markdown",
   "metadata": {},
   "source": [
    "Операторы бывают бинарные с левым и правым операндом(2+3) , унарные -(42)"
   ]
  },
  {
   "cell_type": "code",
   "execution_count": 20,
   "metadata": {},
   "outputs": [
    {
     "data": {
      "text/plain": [
       "-42"
      ]
     },
     "execution_count": 20,
     "metadata": {},
     "output_type": "execute_result"
    }
   ],
   "source": [
    "-(42)"
   ]
  },
  {
   "cell_type": "code",
   "execution_count": 21,
   "metadata": {},
   "outputs": [
    {
     "data": {
      "text/plain": [
       "-42"
      ]
     },
     "execution_count": 21,
     "metadata": {},
     "output_type": "execute_result"
    }
   ],
   "source": [
    "+-+42"
   ]
  },
  {
   "cell_type": "code",
   "execution_count": 22,
   "metadata": {},
   "outputs": [
    {
     "ename": "SyntaxError",
     "evalue": "invalid syntax (<ipython-input-22-761874de80cf>, line 1)",
     "output_type": "error",
     "traceback": [
      "\u001b[1;36m  File \u001b[1;32m\"<ipython-input-22-761874de80cf>\"\u001b[1;36m, line \u001b[1;32m1\u001b[0m\n\u001b[1;33m    -*42\u001b[0m\n\u001b[1;37m     ^\u001b[0m\n\u001b[1;31mSyntaxError\u001b[0m\u001b[1;31m:\u001b[0m invalid syntax\n"
     ]
    }
   ],
   "source": [
    "# Выражение которое нарушает синтаксис языка python указывающее на строку с нарушением\n",
    "-*42"
   ]
  },
  {
   "cell_type": "code",
   "execution_count": 23,
   "metadata": {},
   "outputs": [
    {
     "name": "stdout",
     "output_type": "stream",
     "text": [
      "test\n"
     ]
    },
    {
     "ename": "SyntaxError",
     "evalue": "can't use starred expression here (<ipython-input-23-57eb71baa164>, line 2)",
     "output_type": "error",
     "traceback": [
      "\u001b[1;36m  File \u001b[1;32m\"<ipython-input-23-57eb71baa164>\"\u001b[1;36m, line \u001b[1;32m2\u001b[0m\n\u001b[1;33m    *23\u001b[0m\n\u001b[1;37m    ^\u001b[0m\n\u001b[1;31mSyntaxError\u001b[0m\u001b[1;31m:\u001b[0m can't use starred expression here\n"
     ]
    }
   ],
   "source": [
    "print('test')\n",
    "*23"
   ]
  },
  {
   "cell_type": "code",
   "execution_count": 24,
   "metadata": {},
   "outputs": [
    {
     "ename": "ZeroDivisionError",
     "evalue": "integer division or modulo by zero",
     "output_type": "error",
     "traceback": [
      "\u001b[1;31m---------------------------------------------------------------------------\u001b[0m",
      "\u001b[1;31mZeroDivisionError\u001b[0m                         Traceback (most recent call last)",
      "\u001b[1;32m<ipython-input-24-6a750ef75a7c>\u001b[0m in \u001b[0;36m<module>\u001b[1;34m\u001b[0m\n\u001b[0;32m      1\u001b[0m \u001b[1;31m# на ноль делить нельзя\u001b[0m\u001b[1;33m\u001b[0m\u001b[1;33m\u001b[0m\u001b[1;33m\u001b[0m\u001b[0m\n\u001b[1;32m----> 2\u001b[1;33m \u001b[1;36m5\u001b[0m \u001b[1;33m//\u001b[0m \u001b[1;36m0\u001b[0m\u001b[1;33m\u001b[0m\u001b[1;33m\u001b[0m\u001b[0m\n\u001b[0m",
      "\u001b[1;31mZeroDivisionError\u001b[0m: integer division or modulo by zero"
     ]
    }
   ],
   "source": [
    "# на ноль делить нельзя\n",
    "5 // 0"
   ]
  },
  {
   "cell_type": "markdown",
   "metadata": {},
   "source": [
    "Операции с вещественными числами"
   ]
  },
  {
   "cell_type": "code",
   "execution_count": 25,
   "metadata": {},
   "outputs": [
    {
     "data": {
      "text/plain": [
       "0.5"
      ]
     },
     "execution_count": 25,
     "metadata": {},
     "output_type": "execute_result"
    }
   ],
   "source": [
    "0.5"
   ]
  },
  {
   "cell_type": "code",
   "execution_count": 26,
   "metadata": {},
   "outputs": [
    {
     "data": {
      "text/plain": [
       "0.8"
      ]
     },
     "execution_count": 26,
     "metadata": {},
     "output_type": "execute_result"
    }
   ],
   "source": [
    "0.5 + 0.3"
   ]
  },
  {
   "cell_type": "code",
   "execution_count": 27,
   "metadata": {},
   "outputs": [
    {
     "data": {
      "text/plain": [
       "2.5"
      ]
     },
     "execution_count": 27,
     "metadata": {},
     "output_type": "execute_result"
    }
   ],
   "source": [
    "5/2"
   ]
  },
  {
   "cell_type": "code",
   "execution_count": 28,
   "metadata": {},
   "outputs": [
    {
     "data": {
      "text/plain": [
       "2"
      ]
     },
     "execution_count": 28,
     "metadata": {},
     "output_type": "execute_result"
    }
   ],
   "source": [
    "5//2"
   ]
  },
  {
   "cell_type": "code",
   "execution_count": 29,
   "metadata": {},
   "outputs": [
    {
     "data": {
      "text/plain": [
       "0.3333333333333333"
      ]
     },
     "execution_count": 29,
     "metadata": {},
     "output_type": "execute_result"
    }
   ],
   "source": [
    "1/3"
   ]
  },
  {
   "cell_type": "code",
   "execution_count": 30,
   "metadata": {},
   "outputs": [
    {
     "data": {
      "text/plain": [
       "0.8999999999999999"
      ]
     },
     "execution_count": 30,
     "metadata": {},
     "output_type": "execute_result"
    }
   ],
   "source": [
    "# погрешность\n",
    "0.3 + 0.3 +0.3"
   ]
  },
  {
   "cell_type": "code",
   "execution_count": 31,
   "metadata": {},
   "outputs": [
    {
     "data": {
      "text/plain": [
       "32"
      ]
     },
     "execution_count": 31,
     "metadata": {},
     "output_type": "execute_result"
    }
   ],
   "source": [
    "2 ** 5"
   ]
  },
  {
   "cell_type": "code",
   "execution_count": 32,
   "metadata": {},
   "outputs": [
    {
     "data": {
      "text/plain": [
       "3.0"
      ]
     },
     "execution_count": 32,
     "metadata": {},
     "output_type": "execute_result"
    }
   ],
   "source": [
    "9 ** 0.5"
   ]
  },
  {
   "cell_type": "code",
   "execution_count": 33,
   "metadata": {},
   "outputs": [
    {
     "data": {
      "text/plain": [
       "0.5"
      ]
     },
     "execution_count": 33,
     "metadata": {},
     "output_type": "execute_result"
    }
   ],
   "source": [
    "# это как 5*10**(-1)\n",
    "5e-1"
   ]
  },
  {
   "cell_type": "code",
   "execution_count": 35,
   "metadata": {},
   "outputs": [
    {
     "data": {
      "text/plain": [
       "0.5"
      ]
     },
     "execution_count": 35,
     "metadata": {},
     "output_type": "execute_result"
    }
   ],
   "source": [
    "5*10**(-1)"
   ]
  },
  {
   "cell_type": "code",
   "execution_count": 36,
   "metadata": {},
   "outputs": [
    {
     "data": {
      "text/plain": [
       "12.34"
      ]
     },
     "execution_count": 36,
     "metadata": {},
     "output_type": "execute_result"
    }
   ],
   "source": [
    "# это как 1234 * 10**(-2)\n",
    "1234e-2"
   ]
  },
  {
   "cell_type": "code",
   "execution_count": 37,
   "metadata": {},
   "outputs": [
    {
     "data": {
      "text/plain": [
       "12.34"
      ]
     },
     "execution_count": 37,
     "metadata": {},
     "output_type": "execute_result"
    }
   ],
   "source": [
    "1234 * 10**(-2)"
   ]
  },
  {
   "cell_type": "code",
   "execution_count": 38,
   "metadata": {},
   "outputs": [
    {
     "data": {
      "text/plain": [
       "123400.0"
      ]
     },
     "execution_count": 38,
     "metadata": {},
     "output_type": "execute_result"
    }
   ],
   "source": [
    "# это как 1234 * 10 ** 2\n",
    "1234e2"
   ]
  },
  {
   "cell_type": "code",
   "execution_count": 39,
   "metadata": {},
   "outputs": [
    {
     "data": {
      "text/plain": [
       "123400"
      ]
     },
     "execution_count": 39,
     "metadata": {},
     "output_type": "execute_result"
    }
   ],
   "source": [
    " 1234 * 10 ** 2"
   ]
  },
  {
   "cell_type": "code",
   "execution_count": 40,
   "metadata": {},
   "outputs": [
    {
     "name": "stdout",
     "output_type": "stream",
     "text": [
      "1234.5\n"
     ]
    }
   ],
   "source": [
    "print(1.2345e3)"
   ]
  },
  {
   "cell_type": "code",
   "execution_count": 41,
   "metadata": {},
   "outputs": [
    {
     "name": "stdout",
     "output_type": "stream",
     "text": [
      "0.0012345\n"
     ]
    }
   ],
   "source": [
    "print(1.2345e-3)"
   ]
  },
  {
   "cell_type": "code",
   "execution_count": 42,
   "metadata": {},
   "outputs": [
    {
     "data": {
      "text/plain": [
       "1.806477376560755e+46"
      ]
     },
     "execution_count": 42,
     "metadata": {},
     "output_type": "execute_result"
    }
   ],
   "source": [
    "2014.0 ** 14"
   ]
  },
  {
   "cell_type": "code",
   "execution_count": 43,
   "metadata": {},
   "outputs": [
    {
     "data": {
      "text/plain": [
       "2.3333333333333335"
      ]
     },
     "execution_count": 43,
     "metadata": {},
     "output_type": "execute_result"
    }
   ],
   "source": [
    "7/3"
   ]
  },
  {
   "cell_type": "code",
   "execution_count": 44,
   "metadata": {},
   "outputs": [
    {
     "data": {
      "text/plain": [
       "2"
      ]
     },
     "execution_count": 44,
     "metadata": {},
     "output_type": "execute_result"
    }
   ],
   "source": [
    "7 // 3"
   ]
  },
  {
   "cell_type": "markdown",
   "metadata": {},
   "source": [
    "# Некоторые стандартные типы"
   ]
  },
  {
   "cell_type": "raw",
   "metadata": {},
   "source": [
    "Данные в python являются объектами. Объект имеет свой тип. Тип задает множество значений объекта и то,\n",
    "какие операции можно над этим объектом совершать.\n",
    "Числовые\n",
    "    целые-int\n",
    "    вещественные-float\n",
    "    логические-bool\n",
    "Строковые\n",
    "    строки-str\n",
    "Все перечисленные типы являются неизменяемые\n",
    "*Для изменения необходимо создать новый объект с новым значением"
   ]
  },
  {
   "cell_type": "raw",
   "metadata": {},
   "source": [
    "Преобразование типов:\n",
    "    int(x)-преобразование к целому числу\n",
    "        int(2.3)->2\n",
    "    float(x)-преобразование к цислу с плавающей точкой\n",
    "        float(5)->5.0"
   ]
  },
  {
   "cell_type": "code",
   "execution_count": 45,
   "metadata": {},
   "outputs": [
    {
     "data": {
      "text/plain": [
       "2"
      ]
     },
     "execution_count": 45,
     "metadata": {},
     "output_type": "execute_result"
    }
   ],
   "source": [
    "int(2.99)"
   ]
  },
  {
   "cell_type": "code",
   "execution_count": 46,
   "metadata": {},
   "outputs": [
    {
     "data": {
      "text/plain": [
       "89"
      ]
     },
     "execution_count": 46,
     "metadata": {},
     "output_type": "execute_result"
    }
   ],
   "source": [
    "9**19 - int(float(9**19))"
   ]
  },
  {
   "cell_type": "raw",
   "metadata": {},
   "source": [
    "Узнать тип объекта помогает функция type()"
   ]
  },
  {
   "cell_type": "code",
   "execution_count": 47,
   "metadata": {},
   "outputs": [
    {
     "data": {
      "text/plain": [
       "int"
      ]
     },
     "execution_count": 47,
     "metadata": {},
     "output_type": "execute_result"
    }
   ],
   "source": [
    "type(7)"
   ]
  },
  {
   "cell_type": "code",
   "execution_count": 48,
   "metadata": {},
   "outputs": [
    {
     "data": {
      "text/plain": [
       "float"
      ]
     },
     "execution_count": 48,
     "metadata": {},
     "output_type": "execute_result"
    }
   ],
   "source": [
    "type(7.2)"
   ]
  },
  {
   "cell_type": "markdown",
   "metadata": {},
   "source": [
    "# Переменные"
   ]
  },
  {
   "cell_type": "raw",
   "metadata": {},
   "source": [
    "Часто объекту удобно задать имя и обращаться к нему по имени"
   ]
  },
  {
   "cell_type": "code",
   "execution_count": 49,
   "metadata": {},
   "outputs": [
    {
     "name": "stdout",
     "output_type": "stream",
     "text": [
      "5\n"
     ]
    }
   ],
   "source": [
    "a = 3 # переменной присваиваем значение 3\n",
    "b = 2\n",
    "print(a + b)"
   ]
  },
  {
   "cell_type": "code",
   "execution_count": 50,
   "metadata": {},
   "outputs": [
    {
     "name": "stdout",
     "output_type": "stream",
     "text": [
      "8\n"
     ]
    }
   ],
   "source": [
    "a = 6 # Присваевоем новое значение\n",
    "print(a + b)"
   ]
  },
  {
   "cell_type": "code",
   "execution_count": 56,
   "metadata": {},
   "outputs": [
    {
     "name": "stdout",
     "output_type": "stream",
     "text": [
      "16\n"
     ]
    }
   ],
   "source": [
    "b = b + 2\n",
    "print(b)"
   ]
  },
  {
   "cell_type": "code",
   "execution_count": null,
   "metadata": {},
   "outputs": [],
   "source": [
    "b = b + 2\n",
    "b += 2\n",
    "print(b)"
   ]
  },
  {
   "cell_type": "raw",
   "metadata": {},
   "source": [
    "Имя переменной:\n",
    "    -может состоять из букв(строчных и прописных),цифр,подчеркиваний\n",
    "    -должно начинаться с букв или подчеркивания\n",
    "    -не должно являться ключевым словом(например True)\n",
    "    -регистр букв имеет значение(a, A)"
   ]
  },
  {
   "cell_type": "raw",
   "metadata": {},
   "source": [
    "Динамическая типизация \n",
    "когда переменная может изменя type по ходу программы"
   ]
  },
  {
   "cell_type": "code",
   "execution_count": 57,
   "metadata": {},
   "outputs": [
    {
     "ename": "NameError",
     "evalue": "name 'foo' is not defined",
     "output_type": "error",
     "traceback": [
      "\u001b[1;31m---------------------------------------------------------------------------\u001b[0m",
      "\u001b[1;31mNameError\u001b[0m                                 Traceback (most recent call last)",
      "\u001b[1;32m<ipython-input-57-688dd35b7497>\u001b[0m in \u001b[0;36m<module>\u001b[1;34m\u001b[0m\n\u001b[0;32m      1\u001b[0m \u001b[0ma\u001b[0m \u001b[1;33m=\u001b[0m \u001b[1;36m5\u001b[0m\u001b[1;33m\u001b[0m\u001b[1;33m\u001b[0m\u001b[0m\n\u001b[0;32m      2\u001b[0m \u001b[0ma\u001b[0m \u001b[1;33m=\u001b[0m\u001b[1;34m\"asdjj\"\u001b[0m\u001b[1;33m\u001b[0m\u001b[1;33m\u001b[0m\u001b[0m\n\u001b[1;32m----> 3\u001b[1;33m \u001b[0ma\u001b[0m \u001b[1;33m=\u001b[0m \u001b[0mfoo\u001b[0m\u001b[1;33m(\u001b[0m\u001b[1;33m)\u001b[0m\u001b[1;33m\u001b[0m\u001b[1;33m\u001b[0m\u001b[0m\n\u001b[0m\u001b[0;32m      4\u001b[0m \u001b[1;33m\u001b[0m\u001b[0m\n\u001b[0;32m      5\u001b[0m \u001b[0mtype\u001b[0m\u001b[1;33m(\u001b[0m\u001b[0ma\u001b[0m\u001b[1;33m)\u001b[0m\u001b[1;33m\u001b[0m\u001b[1;33m\u001b[0m\u001b[0m\n",
      "\u001b[1;31mNameError\u001b[0m: name 'foo' is not defined"
     ]
    }
   ],
   "source": [
    "a = 5\n",
    "a =\"asdjj\"\n",
    "a = foo()\n",
    "\n",
    "type(a)"
   ]
  },
  {
   "cell_type": "markdown",
   "metadata": {},
   "source": [
    "# Ввод данных "
   ]
  },
  {
   "cell_type": "raw",
   "metadata": {},
   "source": [
    "input()-читает строку с клавиатуры\n",
    "input(\"Введите данные: \")\n",
    "\n",
    "s = input() # записать в переменную s пользовательски ввод\n",
    "a = int(input()) # прочитать строку с клавиатуры и преобразовать в число\n",
    "\n",
    "print('')- вывод данных"
   ]
  },
  {
   "cell_type": "code",
   "execution_count": 58,
   "metadata": {},
   "outputs": [],
   "source": [
    "a = 3"
   ]
  },
  {
   "cell_type": "code",
   "execution_count": 59,
   "metadata": {},
   "outputs": [
    {
     "data": {
      "text/plain": [
       "3"
      ]
     },
     "execution_count": 59,
     "metadata": {},
     "output_type": "execute_result"
    }
   ],
   "source": [
    "a"
   ]
  },
  {
   "cell_type": "code",
   "execution_count": 60,
   "metadata": {},
   "outputs": [],
   "source": [
    "a += 4"
   ]
  },
  {
   "cell_type": "code",
   "execution_count": 61,
   "metadata": {},
   "outputs": [
    {
     "data": {
      "text/plain": [
       "7"
      ]
     },
     "execution_count": 61,
     "metadata": {},
     "output_type": "execute_result"
    }
   ],
   "source": [
    "a"
   ]
  },
  {
   "cell_type": "code",
   "execution_count": 62,
   "metadata": {},
   "outputs": [
    {
     "data": {
      "text/plain": [
       "14"
      ]
     },
     "execution_count": 62,
     "metadata": {},
     "output_type": "execute_result"
    }
   ],
   "source": [
    "a\n",
    "2 * a"
   ]
  },
  {
   "cell_type": "code",
   "execution_count": 65,
   "metadata": {},
   "outputs": [
    {
     "name": "stdout",
     "output_type": "stream",
     "text": [
      "7\n",
      "14\n"
     ]
    }
   ],
   "source": [
    "print (a)\n",
    "print (2 * a)"
   ]
  },
  {
   "cell_type": "code",
   "execution_count": 66,
   "metadata": {},
   "outputs": [
    {
     "name": "stdout",
     "output_type": "stream",
     "text": [
      "Валера\n",
      "Hello Валера\n"
     ]
    }
   ],
   "source": [
    "name = input()\n",
    "print('Hello', name)"
   ]
  },
  {
   "cell_type": "code",
   "execution_count": 67,
   "metadata": {},
   "outputs": [
    {
     "name": "stdout",
     "output_type": "stream",
     "text": [
      "Enter your name: ВАлера\n",
      "Hello ВАлера\n"
     ]
    }
   ],
   "source": [
    "name = input('Enter your name: ')\n",
    "print('Hello', name)"
   ]
  },
  {
   "cell_type": "code",
   "execution_count": 69,
   "metadata": {},
   "outputs": [
    {
     "name": "stdout",
     "output_type": "stream",
     "text": [
      "6\n",
      "12\n"
     ]
    }
   ],
   "source": [
    "a = int(input())\n",
    "print (a * 2)"
   ]
  },
  {
   "cell_type": "code",
   "execution_count": 70,
   "metadata": {},
   "outputs": [
    {
     "name": "stdout",
     "output_type": "stream",
     "text": [
      "2\n",
      "3\n",
      "6\n"
     ]
    }
   ],
   "source": [
    "a = int(input())\n",
    "b  = int(input())\n",
    "print(a * b)"
   ]
  },
  {
   "cell_type": "code",
   "execution_count": 71,
   "metadata": {},
   "outputs": [
    {
     "name": "stdout",
     "output_type": "stream",
     "text": [
      "7\n",
      "30\n",
      "450\n"
     ]
    }
   ],
   "source": [
    "#Тимофей обычно спит ночью X часов и устраивает себе днем тихий час на Y минут.\n",
    "#Определите, сколько всего минут Тимофей спит в сутки.\n",
    "\n",
    "#Внимание, программа принимает значения X и Y из стандартного потока ввода (функция input), \n",
    "#результат надо выводить в стандартный поток вывода (функция print). \n",
    "#Обратите внимание на то, что приглашение, переданное в качестве аргумента в функцию input,\n",
    "#считается выводом вашей программы. Используйте эту функцию без аргументов:\n",
    "X = int(input())\n",
    "Y = int(input())\n",
    "print(X*60 + Y)"
   ]
  },
  {
   "cell_type": "code",
   "execution_count": 73,
   "metadata": {},
   "outputs": [
    {
     "name": "stdout",
     "output_type": "stream",
     "text": [
      "480\n",
      "8\n",
      "0\n"
     ]
    }
   ],
   "source": [
    "#Коля каждый день ложится спать ровно в полночь и недавно узнал, что оптимальное время для его сна составляет X минут. \n",
    "#Коля хочет поставить себе будильник так, чтобы он прозвенел ровно через X минут после полуночи, \n",
    "#однако для этого необходимо указать время сигнала в формате часы, минуты. Помогите Коле определить,\n",
    "#на какое время завести будильник.\n",
    "#Часы и минуты в выводе программы должны располагаться на разных строках (см. пример работы программы)\n",
    "\n",
    "#Помните, что для считывания данных нужно вызывать функцию input без аргументов!\n",
    "X = int(input())\n",
    "print(X // 60)\n",
    "print(X % 60)"
   ]
  },
  {
   "cell_type": "code",
   "execution_count": 6,
   "metadata": {},
   "outputs": [
    {
     "name": "stdout",
     "output_type": "stream",
     "text": [
      "480\n",
      "1\n",
      "2\n",
      "9\n",
      "2\n"
     ]
    }
   ],
   "source": [
    "#Катя узнала, что ей для сна надо X минут. В отличие от Коли, Катя ложится спать после полуночи в H часов и M минут.\n",
    "#Помогите Кате определить, на какое время ей поставить будильник, чтобы он прозвенел ровно через X минут после того, \n",
    "#как она ляжет спать.\n",
    "\n",
    "#На стандартный ввод, каждое в своей строке, подаются значения XX, HH и MM.\n",
    "#Гарантируется, что Катя должна проснуться в тот же день, что и заснуть. \n",
    "#Программа должна выводить время, на которое нужно поставить будильник: в первой строке часы, во второй — минуты.\n",
    "for_sleep_min = int(input())\n",
    "Hour_in_min = int(input()) * 60\n",
    "minut = int(input())\n",
    "all_min = for_sleep_min + Hour_in_min + minut\n",
    "print(all_min // 60)\n",
    "print(all_min % 60)"
   ]
  },
  {
   "cell_type": "markdown",
   "metadata": {},
   "source": [
    "# Логические значения"
   ]
  },
  {
   "cell_type": "raw",
   "metadata": {},
   "source": [
    "False(0)\n",
    "True(1)\n",
    "\n",
    "Операции:\n",
    "    x or y    x and y    not x             x y\n",
    "                                             \n",
    "      0          0         1               0 0\n",
    "      1          0         0               0 1\n",
    "      1          0         0               1 0\n",
    "      1          1         0               1 1    "
   ]
  },
  {
   "cell_type": "markdown",
   "metadata": {},
   "source": [
    "операции сравнения"
   ]
  },
  {
   "cell_type": "raw",
   "metadata": {},
   "source": [
    ">  строго больше\n",
    ">= больше или равно\n",
    "<  строго меньше\n",
    "<= меньше или равно\n",
    "== равно\n",
    "!= не равно"
   ]
  },
  {
   "cell_type": "code",
   "execution_count": 8,
   "metadata": {},
   "outputs": [
    {
     "name": "stdout",
     "output_type": "stream",
     "text": [
      "10\n",
      "True\n"
     ]
    }
   ],
   "source": [
    "a = int(input())\n",
    "print(a > 0)"
   ]
  },
  {
   "cell_type": "code",
   "execution_count": 9,
   "metadata": {},
   "outputs": [
    {
     "name": "stdout",
     "output_type": "stream",
     "text": [
      "0\n",
      "False\n"
     ]
    }
   ],
   "source": [
    "a = int(input())\n",
    "print(a > 0)"
   ]
  },
  {
   "cell_type": "code",
   "execution_count": 10,
   "metadata": {},
   "outputs": [
    {
     "name": "stdout",
     "output_type": "stream",
     "text": [
      "-2\n",
      "False\n"
     ]
    }
   ],
   "source": [
    "a = int(input())\n",
    "print(a > 0)"
   ]
  },
  {
   "cell_type": "markdown",
   "metadata": {},
   "source": [
    "Проверка двухзначного числа"
   ]
  },
  {
   "cell_type": "code",
   "execution_count": 11,
   "metadata": {},
   "outputs": [
    {
     "name": "stdout",
     "output_type": "stream",
     "text": [
      "5\n",
      "False\n"
     ]
    }
   ],
   "source": [
    "a = int(input())\n",
    "print(a >= 10 and a < 100)"
   ]
  },
  {
   "cell_type": "code",
   "execution_count": 12,
   "metadata": {},
   "outputs": [
    {
     "name": "stdout",
     "output_type": "stream",
     "text": [
      "10\n",
      "True\n"
     ]
    }
   ],
   "source": [
    "a = int(input())\n",
    "print(a >= 10 and a < 100)"
   ]
  },
  {
   "cell_type": "code",
   "execution_count": 13,
   "metadata": {},
   "outputs": [
    {
     "name": "stdout",
     "output_type": "stream",
     "text": [
      "106\n",
      "False\n"
     ]
    }
   ],
   "source": [
    "a = int(input())\n",
    "print(a >= 10 and a < 100)"
   ]
  },
  {
   "cell_type": "markdown",
   "metadata": {},
   "source": [
    "Сокращенная запись"
   ]
  },
  {
   "cell_type": "code",
   "execution_count": 15,
   "metadata": {},
   "outputs": [
    {
     "name": "stdout",
     "output_type": "stream",
     "text": [
      "99\n",
      "True\n"
     ]
    }
   ],
   "source": [
    "a = int(input())\n",
    "print(10 <= a < 100)"
   ]
  },
  {
   "cell_type": "code",
   "execution_count": 16,
   "metadata": {},
   "outputs": [
    {
     "data": {
      "text/plain": [
       "True"
      ]
     },
     "execution_count": 16,
     "metadata": {},
     "output_type": "execute_result"
    }
   ],
   "source": [
    "x1, x2, x3 = False, True, False\n",
    "not x1 or x2 and x3"
   ]
  },
  {
   "cell_type": "raw",
   "metadata": {},
   "source": [
    "Получилось True or x2 and x3\n",
    "Так как and приоритетнее чем or  то вычисляем его"
   ]
  },
  {
   "cell_type": "code",
   "execution_count": 17,
   "metadata": {},
   "outputs": [
    {
     "data": {
      "text/plain": [
       "False"
      ]
     },
     "execution_count": 17,
     "metadata": {},
     "output_type": "execute_result"
    }
   ],
   "source": [
    "True and False"
   ]
  },
  {
   "cell_type": "code",
   "execution_count": 18,
   "metadata": {},
   "outputs": [
    {
     "data": {
      "text/plain": [
       "True"
      ]
     },
     "execution_count": 18,
     "metadata": {},
     "output_type": "execute_result"
    }
   ],
   "source": [
    "# Теперь вычисляем or\n",
    "True or False"
   ]
  },
  {
   "cell_type": "code",
   "execution_count": 19,
   "metadata": {},
   "outputs": [
    {
     "data": {
      "text/plain": [
       "False"
      ]
     },
     "execution_count": 19,
     "metadata": {},
     "output_type": "execute_result"
    }
   ],
   "source": [
    "((not x1) or x2) and x3"
   ]
  },
  {
   "cell_type": "code",
   "execution_count": 20,
   "metadata": {},
   "outputs": [
    {
     "ename": "NameError",
     "evalue": "name 'b' is not defined",
     "output_type": "error",
     "traceback": [
      "\u001b[1;31m---------------------------------------------------------------------------\u001b[0m",
      "\u001b[1;31mNameError\u001b[0m                                 Traceback (most recent call last)",
      "\u001b[1;32m<ipython-input-20-7c89e5048ed6>\u001b[0m in \u001b[0;36m<module>\u001b[1;34m\u001b[0m\n\u001b[1;32m----> 1\u001b[1;33m \u001b[1;33m(\u001b[0m\u001b[1;33m(\u001b[0m\u001b[0ma\u001b[0m \u001b[1;32mand\u001b[0m \u001b[0mb\u001b[0m\u001b[1;33m)\u001b[0m \u001b[1;32mor\u001b[0m \u001b[1;33m(\u001b[0m\u001b[1;33m(\u001b[0m\u001b[1;32mnot\u001b[0m \u001b[0ma\u001b[0m\u001b[1;33m)\u001b[0m \u001b[1;32mand\u001b[0m\u001b[1;33m(\u001b[0m \u001b[1;32mnot\u001b[0m \u001b[0mb\u001b[0m\u001b[1;33m)\u001b[0m\u001b[1;33m)\u001b[0m\u001b[1;33m)\u001b[0m\u001b[1;33m\u001b[0m\u001b[1;33m\u001b[0m\u001b[0m\n\u001b[0m",
      "\u001b[1;31mNameError\u001b[0m: name 'b' is not defined"
     ]
    }
   ],
   "source": [
    "((a and b) or ((not a) and( not b)))"
   ]
  },
  {
   "cell_type": "code",
   "execution_count": 21,
   "metadata": {},
   "outputs": [
    {
     "data": {
      "text/plain": [
       "True"
      ]
     },
     "execution_count": 21,
     "metadata": {},
     "output_type": "execute_result"
    }
   ],
   "source": [
    "x = 5\n",
    "y = 10\n",
    "y > x * x or y >= 2 * x and x < y"
   ]
  },
  {
   "cell_type": "code",
   "execution_count": 22,
   "metadata": {},
   "outputs": [
    {
     "data": {
      "text/plain": [
       "False"
      ]
     },
     "execution_count": 22,
     "metadata": {},
     "output_type": "execute_result"
    }
   ],
   "source": [
    "a = True\n",
    "b = False\n",
    "a and b or not a and not b"
   ]
  },
  {
   "cell_type": "markdown",
   "metadata": {},
   "source": [
    "# Условие"
   ]
  },
  {
   "cell_type": "markdown",
   "metadata": {},
   "source": [
    "Проверка числа на четность"
   ]
  },
  {
   "cell_type": "code",
   "execution_count": 25,
   "metadata": {},
   "outputs": [
    {
     "name": "stdout",
     "output_type": "stream",
     "text": [
      "5\n",
      "Нечетное\n"
     ]
    }
   ],
   "source": [
    "x = int(input())\n",
    "if x % 2 == 0:\n",
    "    print('Четное')\n",
    "else:\n",
    "    print('Нечетное')"
   ]
  },
  {
   "cell_type": "code",
   "execution_count": 26,
   "metadata": {},
   "outputs": [
    {
     "name": "stdout",
     "output_type": "stream",
     "text": [
      "10\n",
      "Четное\n"
     ]
    }
   ],
   "source": [
    "x = int(input())\n",
    "if x % 2 == 0:\n",
    "    print('Четное')\n",
    "else:\n",
    "    print('Нечетное')"
   ]
  },
  {
   "cell_type": "code",
   "execution_count": 27,
   "metadata": {},
   "outputs": [
    {
     "name": "stdout",
     "output_type": "stream",
     "text": [
      "7\n"
     ]
    }
   ],
   "source": [
    "# Найти наибольшее из двух чисел\n",
    "a = 4\n",
    "b = 7\n",
    "if a >= b:\n",
    "    print(a)\n",
    "else:\n",
    "    print(b)"
   ]
  },
  {
   "cell_type": "code",
   "execution_count": 32,
   "metadata": {},
   "outputs": [
    {
     "name": "stdout",
     "output_type": "stream",
     "text": [
      "7\n"
     ]
    }
   ],
   "source": [
    "# Найти наибольшее из двух чисел\n",
    "a = 4\n",
    "b = 7\n",
    "_max = a\n",
    "if b > _max:\n",
    "    _max = b\n",
    "print(_max)"
   ]
  },
  {
   "cell_type": "code",
   "execution_count": 34,
   "metadata": {},
   "outputs": [
    {
     "name": "stdout",
     "output_type": "stream",
     "text": [
      "8\n",
      "4\n",
      "2\n"
     ]
    }
   ],
   "source": [
    "# Условие с исключением деления на ноль\n",
    "a = int(input())\n",
    "b = int(input())\n",
    "if b != 0:\n",
    "    print(a // b)\n",
    "else:\n",
    "    print('Деление на ноль невозможно')"
   ]
  },
  {
   "cell_type": "code",
   "execution_count": 35,
   "metadata": {},
   "outputs": [
    {
     "name": "stdout",
     "output_type": "stream",
     "text": [
      "8\n",
      "0\n",
      "Деление на ноль невозможно\n"
     ]
    }
   ],
   "source": [
    "# Условие с исключением деления на ноль\n",
    "a = int(input())\n",
    "b = int(input())\n",
    "if b != 0:\n",
    "    print(a // b)\n",
    "else:\n",
    "    print('Деление на ноль невозможно')"
   ]
  },
  {
   "cell_type": "code",
   "execution_count": 38,
   "metadata": {},
   "outputs": [
    {
     "name": "stdout",
     "output_type": "stream",
     "text": [
      "8\n",
      "0\n",
      "Деление на ноль невозможно\n",
      "Введите ненулевое значение: 4\n",
      "2\n"
     ]
    }
   ],
   "source": [
    "a = int(input())\n",
    "b = int(input())\n",
    "if b != 0:\n",
    "    print(a // b)\n",
    "else:\n",
    "    print('Деление на ноль невозможно')\n",
    "    b = int(input('Введите ненулевое значение: '))\n",
    "    print(a // b)"
   ]
  },
  {
   "cell_type": "code",
   "execution_count": 39,
   "metadata": {},
   "outputs": [
    {
     "name": "stdout",
     "output_type": "stream",
     "text": [
      "8\n",
      "4\n",
      "2\n"
     ]
    }
   ],
   "source": [
    "a = int(input())\n",
    "b = int(input())\n",
    "if b != 0:\n",
    "    print(a // b)\n",
    "else:\n",
    "    print('Деление на ноль невозможно')\n",
    "    b = int(input('Введите ненулевое значение: '))\n",
    "    if b == 0:\n",
    "        print('Вы не справились с заданием')\n",
    "    else:\n",
    "        print(a // b)"
   ]
  },
  {
   "cell_type": "code",
   "execution_count": 40,
   "metadata": {},
   "outputs": [
    {
     "name": "stdout",
     "output_type": "stream",
     "text": [
      "8\n",
      "0\n",
      "Деление на ноль невозможно\n",
      "Введите ненулевое значение: 0\n",
      "Вы не справились с заданием\n"
     ]
    }
   ],
   "source": [
    "a = int(input())\n",
    "b = int(input())\n",
    "if b != 0:\n",
    "    print(a // b)\n",
    "else:\n",
    "    print('Деление на ноль невозможно')\n",
    "    b = int(input('Введите ненулевое значение: '))\n",
    "    if b == 0:\n",
    "        print('Вы не справились с заданием')\n",
    "    else:\n",
    "        print(a // b)"
   ]
  },
  {
   "cell_type": "code",
   "execution_count": 70,
   "metadata": {},
   "outputs": [
    {
     "name": "stdout",
     "output_type": "stream",
     "text": [
      "6\n",
      "10\n",
      "8\n",
      "Это нормально\n"
     ]
    }
   ],
   "source": [
    "#Из передачи “Здоровье” Аня узнала, что рекомендуется спать хотя бы A часов в сутки,\n",
    "#но пересыпать тоже вредно и не стоит спать более B часов. Сейчас Аня спит H часов в сутки.\n",
    "#Если режим сна Ани удовлетворяет рекомендациям передачи “Здоровье”, выведите “Это нормально”. \n",
    "#Если Аня спит менее A часов, выведите “Недосып”, если же более B часов, то выведите “Пересып”.\n",
    "#Получаемое число A всегда меньше либо равно B.\n",
    "#На вход программе в три строки подаются переменные в следующем порядке: A, B, H.\n",
    "#Обратите внимание на регистр символов: вывод должен в точности соответствовать описанному в задании, т. е.\n",
    "#если программа должна вывести \"Пересып\", выводы программы \"пересып\", \"ПЕРЕСЫП\", \"ПеРеСыП\" и другие не будут считаться верными.\n",
    "#Это первое не самое тривиальное задание на условное выражение. \n",
    "#В случаях, когда разбить исполнение программы на несколько направлений, стоит внимательно обдумать все условия,\n",
    "#которые нужно использовать. Особое внимание стоит уделить строгости используемых условных операторов: \n",
    "#различайте \\lt< и \\le≤; \\gt> и \\ge≥. Для того, чтобы понимать, какой из них стоит использовать, внимательно прочитайте условие задания.\n",
    "reсomend = int(input())\n",
    "very_max = int(input())\n",
    "real = int(input())\n",
    "if reсomend <= real <= very_max:\n",
    "        print('Это нормально')\n",
    "elif reсomend > real:\n",
    "    print('Недосып')\n",
    "else:\n",
    "    print('Пересып')\n",
    "        "
   ]
  },
  {
   "cell_type": "code",
   "execution_count": 72,
   "metadata": {},
   "outputs": [
    {
     "name": "stdout",
     "output_type": "stream",
     "text": [
      "2000\n",
      "Високосный\n"
     ]
    }
   ],
   "source": [
    "#Требуется определить, является ли данный год високосным.\n",
    "#Напомним, что високосными годами считаются те годы, порядковый номер которых либо кратен 4, \n",
    "#но при этом не кратен 100, либо кратен 400 (например, 2000-й год являлся високосным, а 2100-й будет невисокосным годом).\n",
    "#Программа должна корректно работать на числах 1900≤n≤3000.\n",
    "#Выведите \"Високосный\" в случае, если считанный год является високосным и \"Обычный\"\n",
    "#в обратном случае (не забывайте проверять регистр выводимых программой символов).\n",
    "n = int(input())\n",
    "if n % 4 == 0 and n % 100 != 0 or n % 400 ==0:\n",
    "    print('Високосный')\n",
    "else:\n",
    "    print(\"Обычный\")"
   ]
  },
  {
   "cell_type": "markdown",
   "metadata": {},
   "source": [
    "# Массив"
   ]
  },
  {
   "cell_type": "code",
   "execution_count": 75,
   "metadata": {},
   "outputs": [
    {
     "name": "stdout",
     "output_type": "stream",
     "text": [
      "12\n"
     ]
    }
   ],
   "source": [
    "# Дан одномерный массив найти максимальное число\n",
    "a = [1,2,3,6,9,12,5,6,]\n",
    "\n",
    "maxim = a[0]\n",
    "for i in a:    \n",
    "    if i > maxim:\n",
    "        maxim = i\n",
    "print(maxim)"
   ]
  },
  {
   "cell_type": "code",
   "execution_count": null,
   "metadata": {},
   "outputs": [],
   "source": [
    "def large(arr): \n",
    "    max_ = arr[0]\n",
    "    for ele in arr:\n",
    "        if ele > max_:\n",
    "           max_ = ele\n",
    "    return max_ \n",
    "\n",
    "\n",
    "list1 = [1,4,5,2,6]\n",
    "result = large(list1)\n",
    "print(result) "
   ]
  },
  {
   "cell_type": "code",
   "execution_count": null,
   "metadata": {},
   "outputs": [],
   "source": []
  },
  {
   "cell_type": "code",
   "execution_count": 86,
   "metadata": {},
   "outputs": [
    {
     "name": "stdout",
     "output_type": "stream",
     "text": [
      "[0, 1, 2, 3, 4, 5, 6, 7, 8, 9, 10, 11, 12, 13, 14, 15]\n"
     ]
    }
   ],
   "source": [
    "a = [i for i in range(15 + 1)]\n",
    "print(a)"
   ]
  },
  {
   "cell_type": "code",
   "execution_count": 87,
   "metadata": {},
   "outputs": [
    {
     "name": "stdout",
     "output_type": "stream",
     "text": [
      "1\n",
      "2\n",
      "3\n"
     ]
    }
   ],
   "source": [
    "example_array = [1, 2, 3]\n",
    "for i in range(len(example_array)):\n",
    "    print(example_array[i])"
   ]
  },
  {
   "cell_type": "code",
   "execution_count": 88,
   "metadata": {},
   "outputs": [
    {
     "name": "stdout",
     "output_type": "stream",
     "text": [
      "1\n",
      "2\n",
      "3\n"
     ]
    }
   ],
   "source": [
    "example_array = [1, 2, 3]\n",
    "for i in example_array:\n",
    "    print(i)"
   ]
  },
  {
   "cell_type": "code",
   "execution_count": 89,
   "metadata": {},
   "outputs": [
    {
     "name": "stdout",
     "output_type": "stream",
     "text": [
      "1\n",
      "2\n",
      "3\n",
      "4\n"
     ]
    }
   ],
   "source": [
    "example_array = [[1, 2], [3, 4]]\n",
    "for i in example_array:\n",
    "    for x in i:\n",
    "        print(x)"
   ]
  },
  {
   "cell_type": "markdown",
   "metadata": {},
   "source": [
    "# Строки"
   ]
  },
  {
   "cell_type": "raw",
   "metadata": {},
   "source": [
    "Операции со строками:\n",
    "\n",
    "'abc'+'deg'\n",
    "'abcdeg'\n",
    "\n",
    "'abc' * 3\n",
    "'abcabcabc'\n",
    "\n",
    "len('abcdef')\n",
    "6\n"
   ]
  },
  {
   "cell_type": "raw",
   "metadata": {},
   "source": [
    "Cpaвнение строк:\n",
    "\n",
    "'abc' == \"abc\"\n",
    "'abc' < 'ac'\n",
    "'abc' > 'ab'\n"
   ]
  },
  {
   "cell_type": "raw",
   "metadata": {},
   "source": [
    "Перевод строки:\n",
    "    '\\n'"
   ]
  },
  {
   "cell_type": "code",
   "execution_count": 93,
   "metadata": {},
   "outputs": [
    {
     "name": "stdout",
     "output_type": "stream",
     "text": [
      "первая строка \n",
      "\n",
      "\n",
      " вторая строка\n"
     ]
    }
   ],
   "source": [
    "print('первая строка', '\\n\\n\\n', 'вторая строка')"
   ]
  },
  {
   "cell_type": "code",
   "execution_count": 94,
   "metadata": {},
   "outputs": [
    {
     "name": "stdout",
     "output_type": "stream",
     "text": [
      "string another string\n"
     ]
    }
   ],
   "source": [
    "a = 'string'\n",
    "b = 'another string'\n",
    "print(a, b)"
   ]
  },
  {
   "cell_type": "code",
   "execution_count": 95,
   "metadata": {},
   "outputs": [
    {
     "name": "stdout",
     "output_type": "stream",
     "text": [
      "stringanother string\n"
     ]
    }
   ],
   "source": [
    "print(a + b)"
   ]
  },
  {
   "cell_type": "code",
   "execution_count": 96,
   "metadata": {},
   "outputs": [
    {
     "name": "stdout",
     "output_type": "stream",
     "text": [
      "string\n",
      "another string\n"
     ]
    }
   ],
   "source": [
    "print(a)\n",
    "print(b)"
   ]
  },
  {
   "cell_type": "code",
   "execution_count": 97,
   "metadata": {},
   "outputs": [
    {
     "name": "stdout",
     "output_type": "stream",
     "text": [
      "string\n",
      "another string\n"
     ]
    }
   ],
   "source": [
    "print(a + '\\n' + b)"
   ]
  },
  {
   "cell_type": "markdown",
   "metadata": {},
   "source": [
    "Задачи"
   ]
  },
  {
   "cell_type": "raw",
   "metadata": {},
   "source": [
    "В то далёкое время, когда Паша ходил в школу, ему очень не нравилась формула Герона для вычисления площади треугольника, \n",
    "так как казалась слишком сложной.В один прекрасный момент Павел решил избавить всех школьников от страданий и написать и\n",
    "распространить по школам программу, вычисляющую площадь треугольника по трём сторонам.\n",
    "Одна проблема: так как эта формула не нравилась Павлу, он её не запомнил. Помогите ему завершить доброе дело и напишите программу,\n",
    "    вычисляющую площадь треугольника по переданным длинам трёх его сторон по формуле Герона:\n",
    "\n",
    "S=sqrt(p(p−a)(p−b)(p−c))\n",
    " \n",
    "где p=(a+b+c)/2 \n",
    "\n",
    "  – полупериметр треугольника. На вход программе подаются целые числа, выводом программы должно являться вещественное число,\n",
    "    соответствующее площади треугольника."
   ]
  },
  {
   "cell_type": "code",
   "execution_count": 100,
   "metadata": {},
   "outputs": [
    {
     "name": "stdout",
     "output_type": "stream",
     "text": [
      "3\n",
      "4\n",
      "5\n",
      "6.0\n"
     ]
    }
   ],
   "source": [
    "import math\n",
    "a = int(input())\n",
    "b = int(input())\n",
    "c = int(input())\n",
    "p = (a + b + c)/2\n",
    "S = (p*(p-a)*(p-b)*(p-c))**0.5\n",
    "print(S)"
   ]
  },
  {
   "cell_type": "raw",
   "metadata": {},
   "source": [
    "Напишите программу, принимающую на вход целое число, которая выводит True, если переданное значение попадает в интервал\n",
    "(-15, 12] ∪ (14, 17) ∪ [19,+∞) и False в противном случае (регистр символов имеет значение).\n",
    "Обратите внимание на разные скобки, используемые для обозначения интервалов. В задании используются полуоткрытые и открытые интервалы.\n",
    "Подробнее про это вы можете прочитать, например, на википедии"
   ]
  },
  {
   "cell_type": "code",
   "execution_count": 102,
   "metadata": {},
   "outputs": [
    {
     "name": "stdout",
     "output_type": "stream",
     "text": [
      "-20\n"
     ]
    },
    {
     "data": {
      "text/plain": [
       "False"
      ]
     },
     "execution_count": 102,
     "metadata": {},
     "output_type": "execute_result"
    }
   ],
   "source": [
    "#∪  - символ множества элементов. Множество - некое количество. A ∪ B - это множества A и B.\n",
    "#В скобках заключены интервалы чисел:\n",
    "#\"[\" или \"]\" с числом означает включая это число.\n",
    "#\"(\" или \")\" с числом означает не включая это число.\n",
    "#Примеры (для наглядного понимания):\n",
    "#[ 1, 4 ]  - числа 1, 2, 3 и 4\n",
    "#( 1, 4 ) - числа 2 и 3\n",
    "#( -2, 1] - числа -1, 0 и 1\n",
    "#[ -2, 1 ) - числа -2, -1, 0\n",
    "Для тех, кто не знает символов:\n",
    "∪ = or, то есть значит или то, или то.\n",
    "( -15, 12] = значит, что все числа от -14 до 12 (-15 < x <= 12), а наоборот если, например, [ t, e) значит, что (t <= x < e)\n",
    "Если есть знак бесконечности, то, например, [87, +бесконечность), значит, что x больше 87.\n",
    "Вот и всё.\n",
    "\n"
   ]
  },
  {
   "cell_type": "code",
   "execution_count": 5,
   "metadata": {},
   "outputs": [
    {
     "name": "stdout",
     "output_type": "stream",
     "text": [
      "-20\n",
      "False\n"
     ]
    }
   ],
   "source": [
    "x = float(input())\n",
    "print((-15 < x <= 12) or (14 < x < 17) or (x >= 19))"
   ]
  },
  {
   "cell_type": "raw",
   "metadata": {},
   "source": [
    "Напишите простой калькулятор, который считывает с пользовательского ввода три строки: первое число, второе число и операцию, после чего применяет операцию к введённым числам (\"первое число\" \"операция\" \"второе число\") и выводит результат на экран.\n",
    "\n",
    "Поддерживаемые операции: +, -, /, *, mod, pow, div, где\n",
    "mod — это взятие остатка от деления,\n",
    "pow — возведение в степень,\n",
    "div — целочисленное деление.\n",
    "\n",
    "Если выполняется деление и второе число равно 0, необходимо выводить строку \"Деление на 0!\".\n",
    "\n",
    "Обратите внимание, что на вход программе приходят вещественные числа."
   ]
  },
  {
   "cell_type": "code",
   "execution_count": 23,
   "metadata": {},
   "outputs": [
    {
     "name": "stdout",
     "output_type": "stream",
     "text": [
      "8\n",
      "4\n",
      "/\n",
      "2.0\n"
     ]
    }
   ],
   "source": [
    "#                                           Калькулятор\n",
    "\n",
    "x = float(input())\n",
    "y = float(input())\n",
    "oper = input()\n",
    "\n",
    "#if y == 0 and oper == '/' or oper == 'mod' or oper == 'div':\n",
    "if y == 0 and oper in ('/', 'mod', 'div'):\n",
    "    print('Деление на 0!')\n",
    "elif oper == '+':\n",
    "    print(x + y)\n",
    "elif oper == '-':\n",
    "    print(x - y)\n",
    "elif oper == '/':\n",
    "    print(x / y)\n",
    "elif oper == '*':\n",
    "    print(x * y)\n",
    "elif oper == 'mod':\n",
    "    print(x % y)\n",
    "elif oper == 'pow':\n",
    "    print(x ** y)\n",
    "elif oper == 'div':\n",
    "    print(x // y)"
   ]
  },
  {
   "cell_type": "code",
   "execution_count": 24,
   "metadata": {},
   "outputs": [
    {
     "name": "stdout",
     "output_type": "stream",
     "text": [
      "8\n",
      "4\n",
      "/\n",
      "2.0\n"
     ]
    }
   ],
   "source": [
    "#калькулятор\n",
    "a=float(input())\n",
    "b=float(input())\n",
    "c=(input())\n",
    "if c==\"+\":\n",
    "    print (a+b)\n",
    "if c==\"-\":\n",
    "    print (a-b)\n",
    "if c==\"/\" and b!=0:\n",
    "    print (a/b)\n",
    "if c==\"/\" and b==0:\n",
    "    print (\"Деление на 0!\")\n",
    "if c==\"*\":\n",
    "    print (a*b)\n",
    "if c==\"mod\"and b!=0:\n",
    "    print (a%b)\n",
    "if c==\"mod\" and b==0:\n",
    "    print (\"Деление на 0!\")\n",
    "if c==\"pow\":\n",
    "    print (a**b)\n",
    "if c==\"div\"and b!=0:\n",
    "    print (a//b)\n",
    "if c==\"div\" and b==0:\n",
    "    print (\"Деление на 0!\")"
   ]
  },
  {
   "cell_type": "code",
   "execution_count": null,
   "metadata": {},
   "outputs": [],
   "source": [
    "# калькулятор\n",
    "operations = {\n",
    "      \"+\": lambda x, y: x + y,\n",
    "      \"-\": lambda x, y: x - y,\n",
    "      \"/\": lambda x, y: x / y,\n",
    "      \"*\": lambda x, y: x * y,\n",
    "      \"mod\": lambda x, y: x % y,\n",
    "      \"pow\": lambda x, y: x ** y,\n",
    "      \"div\": lambda x, y: x // y\n",
    "}\n",
    "\n",
    "x, y = float(input()), float(input())\n",
    "operation = input()\n",
    "\n",
    "if operation in [\"mod\", \"div\", \"/\"] and y == 0:\n",
    "    print(\"Деление на 0!\")\n",
    "else:\n",
    "    print(operations[operation](x, y))"
   ]
  },
  {
   "cell_type": "code",
   "execution_count": null,
   "metadata": {},
   "outputs": [],
   "source": [
    "#Калькулятор\n",
    "n1, n2 = (float(input()) for _ in '12')\n",
    "op = input()\n",
    "if n2 == 0 and (op == '/' or op == 'mod' or op == 'div'):\n",
    "    n1 = 'Деление на 0!'\n",
    "else:\n",
    "    if op == '+': n1 += n2\n",
    "    if op == '-': n1 -= n2\n",
    "    if op == '/': n1 /= n2\n",
    "    if op == '*': n1 *= n2\n",
    "    if op == 'mod': n1 %= n2\n",
    "    if op == 'pow': n1 **= n2\n",
    "    if op == 'div': n1 //= n2\n",
    "print(n1)"
   ]
  },
  {
   "cell_type": "code",
   "execution_count": null,
   "metadata": {},
   "outputs": [],
   "source": [
    "# Калькулятор\n",
    "def calc(a, b, cmd):\n",
    "    try:\n",
    "        array = {\"+\": lambda a, b: a+b,\n",
    "                 \"-\": lambda a, b: a-b,\n",
    "                 \"/\": lambda a, b: a/b,\n",
    "                 \"*\": lambda a, b: a*b,\n",
    "                 \"mod\": lambda a, b: a%b,\n",
    "                 \"pow\": lambda a, b: a**b,\n",
    "                 \"div\": lambda a, b: a//b,}\n",
    "        return array[cmd](a, b)\n",
    "    except ZeroDivisionError:\n",
    "        return \"Деление на 0!\"\n",
    "print(calc (float(input()), float(input()), input()))"
   ]
  },
  {
   "cell_type": "code",
   "execution_count": 28,
   "metadata": {},
   "outputs": [
    {
     "name": "stdout",
     "output_type": "stream",
     "text": [
      "треугольник\n",
      "3\n",
      "4\n",
      "5\n",
      "6.0\n"
     ]
    }
   ],
   "source": [
    "#Жители страны Малевии часто экспериментируют с планировкой комнат. Комнаты бывают треугольные, прямоугольные и круглые.\n",
    "#Чтобы быстро вычислять жилплощадь, требуется написать программу, на вход которой подаётся тип фигуры комнаты \n",
    "#и соответствующие параметры, которая бы выводила площадь получившейся комнаты.\n",
    "#Для числа π в стране Малевии используют значение 3.14.\n",
    "#Формат ввода, который используют Малевийцы: треугольник (a,b,c),прямоугольник(a,b),круг(r)\n",
    "\n",
    "#Площадь треугольника:\n",
    "#p=(a+b+c)/2\n",
    "#S = √p(p - a)(p - b)(p - c)\n",
    "#s = (p*(p - a)*(p - b)*(p - c)) ** 0.5\n",
    "#Площадь прямоугольника:\n",
    "#S = a · b\n",
    "#Площадь круга:\n",
    "#S = π r2\n",
    "\n",
    "name = str(input())\n",
    "if name == 'треугольник':\n",
    "    a = int(input())\n",
    "    b = int(input())\n",
    "    c = int(input())\n",
    "    p = (a + b + c) / 2\n",
    "    S = (p*(p - a)*(p - b)*(p - c)) ** 0.5\n",
    "    print(S)\n",
    "elif name == 'прямоугольник':\n",
    "    a = int(input())\n",
    "    b = int(input())\n",
    "    S = a * b\n",
    "    print(S)\n",
    "elif name == 'круг':\n",
    "    r = int(input())\n",
    "    S = 3.14 * r ** 2\n",
    "    print(S)"
   ]
  },
  {
   "cell_type": "code",
   "execution_count": 35,
   "metadata": {},
   "outputs": [
    {
     "name": "stdout",
     "output_type": "stream",
     "text": [
      "23\n",
      "23\n",
      "21\n",
      "23\n",
      "21\n",
      "23\n"
     ]
    }
   ],
   "source": [
    "#Напишите программу, которая получает на вход три целых числа, по одному числу в строке, и выводит на консоль в три строки \n",
    "#сначала максимальное, потом минимальное, после чего оставшееся число.\n",
    "\n",
    "#На ввод могут подаваться и повторяющиеся числа.\n",
    "n2 = int(input())\n",
    "n3 = int(input())\n",
    "if n1 >= n2 >= n3: #1\n",
    "    print(n1)\n",
    "    print(n3)\n",
    "    print(n2)\n",
    "elif n1 >= n3 >= n2: #2\n",
    "    print(n1)\n",
    "    print(n2)\n",
    "    print(n3)\n",
    "elif n2 >= n1 >= n3: #3\n",
    "    print(n2)\n",
    "    print(n3)\n",
    "    print(n1)\n",
    "elif n2 >= n3 >= n1: #4\n",
    "    print(n2)\n",
    "    print(n1)\n",
    "    print(n3)\n",
    "elif n3 >= n1 >= n2: #5\n",
    "    print(n3)\n",
    "    print(n2)\n",
    "    print(n1)\n",
    "else: #6\n",
    "    print(n3)\n",
    "    print(n1)\n",
    "    print(n2)\n"
   ]
  },
  {
   "cell_type": "code",
   "execution_count": 41,
   "metadata": {},
   "outputs": [
    {
     "name": "stdout",
     "output_type": "stream",
     "text": [
      "23\n",
      "23\n",
      "21\n",
      "23\n",
      "21\n",
      "23\n"
     ]
    }
   ],
   "source": [
    "#  тот же код но немного не доработан\n",
    "a,b,c = int(input()), int(input()), int(input())\n",
    "\n",
    "if a < b:\n",
    "    a, b = b, a\n",
    "if a < c:\n",
    "    a, c = c, a\n",
    "if b > c:\n",
    "    b, c = c, b\n",
    "if b < c:\n",
    "    c, b = b, c\n",
    "    print(a)\n",
    "    print(c)\n",
    "    print(b)\n",
    "    \n",
    "# здесь все верно   \n",
    "a,b,c = int(input()), int(input()), int(input())\n",
    "\n",
    "if a < b:\n",
    "\ta, b = b, a\n",
    "if a < c:\n",
    "\ta, c = c, a\n",
    "if b > c:\n",
    "\tb, c = c, b\n",
    "print(a)\n",
    "print(b)\n",
    "print(c)    "
   ]
  },
  {
   "cell_type": "code",
   "execution_count": null,
   "metadata": {},
   "outputs": [],
   "source": [
    "a,b,c=int(input()),int(input()),int(input())\n",
    "maxim=a\n",
    "minim=b\n",
    "if b>a:\n",
    "    maxim=b\n",
    "    minim=a\n",
    "if c>maxim:\n",
    "    maxim=c\n",
    "if c<minim:\n",
    "    minim=c\n",
    "ost=a+b+c-minim-maxim\n",
    "print(maxim)\n",
    "print(minim)\n",
    "print(ost)"
   ]
  },
  {
   "cell_type": "code",
   "execution_count": null,
   "metadata": {},
   "outputs": [],
   "source": [
    "a = int(input())\n",
    "b = int(input())\n",
    "c = int(input())\n",
    "\n",
    "if a <= b:\n",
    "    a, b = b, a\n",
    "if b <= c:\n",
    "    b, c = c, b\n",
    "if a <= b:\n",
    "    a, b = b, a\n",
    "    \n",
    "print(a,c,b, sep='\\n')"
   ]
  },
  {
   "cell_type": "code",
   "execution_count": null,
   "metadata": {},
   "outputs": [],
   "source": [
    "a, b, c = int(input()), int(input()), int(input())\n",
    "max_int = max(a, b, c)\n",
    "min_int = min(a, b, c)\n",
    "print(max_int)\n",
    "print(min_int)\n",
    "print((a + b + c) - max_int - min_int"
   ]
  },
  {
   "cell_type": "code",
   "execution_count": null,
   "metadata": {},
   "outputs": [],
   "source": [
    "В институте биоинформатики по офису передвигается робот. Недавно студенты из группы программистов написали для него программу,\n",
    "по которой робот, когда заходит в комнату, считает количество программистов в ней и произносит его вслух: \"n программистов\".\n",
    "Для того, чтобы это звучало правильно, для каждого nn нужно использовать верное окончание слова.\n",
    "Напишите программу, считывающую с пользовательского ввода целое число nn (неотрицательное), выводящее это число в консоль вместе с \n",
    "правильным образом изменённым словом \"программист\", для того, чтобы робот мог нормально общаться с людьми, например: \n",
    "    1 программист, 2 программиста, 5 программистов.\n",
    "В комнате может быть очень много программистов. Проверьте, что ваша программа правильно обработает все случаи,\n",
    "как минимум до 1000 человек.\n",
    "Дополнительный комментарий к условию:\n",
    "Обратите внимание, что задача не так проста, как кажется на первый взгляд. Если ваше решение не проходит какой-то тест, это значит, \n",
    "что вы не рассмотрели какой-то из случаев входных данных (число программистов 0 \\le n \\le 10000≤n≤1000). Обязательно проверяйте \n",
    "свои решения на дополнительных значениях, а не только на тех, что приведены в условии задания.\n",
    "\n",
    "Так как задание повышенной сложности, вручную код решений проверяться не будет. Если вы столкнулись с ошибкой в первых\n",
    "четырёх тестах, проверьте, что вы используете только русские символы для ответа. В остальных случаях ищите ошибку в логике \n",
    "работы программы."
   ]
  },
  {
   "cell_type": "code",
   "execution_count": 49,
   "metadata": {},
   "outputs": [
    {
     "name": "stdout",
     "output_type": "stream",
     "text": [
      "22\n",
      "22 программиста\n"
     ]
    }
   ],
   "source": [
    "n = int(input())\n",
    "if (n == 1):\n",
    "    print(n, 'программист')\n",
    "elif (n == 2):\n",
    "    print(n, 'программиста')\n",
    "elif (n == 3):\n",
    "    print(n, 'программиста')\n",
    "elif (n == 4):\n",
    "    print(n, 'программиста')\n",
    "elif (20 >= n >= 5):\n",
    "    print(n, 'программистов')\n",
    "elif (n % 10 == 1) and (n != 11) and (n != 111) and (n != 211) and (n != 311) and (n != 411) and (n != 511) and (n != 611) and (n != 711) and (n != 811) and (n != 911):\n",
    "    print(n, 'программист')\n",
    "elif (n == 11) or (n == 111) or (n == 211) or (n == 311) or (n == 411) or (n == 511) or (n == 611) or (n == 711) or (n == 811) or (n == 911):\n",
    "    print(n, 'программистов')\n",
    "elif (n % 10 == 2) and (n != 12) and (n != 112) and (n != 212) and (n != 312) and (n != 412) and (n != 512) and (n != 612) and (n != 712) and (n != 812) and (n != 912):\n",
    "    print(n, 'программиста')\n",
    "elif (n == 12) or (n == 112) or (n == 212) or (n == 312) or (n == 412) or (n == 512) or (n == 612) or (n == 712) or (n == 812) or (n == 912):\n",
    "    print(n, 'программистов')\n",
    "elif (n % 10 == 3) and (n != 13) and (n != 113) and (n != 213) and (n != 313) and (n != 413) and (n != 513) and (n != 613) and (n != 713) and (n != 813) and (n != 913):\n",
    "    print(n, 'программиста')\n",
    "elif (n == 13) or (n == 113) or (n == 213) or (n == 313) or (n == 413) or (n == 513) or (n == 613) or (n == 713) or (n == 813) or (n == 913):\n",
    "    print(n, 'программистов')\n",
    "elif (n % 10 == 4) and (n != 14) and (n != 114) and (n != 214) and (n != 314) and (n != 414) and (n != 514) and (n != 614) and (n != 714) and (n != 814) and (n != 914):\n",
    "    print(n, 'программиста')\n",
    "elif (n == 14) or (n == 114) or (n == 214) or (n == 314) or (n == 414) or (n == 514) or (n == 614) or (n == 714) or (n == 814) or (n == 914):\n",
    "    print(n, 'программистов')\n",
    "else:\n",
    "    print(n, 'программистов')"
   ]
  },
  {
   "cell_type": "code",
   "execution_count": 50,
   "metadata": {},
   "outputs": [
    {
     "name": "stdout",
     "output_type": "stream",
     "text": [
      "25\n",
      "25 программистов\n"
     ]
    }
   ],
   "source": [
    "n = int(input())\n",
    "if n % 100 in (11, 12, 13, 14) or n % 10 in (5, 6, 7, 8, 9, 0): \n",
    "    print(n, 'программистов')\n",
    "elif n % 10 in (2, 3, 4):\n",
    "    print(n, 'программиста')\n",
    "else:\n",
    "    print(n, 'программист')"
   ]
  },
  {
   "cell_type": "code",
   "execution_count": 51,
   "metadata": {},
   "outputs": [
    {
     "name": "stdout",
     "output_type": "stream",
     "text": [
      "6\n",
      "6 программистов\n"
     ]
    }
   ],
   "source": [
    "c=int(input())\n",
    "n = c % 100\n",
    "if n > 20:\n",
    "    n = n % 10\n",
    "\n",
    "if n==1:\n",
    "    print(str(c) +\" программист\")\n",
    "elif (n > 1 and n < 5):\n",
    "    print(str(c)+ \" программиста\")\n",
    "else:\n",
    "    print(str(c) + \" программистов\")\n",
    "    \n",
    "    \n",
    "    "
   ]
  },
  {
   "cell_type": "code",
   "execution_count": 52,
   "metadata": {},
   "outputs": [
    {
     "name": "stdout",
     "output_type": "stream",
     "text": [
      "20\n",
      "20 программистов\n"
     ]
    }
   ],
   "source": [
    "a=int(input())\n",
    "if (a%10==0 or a%10==5 or a%10==6 or a%10==7 or a%10==8 or a%10==9 or a%100==11 or a%100==12 or a%100==13 or a%100==14) and a!=1 and a!=2 and a!=3 and a!=4:\n",
    "    print(a,'программист'+'ов')\n",
    "elif ((a%10==1 and a>20) or a==1):\n",
    "    print(a,'программист')\n",
    "elif ((a%10==2 or a%10==3 or a%10==4) and (a>20 or (a==2 or a==3 or a==4))):\n",
    "    print(a,'программист'+'а')"
   ]
  },
  {
   "cell_type": "code",
   "execution_count": null,
   "metadata": {},
   "outputs": [],
   "source": [
    "Паша очень любит кататься на общественном транспорте, а получая билет, сразу проверяет, счастливый ли ему попался. \n",
    "Билет считается счастливым, если сумма первых трех цифр совпадает с суммой последних трех цифр номера билета.\n",
    "Однако Паша очень плохо считает в уме, поэтому попросил вас написать программу, которая проверит равенство сумм\n",
    "и выведет \"Счастливый\", если суммы совпадают, и \"Обычный\", если суммы различны.\n",
    "На вход программе подаётся строка из шести цифр.\n",
    "\n",
    "Выводить нужно только слово \"Счастливый\" или \"Обычный\", с большой буквы."
   ]
  },
  {
   "cell_type": "code",
   "execution_count": 70,
   "metadata": {},
   "outputs": [
    {
     "name": "stdout",
     "output_type": "stream",
     "text": [
      "112365\n",
      "Обычный\n"
     ]
    }
   ],
   "source": [
    "num = str(input())\n",
    "a = int(num[0]) + int(num[1]) + int(num[2])\n",
    "b = int(num[3]) + int(num[4]) + int(num[5])\n",
    "if a == b:\n",
    "    print('Счастливый')\n",
    "else:\n",
    "    print('Обычный')"
   ]
  },
  {
   "cell_type": "code",
   "execution_count": 71,
   "metadata": {},
   "outputs": [
    {
     "name": "stdout",
     "output_type": "stream",
     "text": [
      "090234\n",
      "0 9 0 2 3 4\n",
      "Счастливый\n"
     ]
    }
   ],
   "source": [
    "code=int(input())\n",
    "a=code//100000\n",
    "b=code//10000%10\n",
    "c=code//1000%10\n",
    "d=code//100%10\n",
    "e=code//10%10\n",
    "f=code%10\n",
    "print(a,b,c,d,e,f,)\n",
    "if a+b+c==d+e+f:\n",
    "  print('Счастливый')\n",
    "else:\n",
    "  print('Обычный')"
   ]
  },
  {
   "cell_type": "code",
   "execution_count": 72,
   "metadata": {},
   "outputs": [
    {
     "name": "stdout",
     "output_type": "stream",
     "text": [
      "090234\n",
      "Счастливый\n"
     ]
    }
   ],
   "source": [
    "a, b, c, d, e, f = input() # строка из чисел\n",
    "n= int(a)+int (b)+int(c)  # приводим к целому числу\n",
    "m= int(d)+int (e)+int(f)\n",
    "if n==m:\n",
    "    print ('Счастливый')\n",
    "else:\n",
    "    print ('Обычный')"
   ]
  },
  {
   "cell_type": "code",
   "execution_count": 74,
   "metadata": {},
   "outputs": [
    {
     "name": "stdout",
     "output_type": "stream",
     "text": [
      "090234\n",
      "Счастливый\n"
     ]
    }
   ],
   "source": [
    "ans = {False: 'Счастливый', True : 'Обычный'}\n",
    "b,c,d,e,f,g = (int(n) for n in input())\n",
    "print(ans[bool((b+c+d)-(e+f+g))])"
   ]
  },
  {
   "cell_type": "markdown",
   "metadata": {},
   "source": [
    "# ЦИКЛЫ"
   ]
  },
  {
   "cell_type": "code",
   "execution_count": null,
   "metadata": {},
   "outputs": [],
   "source": []
  }
 ],
 "metadata": {
  "kernelspec": {
   "display_name": "Python 3",
   "language": "python",
   "name": "python3"
  },
  "language_info": {
   "codemirror_mode": {
    "name": "ipython",
    "version": 3
   },
   "file_extension": ".py",
   "mimetype": "text/x-python",
   "name": "python",
   "nbconvert_exporter": "python",
   "pygments_lexer": "ipython3",
   "version": "3.8.5"
  }
 },
 "nbformat": 4,
 "nbformat_minor": 4
}
