{
 "cells": [
  {
   "cell_type": "code",
   "execution_count": 1,
   "metadata": {},
   "outputs": [
    {
     "data": {
      "text/plain": [
       "4"
      ]
     },
     "execution_count": 1,
     "metadata": {},
     "output_type": "execute_result"
    }
   ],
   "source": [
    "2 + 2"
   ]
  },
  {
   "cell_type": "markdown",
   "metadata": {},
   "source": [
    "запись в режиме Markdown"
   ]
  },
  {
   "cell_type": "code",
   "execution_count": 3,
   "metadata": {},
   "outputs": [
    {
     "name": "stdout",
     "output_type": "stream",
     "text": [
      "Hello!\n",
      "4\n"
     ]
    }
   ],
   "source": [
    "print('Hello!')\n",
    "print (2 + 2)"
   ]
  },
  {
   "cell_type": "markdown",
   "metadata": {},
   "source": [
    "Инструкция по сдаче домашнего задания:\n",
    "1. Сохранить программу как файл\n",
    "    File>Download as>Python(py)\n",
    " Этот файл можно открыть с помощью текстового редактора,где вспомогательные строки закоментированны,а остается только инструкция для интерпретатора\n",
    "2.Далее копируем текст и вставляем на сайт"
   ]
  },
  {
   "cell_type": "markdown",
   "metadata": {},
   "source": [
    "# Целые цисла"
   ]
  },
  {
   "cell_type": "code",
   "execution_count": 4,
   "metadata": {},
   "outputs": [
    {
     "data": {
      "text/plain": [
       "7"
      ]
     },
     "execution_count": 4,
     "metadata": {},
     "output_type": "execute_result"
    }
   ],
   "source": [
    "2 + 5"
   ]
  },
  {
   "cell_type": "code",
   "execution_count": 5,
   "metadata": {},
   "outputs": [
    {
     "data": {
      "text/plain": [
       "5"
      ]
     },
     "execution_count": 5,
     "metadata": {},
     "output_type": "execute_result"
    }
   ],
   "source": [
    "10 - 5"
   ]
  },
  {
   "cell_type": "code",
   "execution_count": 6,
   "metadata": {},
   "outputs": [
    {
     "data": {
      "text/plain": [
       "42"
      ]
     },
     "execution_count": 6,
     "metadata": {},
     "output_type": "execute_result"
    }
   ],
   "source": [
    "6 * 7"
   ]
  },
  {
   "cell_type": "code",
   "execution_count": 7,
   "metadata": {},
   "outputs": [
    {
     "data": {
      "text/plain": [
       "88172"
      ]
     },
     "execution_count": 7,
     "metadata": {},
     "output_type": "execute_result"
    }
   ],
   "source": [
    "134*658"
   ]
  },
  {
   "cell_type": "code",
   "execution_count": 8,
   "metadata": {},
   "outputs": [
    {
     "data": {
      "text/plain": [
       "23"
      ]
     },
     "execution_count": 8,
     "metadata": {},
     "output_type": "execute_result"
    }
   ],
   "source": [
    "3 + 5 * 4"
   ]
  },
  {
   "cell_type": "code",
   "execution_count": 9,
   "metadata": {},
   "outputs": [
    {
     "data": {
      "text/plain": [
       "32"
      ]
     },
     "execution_count": 9,
     "metadata": {},
     "output_type": "execute_result"
    }
   ],
   "source": [
    "(3 + 5) * 4"
   ]
  },
  {
   "cell_type": "code",
   "execution_count": 11,
   "metadata": {},
   "outputs": [
    {
     "data": {
      "text/plain": [
       "12345554321"
      ]
     },
     "execution_count": 11,
     "metadata": {},
     "output_type": "execute_result"
    }
   ],
   "source": [
    "11111* 1111111"
   ]
  },
  {
   "cell_type": "markdown",
   "metadata": {},
   "source": [
    "Целочисленное деление"
   ]
  },
  {
   "cell_type": "code",
   "execution_count": 12,
   "metadata": {},
   "outputs": [
    {
     "data": {
      "text/plain": [
       "5"
      ]
     },
     "execution_count": 12,
     "metadata": {},
     "output_type": "execute_result"
    }
   ],
   "source": [
    "40 // 8"
   ]
  },
  {
   "cell_type": "code",
   "execution_count": 13,
   "metadata": {},
   "outputs": [
    {
     "data": {
      "text/plain": [
       "5"
      ]
     },
     "execution_count": 13,
     "metadata": {},
     "output_type": "execute_result"
    }
   ],
   "source": [
    "42 // 8"
   ]
  },
  {
   "cell_type": "markdown",
   "metadata": {},
   "source": [
    "Остаток от деления"
   ]
  },
  {
   "cell_type": "code",
   "execution_count": 14,
   "metadata": {},
   "outputs": [
    {
     "data": {
      "text/plain": [
       "2"
      ]
     },
     "execution_count": 14,
     "metadata": {},
     "output_type": "execute_result"
    }
   ],
   "source": [
    "42 % 8"
   ]
  },
  {
   "cell_type": "code",
   "execution_count": 15,
   "metadata": {},
   "outputs": [
    {
     "ename": "ZeroDivisionError",
     "evalue": "integer division or modulo by zero",
     "output_type": "error",
     "traceback": [
      "\u001b[1;31m---------------------------------------------------------------------------\u001b[0m",
      "\u001b[1;31mZeroDivisionError\u001b[0m                         Traceback (most recent call last)",
      "\u001b[1;32m<ipython-input-15-4a248ec6c3cf>\u001b[0m in \u001b[0;36m<module>\u001b[1;34m\u001b[0m\n\u001b[1;32m----> 1\u001b[1;33m \u001b[1;36m42\u001b[0m \u001b[1;33m//\u001b[0m \u001b[1;33m(\u001b[0m\u001b[1;36m4\u001b[0m \u001b[1;33m+\u001b[0m \u001b[1;36m2\u001b[0m \u001b[1;33m*\u001b[0m \u001b[1;33m(\u001b[0m\u001b[1;33m-\u001b[0m\u001b[1;36m2\u001b[0m\u001b[1;33m)\u001b[0m\u001b[1;33m)\u001b[0m\u001b[1;33m\u001b[0m\u001b[1;33m\u001b[0m\u001b[0m\n\u001b[0m",
      "\u001b[1;31mZeroDivisionError\u001b[0m: integer division or modulo by zero"
     ]
    }
   ],
   "source": [
    "42 // (4 + 2 * (-2))"
   ]
  },
  {
   "cell_type": "markdown",
   "metadata": {},
   "source": [
    "Операции с целыми числами"
   ]
  },
  {
   "cell_type": "code",
   "execution_count": 16,
   "metadata": {},
   "outputs": [
    {
     "data": {
      "text/plain": [
       "9"
      ]
     },
     "execution_count": 16,
     "metadata": {},
     "output_type": "execute_result"
    }
   ],
   "source": [
    "239 % 10"
   ]
  },
  {
   "cell_type": "code",
   "execution_count": 17,
   "metadata": {},
   "outputs": [
    {
     "data": {
      "text/plain": [
       "23"
      ]
     },
     "execution_count": 17,
     "metadata": {},
     "output_type": "execute_result"
    }
   ],
   "source": [
    "239 // 10"
   ]
  },
  {
   "cell_type": "code",
   "execution_count": 18,
   "metadata": {},
   "outputs": [
    {
     "data": {
      "text/plain": [
       "32"
      ]
     },
     "execution_count": 18,
     "metadata": {},
     "output_type": "execute_result"
    }
   ],
   "source": [
    "2 ** 5"
   ]
  },
  {
   "cell_type": "code",
   "execution_count": 19,
   "metadata": {},
   "outputs": [
    {
     "data": {
      "text/plain": [
       "18064773765607550801425251468864907833685590016"
      ]
     },
     "execution_count": 19,
     "metadata": {},
     "output_type": "execute_result"
    }
   ],
   "source": [
    "2014 ** 14"
   ]
  },
  {
   "cell_type": "markdown",
   "metadata": {},
   "source": [
    "Операторы бывают бинарные с левым и правым операндом(2+3) , унарные -(42)"
   ]
  },
  {
   "cell_type": "code",
   "execution_count": 20,
   "metadata": {},
   "outputs": [
    {
     "data": {
      "text/plain": [
       "-42"
      ]
     },
     "execution_count": 20,
     "metadata": {},
     "output_type": "execute_result"
    }
   ],
   "source": [
    "-(42)"
   ]
  },
  {
   "cell_type": "code",
   "execution_count": 21,
   "metadata": {},
   "outputs": [
    {
     "data": {
      "text/plain": [
       "-42"
      ]
     },
     "execution_count": 21,
     "metadata": {},
     "output_type": "execute_result"
    }
   ],
   "source": [
    "+-+42"
   ]
  },
  {
   "cell_type": "code",
   "execution_count": 22,
   "metadata": {},
   "outputs": [
    {
     "ename": "SyntaxError",
     "evalue": "invalid syntax (<ipython-input-22-761874de80cf>, line 1)",
     "output_type": "error",
     "traceback": [
      "\u001b[1;36m  File \u001b[1;32m\"<ipython-input-22-761874de80cf>\"\u001b[1;36m, line \u001b[1;32m1\u001b[0m\n\u001b[1;33m    -*42\u001b[0m\n\u001b[1;37m     ^\u001b[0m\n\u001b[1;31mSyntaxError\u001b[0m\u001b[1;31m:\u001b[0m invalid syntax\n"
     ]
    }
   ],
   "source": [
    "# Выражение которое нарушает синтаксис языка python указывающее на строку с нарушением\n",
    "-*42"
   ]
  },
  {
   "cell_type": "code",
   "execution_count": 23,
   "metadata": {},
   "outputs": [
    {
     "name": "stdout",
     "output_type": "stream",
     "text": [
      "test\n"
     ]
    },
    {
     "ename": "SyntaxError",
     "evalue": "can't use starred expression here (<ipython-input-23-57eb71baa164>, line 2)",
     "output_type": "error",
     "traceback": [
      "\u001b[1;36m  File \u001b[1;32m\"<ipython-input-23-57eb71baa164>\"\u001b[1;36m, line \u001b[1;32m2\u001b[0m\n\u001b[1;33m    *23\u001b[0m\n\u001b[1;37m    ^\u001b[0m\n\u001b[1;31mSyntaxError\u001b[0m\u001b[1;31m:\u001b[0m can't use starred expression here\n"
     ]
    }
   ],
   "source": [
    "print('test')\n",
    "*23"
   ]
  },
  {
   "cell_type": "code",
   "execution_count": 24,
   "metadata": {},
   "outputs": [
    {
     "ename": "ZeroDivisionError",
     "evalue": "integer division or modulo by zero",
     "output_type": "error",
     "traceback": [
      "\u001b[1;31m---------------------------------------------------------------------------\u001b[0m",
      "\u001b[1;31mZeroDivisionError\u001b[0m                         Traceback (most recent call last)",
      "\u001b[1;32m<ipython-input-24-6a750ef75a7c>\u001b[0m in \u001b[0;36m<module>\u001b[1;34m\u001b[0m\n\u001b[0;32m      1\u001b[0m \u001b[1;31m# на ноль делить нельзя\u001b[0m\u001b[1;33m\u001b[0m\u001b[1;33m\u001b[0m\u001b[1;33m\u001b[0m\u001b[0m\n\u001b[1;32m----> 2\u001b[1;33m \u001b[1;36m5\u001b[0m \u001b[1;33m//\u001b[0m \u001b[1;36m0\u001b[0m\u001b[1;33m\u001b[0m\u001b[1;33m\u001b[0m\u001b[0m\n\u001b[0m",
      "\u001b[1;31mZeroDivisionError\u001b[0m: integer division or modulo by zero"
     ]
    }
   ],
   "source": [
    "# на ноль делить нельзя\n",
    "5 // 0"
   ]
  },
  {
   "cell_type": "markdown",
   "metadata": {},
   "source": [
    "Операции с вещественными числами"
   ]
  },
  {
   "cell_type": "code",
   "execution_count": 25,
   "metadata": {},
   "outputs": [
    {
     "data": {
      "text/plain": [
       "0.5"
      ]
     },
     "execution_count": 25,
     "metadata": {},
     "output_type": "execute_result"
    }
   ],
   "source": [
    "0.5"
   ]
  },
  {
   "cell_type": "code",
   "execution_count": 26,
   "metadata": {},
   "outputs": [
    {
     "data": {
      "text/plain": [
       "0.8"
      ]
     },
     "execution_count": 26,
     "metadata": {},
     "output_type": "execute_result"
    }
   ],
   "source": [
    "0.5 + 0.3"
   ]
  },
  {
   "cell_type": "code",
   "execution_count": 27,
   "metadata": {},
   "outputs": [
    {
     "data": {
      "text/plain": [
       "2.5"
      ]
     },
     "execution_count": 27,
     "metadata": {},
     "output_type": "execute_result"
    }
   ],
   "source": [
    "5/2"
   ]
  },
  {
   "cell_type": "code",
   "execution_count": 28,
   "metadata": {},
   "outputs": [
    {
     "data": {
      "text/plain": [
       "2"
      ]
     },
     "execution_count": 28,
     "metadata": {},
     "output_type": "execute_result"
    }
   ],
   "source": [
    "5//2"
   ]
  },
  {
   "cell_type": "code",
   "execution_count": 29,
   "metadata": {},
   "outputs": [
    {
     "data": {
      "text/plain": [
       "0.3333333333333333"
      ]
     },
     "execution_count": 29,
     "metadata": {},
     "output_type": "execute_result"
    }
   ],
   "source": [
    "1/3"
   ]
  },
  {
   "cell_type": "code",
   "execution_count": 30,
   "metadata": {},
   "outputs": [
    {
     "data": {
      "text/plain": [
       "0.8999999999999999"
      ]
     },
     "execution_count": 30,
     "metadata": {},
     "output_type": "execute_result"
    }
   ],
   "source": [
    "# погрешность\n",
    "0.3 + 0.3 +0.3"
   ]
  },
  {
   "cell_type": "code",
   "execution_count": 31,
   "metadata": {},
   "outputs": [
    {
     "data": {
      "text/plain": [
       "32"
      ]
     },
     "execution_count": 31,
     "metadata": {},
     "output_type": "execute_result"
    }
   ],
   "source": [
    "2 ** 5"
   ]
  },
  {
   "cell_type": "code",
   "execution_count": 32,
   "metadata": {},
   "outputs": [
    {
     "data": {
      "text/plain": [
       "3.0"
      ]
     },
     "execution_count": 32,
     "metadata": {},
     "output_type": "execute_result"
    }
   ],
   "source": [
    "9 ** 0.5"
   ]
  },
  {
   "cell_type": "code",
   "execution_count": 33,
   "metadata": {},
   "outputs": [
    {
     "data": {
      "text/plain": [
       "0.5"
      ]
     },
     "execution_count": 33,
     "metadata": {},
     "output_type": "execute_result"
    }
   ],
   "source": [
    "# это как 5*10**(-1)\n",
    "5e-1"
   ]
  },
  {
   "cell_type": "code",
   "execution_count": 35,
   "metadata": {},
   "outputs": [
    {
     "data": {
      "text/plain": [
       "0.5"
      ]
     },
     "execution_count": 35,
     "metadata": {},
     "output_type": "execute_result"
    }
   ],
   "source": [
    "5*10**(-1)"
   ]
  },
  {
   "cell_type": "code",
   "execution_count": 36,
   "metadata": {},
   "outputs": [
    {
     "data": {
      "text/plain": [
       "12.34"
      ]
     },
     "execution_count": 36,
     "metadata": {},
     "output_type": "execute_result"
    }
   ],
   "source": [
    "# это как 1234 * 10**(-2)\n",
    "1234e-2"
   ]
  },
  {
   "cell_type": "code",
   "execution_count": 37,
   "metadata": {},
   "outputs": [
    {
     "data": {
      "text/plain": [
       "12.34"
      ]
     },
     "execution_count": 37,
     "metadata": {},
     "output_type": "execute_result"
    }
   ],
   "source": [
    "1234 * 10**(-2)"
   ]
  },
  {
   "cell_type": "code",
   "execution_count": 38,
   "metadata": {},
   "outputs": [
    {
     "data": {
      "text/plain": [
       "123400.0"
      ]
     },
     "execution_count": 38,
     "metadata": {},
     "output_type": "execute_result"
    }
   ],
   "source": [
    "# это как 1234 * 10 ** 2\n",
    "1234e2"
   ]
  },
  {
   "cell_type": "code",
   "execution_count": 39,
   "metadata": {},
   "outputs": [
    {
     "data": {
      "text/plain": [
       "123400"
      ]
     },
     "execution_count": 39,
     "metadata": {},
     "output_type": "execute_result"
    }
   ],
   "source": [
    " 1234 * 10 ** 2"
   ]
  },
  {
   "cell_type": "code",
   "execution_count": 40,
   "metadata": {},
   "outputs": [
    {
     "name": "stdout",
     "output_type": "stream",
     "text": [
      "1234.5\n"
     ]
    }
   ],
   "source": [
    "print(1.2345e3)"
   ]
  },
  {
   "cell_type": "code",
   "execution_count": 41,
   "metadata": {},
   "outputs": [
    {
     "name": "stdout",
     "output_type": "stream",
     "text": [
      "0.0012345\n"
     ]
    }
   ],
   "source": [
    "print(1.2345e-3)"
   ]
  },
  {
   "cell_type": "code",
   "execution_count": 42,
   "metadata": {},
   "outputs": [
    {
     "data": {
      "text/plain": [
       "1.806477376560755e+46"
      ]
     },
     "execution_count": 42,
     "metadata": {},
     "output_type": "execute_result"
    }
   ],
   "source": [
    "2014.0 ** 14"
   ]
  },
  {
   "cell_type": "code",
   "execution_count": 43,
   "metadata": {},
   "outputs": [
    {
     "data": {
      "text/plain": [
       "2.3333333333333335"
      ]
     },
     "execution_count": 43,
     "metadata": {},
     "output_type": "execute_result"
    }
   ],
   "source": [
    "7/3"
   ]
  },
  {
   "cell_type": "code",
   "execution_count": 44,
   "metadata": {},
   "outputs": [
    {
     "data": {
      "text/plain": [
       "2"
      ]
     },
     "execution_count": 44,
     "metadata": {},
     "output_type": "execute_result"
    }
   ],
   "source": [
    "7 // 3"
   ]
  },
  {
   "cell_type": "markdown",
   "metadata": {},
   "source": [
    "# Некоторые стандартные типы"
   ]
  },
  {
   "cell_type": "raw",
   "metadata": {},
   "source": [
    "Данные в python являются объектами. Объект имеет свой тип. Тип задает множество значений объекта и то,\n",
    "какие операции можно над этим объектом совершать.\n",
    "Числовые\n",
    "    целые-int\n",
    "    вещественные-float\n",
    "    логические-bool\n",
    "Строковые\n",
    "    строки-str\n",
    "Все перечисленные типы являются неизменяемые\n",
    "*Для изменения необходимо создать новый объект с новым значением"
   ]
  },
  {
   "cell_type": "raw",
   "metadata": {},
   "source": [
    "Преобразование типов:\n",
    "    int(x)-преобразование к целому числу\n",
    "        int(2.3)->2\n",
    "    float(x)-преобразование к цислу с плавающей точкой\n",
    "        float(5)->5.0"
   ]
  },
  {
   "cell_type": "code",
   "execution_count": 45,
   "metadata": {},
   "outputs": [
    {
     "data": {
      "text/plain": [
       "2"
      ]
     },
     "execution_count": 45,
     "metadata": {},
     "output_type": "execute_result"
    }
   ],
   "source": [
    "int(2.99)"
   ]
  },
  {
   "cell_type": "code",
   "execution_count": null,
   "metadata": {},
   "outputs": [],
   "source": []
  },
  {
   "cell_type": "code",
   "execution_count": 46,
   "metadata": {},
   "outputs": [
    {
     "data": {
      "text/plain": [
       "89"
      ]
     },
     "execution_count": 46,
     "metadata": {},
     "output_type": "execute_result"
    }
   ],
   "source": [
    "9**19 - int(float(9**19))"
   ]
  },
  {
   "cell_type": "raw",
   "metadata": {},
   "source": [
    "Узнать тип объекта помогает функция type()"
   ]
  },
  {
   "cell_type": "code",
   "execution_count": 47,
   "metadata": {},
   "outputs": [
    {
     "data": {
      "text/plain": [
       "int"
      ]
     },
     "execution_count": 47,
     "metadata": {},
     "output_type": "execute_result"
    }
   ],
   "source": [
    "type(7)"
   ]
  },
  {
   "cell_type": "code",
   "execution_count": 48,
   "metadata": {},
   "outputs": [
    {
     "data": {
      "text/plain": [
       "float"
      ]
     },
     "execution_count": 48,
     "metadata": {},
     "output_type": "execute_result"
    }
   ],
   "source": [
    "type(7.2)"
   ]
  },
  {
   "cell_type": "markdown",
   "metadata": {},
   "source": [
    "# Переменные"
   ]
  },
  {
   "cell_type": "raw",
   "metadata": {},
   "source": [
    "Часто объекту удобно задать имя и обращаться к нему по имени"
   ]
  },
  {
   "cell_type": "code",
   "execution_count": 49,
   "metadata": {},
   "outputs": [
    {
     "name": "stdout",
     "output_type": "stream",
     "text": [
      "5\n"
     ]
    }
   ],
   "source": [
    "a = 3 # переменной присваиваем значение 3\n",
    "b = 2\n",
    "print(a + b)"
   ]
  },
  {
   "cell_type": "code",
   "execution_count": 50,
   "metadata": {},
   "outputs": [
    {
     "name": "stdout",
     "output_type": "stream",
     "text": [
      "8\n"
     ]
    }
   ],
   "source": [
    "a = 6 # Присваевоем новое значение\n",
    "print(a + b)"
   ]
  },
  {
   "cell_type": "code",
   "execution_count": 56,
   "metadata": {},
   "outputs": [
    {
     "name": "stdout",
     "output_type": "stream",
     "text": [
      "16\n"
     ]
    }
   ],
   "source": [
    "b = b + 2\n",
    "print(b)"
   ]
  },
  {
   "cell_type": "code",
   "execution_count": null,
   "metadata": {},
   "outputs": [],
   "source": [
    "b = b + 2\n",
    "b += 2\n",
    "print(b)"
   ]
  },
  {
   "cell_type": "raw",
   "metadata": {},
   "source": [
    "Имя переменной:\n",
    "    -может состоять из букв(строчных и прописных),цифр,подчеркиваний\n",
    "    -должно начинаться с букв или подчеркивания\n",
    "    -не должно являться ключевым словом(например True)\n",
    "    -регистр букв имеет значение(a, A)"
   ]
  },
  {
   "cell_type": "raw",
   "metadata": {},
   "source": [
    "Динамическая типизация \n",
    "когда переменная может изменя type по ходу программы"
   ]
  },
  {
   "cell_type": "code",
   "execution_count": 57,
   "metadata": {},
   "outputs": [
    {
     "ename": "NameError",
     "evalue": "name 'foo' is not defined",
     "output_type": "error",
     "traceback": [
      "\u001b[1;31m---------------------------------------------------------------------------\u001b[0m",
      "\u001b[1;31mNameError\u001b[0m                                 Traceback (most recent call last)",
      "\u001b[1;32m<ipython-input-57-688dd35b7497>\u001b[0m in \u001b[0;36m<module>\u001b[1;34m\u001b[0m\n\u001b[0;32m      1\u001b[0m \u001b[0ma\u001b[0m \u001b[1;33m=\u001b[0m \u001b[1;36m5\u001b[0m\u001b[1;33m\u001b[0m\u001b[1;33m\u001b[0m\u001b[0m\n\u001b[0;32m      2\u001b[0m \u001b[0ma\u001b[0m \u001b[1;33m=\u001b[0m\u001b[1;34m\"asdjj\"\u001b[0m\u001b[1;33m\u001b[0m\u001b[1;33m\u001b[0m\u001b[0m\n\u001b[1;32m----> 3\u001b[1;33m \u001b[0ma\u001b[0m \u001b[1;33m=\u001b[0m \u001b[0mfoo\u001b[0m\u001b[1;33m(\u001b[0m\u001b[1;33m)\u001b[0m\u001b[1;33m\u001b[0m\u001b[1;33m\u001b[0m\u001b[0m\n\u001b[0m\u001b[0;32m      4\u001b[0m \u001b[1;33m\u001b[0m\u001b[0m\n\u001b[0;32m      5\u001b[0m \u001b[0mtype\u001b[0m\u001b[1;33m(\u001b[0m\u001b[0ma\u001b[0m\u001b[1;33m)\u001b[0m\u001b[1;33m\u001b[0m\u001b[1;33m\u001b[0m\u001b[0m\n",
      "\u001b[1;31mNameError\u001b[0m: name 'foo' is not defined"
     ]
    }
   ],
   "source": [
    "a = 5\n",
    "a =\"asdjj\"\n",
    "a = foo()\n",
    "\n",
    "type(a)"
   ]
  },
  {
   "cell_type": "markdown",
   "metadata": {},
   "source": [
    "# Ввод данных "
   ]
  },
  {
   "cell_type": "raw",
   "metadata": {},
   "source": [
    "input()-читает строку с клавиатуры\n",
    "input(\"Введите данные: \")\n",
    "\n",
    "s = input() # записать в переменную s пользовательски ввод\n",
    "a = int(input()) # прочитать строку с клавиатуры и преобразовать в число\n",
    "\n",
    "print('')- вывод данных"
   ]
  },
  {
   "cell_type": "code",
   "execution_count": 58,
   "metadata": {},
   "outputs": [],
   "source": [
    "a = 3"
   ]
  },
  {
   "cell_type": "code",
   "execution_count": 59,
   "metadata": {},
   "outputs": [
    {
     "data": {
      "text/plain": [
       "3"
      ]
     },
     "execution_count": 59,
     "metadata": {},
     "output_type": "execute_result"
    }
   ],
   "source": [
    "a"
   ]
  },
  {
   "cell_type": "code",
   "execution_count": 60,
   "metadata": {},
   "outputs": [],
   "source": [
    "a += 4"
   ]
  },
  {
   "cell_type": "code",
   "execution_count": 61,
   "metadata": {},
   "outputs": [
    {
     "data": {
      "text/plain": [
       "7"
      ]
     },
     "execution_count": 61,
     "metadata": {},
     "output_type": "execute_result"
    }
   ],
   "source": [
    "a"
   ]
  },
  {
   "cell_type": "code",
   "execution_count": 62,
   "metadata": {},
   "outputs": [
    {
     "data": {
      "text/plain": [
       "14"
      ]
     },
     "execution_count": 62,
     "metadata": {},
     "output_type": "execute_result"
    }
   ],
   "source": [
    "a\n",
    "2 * a"
   ]
  },
  {
   "cell_type": "code",
   "execution_count": 65,
   "metadata": {},
   "outputs": [
    {
     "name": "stdout",
     "output_type": "stream",
     "text": [
      "7\n",
      "14\n"
     ]
    }
   ],
   "source": [
    "print (a)\n",
    "print (2 * a)"
   ]
  },
  {
   "cell_type": "code",
   "execution_count": 66,
   "metadata": {},
   "outputs": [
    {
     "name": "stdout",
     "output_type": "stream",
     "text": [
      "Валера\n",
      "Hello Валера\n"
     ]
    }
   ],
   "source": [
    "name = input()\n",
    "print('Hello', name)"
   ]
  },
  {
   "cell_type": "code",
   "execution_count": 67,
   "metadata": {},
   "outputs": [
    {
     "name": "stdout",
     "output_type": "stream",
     "text": [
      "Enter your name: ВАлера\n",
      "Hello ВАлера\n"
     ]
    }
   ],
   "source": [
    "name = input('Enter your name: ')\n",
    "print('Hello', name)"
   ]
  },
  {
   "cell_type": "code",
   "execution_count": 69,
   "metadata": {},
   "outputs": [
    {
     "name": "stdout",
     "output_type": "stream",
     "text": [
      "6\n",
      "12\n"
     ]
    }
   ],
   "source": [
    "a = int(input())\n",
    "print (a * 2)"
   ]
  },
  {
   "cell_type": "code",
   "execution_count": 70,
   "metadata": {},
   "outputs": [
    {
     "name": "stdout",
     "output_type": "stream",
     "text": [
      "2\n",
      "3\n",
      "6\n"
     ]
    }
   ],
   "source": [
    "a = int(input())\n",
    "b  = int(input())\n",
    "print(a * b)"
   ]
  },
  {
   "cell_type": "code",
   "execution_count": 71,
   "metadata": {},
   "outputs": [
    {
     "name": "stdout",
     "output_type": "stream",
     "text": [
      "7\n",
      "30\n",
      "450\n"
     ]
    }
   ],
   "source": [
    "#Тимофей обычно спит ночью X часов и устраивает себе днем тихий час на Y минут.\n",
    "#Определите, сколько всего минут Тимофей спит в сутки.\n",
    "\n",
    "#Внимание, программа принимает значения X и Y из стандартного потока ввода (функция input), \n",
    "#результат надо выводить в стандартный поток вывода (функция print). \n",
    "#Обратите внимание на то, что приглашение, переданное в качестве аргумента в функцию input,\n",
    "#считается выводом вашей программы. Используйте эту функцию без аргументов:\n",
    "X = int(input())\n",
    "Y = int(input())\n",
    "print(X*60 + Y)"
   ]
  },
  {
   "cell_type": "code",
   "execution_count": 73,
   "metadata": {},
   "outputs": [
    {
     "name": "stdout",
     "output_type": "stream",
     "text": [
      "480\n",
      "8\n",
      "0\n"
     ]
    }
   ],
   "source": [
    "#Коля каждый день ложится спать ровно в полночь и недавно узнал, что оптимальное время для его сна составляет X минут. \n",
    "#Коля хочет поставить себе будильник так, чтобы он прозвенел ровно через X минут после полуночи, \n",
    "#однако для этого необходимо указать время сигнала в формате часы, минуты. Помогите Коле определить,\n",
    "#на какое время завести будильник.\n",
    "#Часы и минуты в выводе программы должны располагаться на разных строках (см. пример работы программы)\n",
    "\n",
    "#Помните, что для считывания данных нужно вызывать функцию input без аргументов!\n",
    "X = int(input())\n",
    "print(X // 60)\n",
    "print(X % 60)"
   ]
  },
  {
   "cell_type": "code",
   "execution_count": 6,
   "metadata": {},
   "outputs": [
    {
     "name": "stdout",
     "output_type": "stream",
     "text": [
      "480\n",
      "1\n",
      "2\n",
      "9\n",
      "2\n"
     ]
    }
   ],
   "source": [
    "#Катя узнала, что ей для сна надо X минут. В отличие от Коли, Катя ложится спать после полуночи в H часов и M минут.\n",
    "#Помогите Кате определить, на какое время ей поставить будильник, чтобы он прозвенел ровно через X минут после того, \n",
    "#как она ляжет спать.\n",
    "\n",
    "#На стандартный ввод, каждое в своей строке, подаются значения XX, HH и MM.\n",
    "#Гарантируется, что Катя должна проснуться в тот же день, что и заснуть. \n",
    "#Программа должна выводить время, на которое нужно поставить будильник: в первой строке часы, во второй — минуты.\n",
    "for_sleep_min = int(input())\n",
    "Hour_in_min = int(input()) * 60\n",
    "minut = int(input())\n",
    "all_min = for_sleep_min + Hour_in_min + minut\n",
    "print(all_min // 60)\n",
    "print(all_min % 60)"
   ]
  },
  {
   "cell_type": "markdown",
   "metadata": {},
   "source": [
    "# Логические значения"
   ]
  },
  {
   "cell_type": "raw",
   "metadata": {},
   "source": [
    "False(0)\n",
    "True(1)\n",
    "\n",
    "Операции:\n",
    "    x or y    x and y    not x             x y\n",
    "                                             \n",
    "      0          0         1               0 0\n",
    "      1          0         0               0 1\n",
    "      1          0         0               1 0\n",
    "      1          1         0               1 1    "
   ]
  },
  {
   "cell_type": "markdown",
   "metadata": {},
   "source": [
    "операции сравнения"
   ]
  },
  {
   "cell_type": "raw",
   "metadata": {},
   "source": [
    ">  строго больше\n",
    ">= больше или равно\n",
    "<  строго меньше\n",
    "<= меньше или равно\n",
    "== равно\n",
    "!= не равно"
   ]
  },
  {
   "cell_type": "code",
   "execution_count": 8,
   "metadata": {},
   "outputs": [
    {
     "name": "stdout",
     "output_type": "stream",
     "text": [
      "10\n",
      "True\n"
     ]
    }
   ],
   "source": [
    "a = int(input())\n",
    "print(a > 0)"
   ]
  },
  {
   "cell_type": "code",
   "execution_count": 9,
   "metadata": {},
   "outputs": [
    {
     "name": "stdout",
     "output_type": "stream",
     "text": [
      "0\n",
      "False\n"
     ]
    }
   ],
   "source": [
    "a = int(input())\n",
    "print(a > 0)"
   ]
  },
  {
   "cell_type": "code",
   "execution_count": 10,
   "metadata": {},
   "outputs": [
    {
     "name": "stdout",
     "output_type": "stream",
     "text": [
      "-2\n",
      "False\n"
     ]
    }
   ],
   "source": [
    "a = int(input())\n",
    "print(a > 0)"
   ]
  },
  {
   "cell_type": "markdown",
   "metadata": {},
   "source": [
    "Проверка двухзначного числа"
   ]
  },
  {
   "cell_type": "code",
   "execution_count": 11,
   "metadata": {},
   "outputs": [
    {
     "name": "stdout",
     "output_type": "stream",
     "text": [
      "5\n",
      "False\n"
     ]
    }
   ],
   "source": [
    "a = int(input())\n",
    "print(a >= 10 and a < 100)"
   ]
  },
  {
   "cell_type": "code",
   "execution_count": 12,
   "metadata": {},
   "outputs": [
    {
     "name": "stdout",
     "output_type": "stream",
     "text": [
      "10\n",
      "True\n"
     ]
    }
   ],
   "source": [
    "a = int(input())\n",
    "print(a >= 10 and a < 100)"
   ]
  },
  {
   "cell_type": "code",
   "execution_count": 13,
   "metadata": {},
   "outputs": [
    {
     "name": "stdout",
     "output_type": "stream",
     "text": [
      "106\n",
      "False\n"
     ]
    }
   ],
   "source": [
    "a = int(input())\n",
    "print(a >= 10 and a < 100)"
   ]
  },
  {
   "cell_type": "markdown",
   "metadata": {},
   "source": [
    "Сокращенная запись"
   ]
  },
  {
   "cell_type": "code",
   "execution_count": 15,
   "metadata": {},
   "outputs": [
    {
     "name": "stdout",
     "output_type": "stream",
     "text": [
      "99\n",
      "True\n"
     ]
    }
   ],
   "source": [
    "a = int(input())\n",
    "print(10 <= a < 100)"
   ]
  },
  {
   "cell_type": "code",
   "execution_count": 16,
   "metadata": {},
   "outputs": [
    {
     "data": {
      "text/plain": [
       "True"
      ]
     },
     "execution_count": 16,
     "metadata": {},
     "output_type": "execute_result"
    }
   ],
   "source": [
    "x1, x2, x3 = False, True, False\n",
    "not x1 or x2 and x3"
   ]
  },
  {
   "cell_type": "raw",
   "metadata": {},
   "source": [
    "Получилось True or x2 and x3\n",
    "Так как and приоритетнее чем or  то вычисляем его"
   ]
  },
  {
   "cell_type": "code",
   "execution_count": 17,
   "metadata": {},
   "outputs": [
    {
     "data": {
      "text/plain": [
       "False"
      ]
     },
     "execution_count": 17,
     "metadata": {},
     "output_type": "execute_result"
    }
   ],
   "source": [
    "True and False"
   ]
  },
  {
   "cell_type": "code",
   "execution_count": 18,
   "metadata": {},
   "outputs": [
    {
     "data": {
      "text/plain": [
       "True"
      ]
     },
     "execution_count": 18,
     "metadata": {},
     "output_type": "execute_result"
    }
   ],
   "source": [
    "# Теперь вычисляем or\n",
    "True or False"
   ]
  },
  {
   "cell_type": "code",
   "execution_count": 19,
   "metadata": {},
   "outputs": [
    {
     "data": {
      "text/plain": [
       "False"
      ]
     },
     "execution_count": 19,
     "metadata": {},
     "output_type": "execute_result"
    }
   ],
   "source": [
    "((not x1) or x2) and x3"
   ]
  },
  {
   "cell_type": "code",
   "execution_count": 20,
   "metadata": {},
   "outputs": [
    {
     "ename": "NameError",
     "evalue": "name 'b' is not defined",
     "output_type": "error",
     "traceback": [
      "\u001b[1;31m---------------------------------------------------------------------------\u001b[0m",
      "\u001b[1;31mNameError\u001b[0m                                 Traceback (most recent call last)",
      "\u001b[1;32m<ipython-input-20-7c89e5048ed6>\u001b[0m in \u001b[0;36m<module>\u001b[1;34m\u001b[0m\n\u001b[1;32m----> 1\u001b[1;33m \u001b[1;33m(\u001b[0m\u001b[1;33m(\u001b[0m\u001b[0ma\u001b[0m \u001b[1;32mand\u001b[0m \u001b[0mb\u001b[0m\u001b[1;33m)\u001b[0m \u001b[1;32mor\u001b[0m \u001b[1;33m(\u001b[0m\u001b[1;33m(\u001b[0m\u001b[1;32mnot\u001b[0m \u001b[0ma\u001b[0m\u001b[1;33m)\u001b[0m \u001b[1;32mand\u001b[0m\u001b[1;33m(\u001b[0m \u001b[1;32mnot\u001b[0m \u001b[0mb\u001b[0m\u001b[1;33m)\u001b[0m\u001b[1;33m)\u001b[0m\u001b[1;33m)\u001b[0m\u001b[1;33m\u001b[0m\u001b[1;33m\u001b[0m\u001b[0m\n\u001b[0m",
      "\u001b[1;31mNameError\u001b[0m: name 'b' is not defined"
     ]
    }
   ],
   "source": [
    "((a and b) or ((not a) and( not b)))"
   ]
  },
  {
   "cell_type": "code",
   "execution_count": 21,
   "metadata": {},
   "outputs": [
    {
     "data": {
      "text/plain": [
       "True"
      ]
     },
     "execution_count": 21,
     "metadata": {},
     "output_type": "execute_result"
    }
   ],
   "source": [
    "x = 5\n",
    "y = 10\n",
    "y > x * x or y >= 2 * x and x < y"
   ]
  },
  {
   "cell_type": "code",
   "execution_count": 22,
   "metadata": {},
   "outputs": [
    {
     "data": {
      "text/plain": [
       "False"
      ]
     },
     "execution_count": 22,
     "metadata": {},
     "output_type": "execute_result"
    }
   ],
   "source": [
    "a = True\n",
    "b = False\n",
    "a and b or not a and not b"
   ]
  },
  {
   "cell_type": "markdown",
   "metadata": {},
   "source": [
    "# Условие"
   ]
  },
  {
   "cell_type": "markdown",
   "metadata": {},
   "source": [
    "Проверка числа на четность"
   ]
  },
  {
   "cell_type": "code",
   "execution_count": 25,
   "metadata": {},
   "outputs": [
    {
     "name": "stdout",
     "output_type": "stream",
     "text": [
      "5\n",
      "Нечетное\n"
     ]
    }
   ],
   "source": [
    "x = int(input())\n",
    "if x % 2 == 0:\n",
    "    print('Четное')\n",
    "else:\n",
    "    print('Нечетное')"
   ]
  },
  {
   "cell_type": "code",
   "execution_count": 26,
   "metadata": {},
   "outputs": [
    {
     "name": "stdout",
     "output_type": "stream",
     "text": [
      "10\n",
      "Четное\n"
     ]
    }
   ],
   "source": [
    "x = int(input())\n",
    "if x % 2 == 0:\n",
    "    print('Четное')\n",
    "else:\n",
    "    print('Нечетное')"
   ]
  },
  {
   "cell_type": "code",
   "execution_count": 27,
   "metadata": {},
   "outputs": [
    {
     "name": "stdout",
     "output_type": "stream",
     "text": [
      "7\n"
     ]
    }
   ],
   "source": [
    "# Найти наибольшее из двух чисел\n",
    "a = 4\n",
    "b = 7\n",
    "if a >= b:\n",
    "    print(a)\n",
    "else:\n",
    "    print(b)"
   ]
  },
  {
   "cell_type": "code",
   "execution_count": 32,
   "metadata": {},
   "outputs": [
    {
     "name": "stdout",
     "output_type": "stream",
     "text": [
      "7\n"
     ]
    }
   ],
   "source": [
    "# Найти наибольшее из двух чисел\n",
    "a = 4\n",
    "b = 7\n",
    "_max = a\n",
    "if b > _max:\n",
    "    _max = b\n",
    "print(_max)"
   ]
  },
  {
   "cell_type": "code",
   "execution_count": 34,
   "metadata": {},
   "outputs": [
    {
     "name": "stdout",
     "output_type": "stream",
     "text": [
      "8\n",
      "4\n",
      "2\n"
     ]
    }
   ],
   "source": [
    "# Условие с исключением деления на ноль\n",
    "a = int(input())\n",
    "b = int(input())\n",
    "if b != 0:\n",
    "    print(a // b)\n",
    "else:\n",
    "    print('Деление на ноль невозможно')"
   ]
  },
  {
   "cell_type": "code",
   "execution_count": 35,
   "metadata": {},
   "outputs": [
    {
     "name": "stdout",
     "output_type": "stream",
     "text": [
      "8\n",
      "0\n",
      "Деление на ноль невозможно\n"
     ]
    }
   ],
   "source": [
    "# Условие с исключением деления на ноль\n",
    "a = int(input())\n",
    "b = int(input())\n",
    "if b != 0:\n",
    "    print(a // b)\n",
    "else:\n",
    "    print('Деление на ноль невозможно')"
   ]
  },
  {
   "cell_type": "code",
   "execution_count": 38,
   "metadata": {},
   "outputs": [
    {
     "name": "stdout",
     "output_type": "stream",
     "text": [
      "8\n",
      "0\n",
      "Деление на ноль невозможно\n",
      "Введите ненулевое значение: 4\n",
      "2\n"
     ]
    }
   ],
   "source": [
    "a = int(input())\n",
    "b = int(input())\n",
    "if b != 0:\n",
    "    print(a // b)\n",
    "else:\n",
    "    print('Деление на ноль невозможно')\n",
    "    b = int(input('Введите ненулевое значение: '))\n",
    "    print(a // b)"
   ]
  },
  {
   "cell_type": "code",
   "execution_count": 39,
   "metadata": {},
   "outputs": [
    {
     "name": "stdout",
     "output_type": "stream",
     "text": [
      "8\n",
      "4\n",
      "2\n"
     ]
    }
   ],
   "source": [
    "a = int(input())\n",
    "b = int(input())\n",
    "if b != 0:\n",
    "    print(a // b)\n",
    "else:\n",
    "    print('Деление на ноль невозможно')\n",
    "    b = int(input('Введите ненулевое значение: '))\n",
    "    if b == 0:\n",
    "        print('Вы не справились с заданием')\n",
    "    else:\n",
    "        print(a // b)"
   ]
  },
  {
   "cell_type": "code",
   "execution_count": 40,
   "metadata": {},
   "outputs": [
    {
     "name": "stdout",
     "output_type": "stream",
     "text": [
      "8\n",
      "0\n",
      "Деление на ноль невозможно\n",
      "Введите ненулевое значение: 0\n",
      "Вы не справились с заданием\n"
     ]
    }
   ],
   "source": [
    "a = int(input())\n",
    "b = int(input())\n",
    "if b != 0:\n",
    "    print(a // b)\n",
    "else:\n",
    "    print('Деление на ноль невозможно')\n",
    "    b = int(input('Введите ненулевое значение: '))\n",
    "    if b == 0:\n",
    "        print('Вы не справились с заданием')\n",
    "    else:\n",
    "        print(a // b)"
   ]
  },
  {
   "cell_type": "code",
   "execution_count": 70,
   "metadata": {},
   "outputs": [
    {
     "name": "stdout",
     "output_type": "stream",
     "text": [
      "6\n",
      "10\n",
      "8\n",
      "Это нормально\n"
     ]
    }
   ],
   "source": [
    "#Из передачи “Здоровье” Аня узнала, что рекомендуется спать хотя бы A часов в сутки,\n",
    "#но пересыпать тоже вредно и не стоит спать более B часов. Сейчас Аня спит H часов в сутки.\n",
    "#Если режим сна Ани удовлетворяет рекомендациям передачи “Здоровье”, выведите “Это нормально”. \n",
    "#Если Аня спит менее A часов, выведите “Недосып”, если же более B часов, то выведите “Пересып”.\n",
    "#Получаемое число A всегда меньше либо равно B.\n",
    "#На вход программе в три строки подаются переменные в следующем порядке: A, B, H.\n",
    "#Обратите внимание на регистр символов: вывод должен в точности соответствовать описанному в задании, т. е.\n",
    "#если программа должна вывести \"Пересып\", выводы программы \"пересып\", \"ПЕРЕСЫП\", \"ПеРеСыП\" и другие не будут считаться верными.\n",
    "#Это первое не самое тривиальное задание на условное выражение. \n",
    "#В случаях, когда разбить исполнение программы на несколько направлений, стоит внимательно обдумать все условия,\n",
    "#которые нужно использовать. Особое внимание стоит уделить строгости используемых условных операторов: \n",
    "#различайте \\lt< и \\le≤; \\gt> и \\ge≥. Для того, чтобы понимать, какой из них стоит использовать, внимательно прочитайте условие задания.\n",
    "reсomend = int(input())\n",
    "very_max = int(input())\n",
    "real = int(input())\n",
    "if reсomend <= real <= very_max:\n",
    "        print('Это нормально')\n",
    "elif reсomend > real:\n",
    "    print('Недосып')\n",
    "else:\n",
    "    print('Пересып')\n",
    "        "
   ]
  },
  {
   "cell_type": "code",
   "execution_count": 72,
   "metadata": {},
   "outputs": [
    {
     "name": "stdout",
     "output_type": "stream",
     "text": [
      "2000\n",
      "Високосный\n"
     ]
    }
   ],
   "source": [
    "#Требуется определить, является ли данный год високосным.\n",
    "#Напомним, что високосными годами считаются те годы, порядковый номер которых либо кратен 4, \n",
    "#но при этом не кратен 100, либо кратен 400 (например, 2000-й год являлся високосным, а 2100-й будет невисокосным годом).\n",
    "#Программа должна корректно работать на числах 1900≤n≤3000.\n",
    "#Выведите \"Високосный\" в случае, если считанный год является високосным и \"Обычный\"\n",
    "#в обратном случае (не забывайте проверять регистр выводимых программой символов).\n",
    "n = int(input())\n",
    "if n % 4 == 0 and n % 100 != 0 or n % 400 ==0:\n",
    "    print('Високосный')\n",
    "else:\n",
    "    print(\"Обычный\")"
   ]
  },
  {
   "cell_type": "markdown",
   "metadata": {},
   "source": [
    "# Массив"
   ]
  },
  {
   "cell_type": "code",
   "execution_count": 75,
   "metadata": {},
   "outputs": [
    {
     "name": "stdout",
     "output_type": "stream",
     "text": [
      "12\n"
     ]
    }
   ],
   "source": [
    "# Дан одномерный массив найти максимальное число\n",
    "a = [1,2,3,6,9,12,5,6,]\n",
    "\n",
    "maxim = a[0]\n",
    "for i in a:    \n",
    "    if i > maxim:\n",
    "        maxim = i\n",
    "print(maxim)"
   ]
  },
  {
   "cell_type": "code",
   "execution_count": null,
   "metadata": {},
   "outputs": [],
   "source": [
    "def large(arr): \n",
    "    max_ = arr[0]\n",
    "    for ele in arr:\n",
    "        if ele > max_:\n",
    "           max_ = ele\n",
    "    return max_ \n",
    "\n",
    "\n",
    "list1 = [1,4,5,2,6]\n",
    "result = large(list1)\n",
    "print(result) "
   ]
  },
  {
   "cell_type": "code",
   "execution_count": null,
   "metadata": {},
   "outputs": [],
   "source": []
  },
  {
   "cell_type": "code",
   "execution_count": 86,
   "metadata": {},
   "outputs": [
    {
     "name": "stdout",
     "output_type": "stream",
     "text": [
      "[0, 1, 2, 3, 4, 5, 6, 7, 8, 9, 10, 11, 12, 13, 14, 15]\n"
     ]
    }
   ],
   "source": [
    "a = [i for i in range(15 + 1)]\n",
    "print(a)"
   ]
  },
  {
   "cell_type": "code",
   "execution_count": 87,
   "metadata": {},
   "outputs": [
    {
     "name": "stdout",
     "output_type": "stream",
     "text": [
      "1\n",
      "2\n",
      "3\n"
     ]
    }
   ],
   "source": [
    "example_array = [1, 2, 3]\n",
    "for i in range(len(example_array)):\n",
    "    print(example_array[i])"
   ]
  },
  {
   "cell_type": "code",
   "execution_count": 88,
   "metadata": {},
   "outputs": [
    {
     "name": "stdout",
     "output_type": "stream",
     "text": [
      "1\n",
      "2\n",
      "3\n"
     ]
    }
   ],
   "source": [
    "example_array = [1, 2, 3]\n",
    "for i in example_array:\n",
    "    print(i)"
   ]
  },
  {
   "cell_type": "code",
   "execution_count": 89,
   "metadata": {},
   "outputs": [
    {
     "name": "stdout",
     "output_type": "stream",
     "text": [
      "1\n",
      "2\n",
      "3\n",
      "4\n"
     ]
    }
   ],
   "source": [
    "example_array = [[1, 2], [3, 4]]\n",
    "for i in example_array:\n",
    "    for x in i:\n",
    "        print(x)"
   ]
  },
  {
   "cell_type": "markdown",
   "metadata": {},
   "source": [
    "# Строки"
   ]
  },
  {
   "cell_type": "raw",
   "metadata": {},
   "source": [
    "Операции со строками:\n",
    "\n",
    "'abc'+'deg'\n",
    "'abcdeg'\n",
    "\n",
    "'abc' * 3\n",
    "'abcabcabc'\n",
    "\n",
    "len('abcdef')\n",
    "6\n"
   ]
  },
  {
   "cell_type": "raw",
   "metadata": {},
   "source": [
    "Cpaвнение строк:\n",
    "\n",
    "'abc' == \"abc\"\n",
    "'abc' < 'ac'\n",
    "'abc' > 'ab'\n"
   ]
  },
  {
   "cell_type": "raw",
   "metadata": {},
   "source": [
    "Перевод строки:\n",
    "    '\\n'"
   ]
  },
  {
   "cell_type": "code",
   "execution_count": 93,
   "metadata": {},
   "outputs": [
    {
     "name": "stdout",
     "output_type": "stream",
     "text": [
      "первая строка \n",
      "\n",
      "\n",
      " вторая строка\n"
     ]
    }
   ],
   "source": [
    "print('первая строка', '\\n\\n\\n', 'вторая строка')"
   ]
  },
  {
   "cell_type": "code",
   "execution_count": 94,
   "metadata": {},
   "outputs": [
    {
     "name": "stdout",
     "output_type": "stream",
     "text": [
      "string another string\n"
     ]
    }
   ],
   "source": [
    "a = 'string'\n",
    "b = 'another string'\n",
    "print(a, b)"
   ]
  },
  {
   "cell_type": "code",
   "execution_count": 95,
   "metadata": {},
   "outputs": [
    {
     "name": "stdout",
     "output_type": "stream",
     "text": [
      "stringanother string\n"
     ]
    }
   ],
   "source": [
    "print(a + b)"
   ]
  },
  {
   "cell_type": "code",
   "execution_count": 96,
   "metadata": {},
   "outputs": [
    {
     "name": "stdout",
     "output_type": "stream",
     "text": [
      "string\n",
      "another string\n"
     ]
    }
   ],
   "source": [
    "print(a)\n",
    "print(b)"
   ]
  },
  {
   "cell_type": "code",
   "execution_count": 97,
   "metadata": {},
   "outputs": [
    {
     "name": "stdout",
     "output_type": "stream",
     "text": [
      "string\n",
      "another string\n"
     ]
    }
   ],
   "source": [
    "print(a + '\\n' + b)"
   ]
  },
  {
   "cell_type": "markdown",
   "metadata": {},
   "source": [
    "Задачи"
   ]
  },
  {
   "cell_type": "raw",
   "metadata": {},
   "source": [
    "В то далёкое время, когда Паша ходил в школу, ему очень не нравилась формула Герона для вычисления площади треугольника, \n",
    "так как казалась слишком сложной.В один прекрасный момент Павел решил избавить всех школьников от страданий и написать и\n",
    "распространить по школам программу, вычисляющую площадь треугольника по трём сторонам.\n",
    "Одна проблема: так как эта формула не нравилась Павлу, он её не запомнил. Помогите ему завершить доброе дело и напишите программу,\n",
    "    вычисляющую площадь треугольника по переданным длинам трёх его сторон по формуле Герона:\n",
    "\n",
    "S=sqrt(p(p−a)(p−b)(p−c))\n",
    " \n",
    "где p=(a+b+c)/2 \n",
    "\n",
    "  – полупериметр треугольника. На вход программе подаются целые числа, выводом программы должно являться вещественное число,\n",
    "    соответствующее площади треугольника."
   ]
  },
  {
   "cell_type": "code",
   "execution_count": 100,
   "metadata": {},
   "outputs": [
    {
     "name": "stdout",
     "output_type": "stream",
     "text": [
      "3\n",
      "4\n",
      "5\n",
      "6.0\n"
     ]
    }
   ],
   "source": [
    "import math\n",
    "a = int(input())\n",
    "b = int(input())\n",
    "c = int(input())\n",
    "p = (a + b + c)/2\n",
    "S = (p*(p-a)*(p-b)*(p-c))**0.5\n",
    "print(S)"
   ]
  },
  {
   "cell_type": "raw",
   "metadata": {},
   "source": [
    "Напишите программу, принимающую на вход целое число, которая выводит True, если переданное значение попадает в интервал\n",
    "(-15, 12] ∪ (14, 17) ∪ [19,+∞) и False в противном случае (регистр символов имеет значение).\n",
    "Обратите внимание на разные скобки, используемые для обозначения интервалов. В задании используются полуоткрытые и открытые интервалы.\n",
    "Подробнее про это вы можете прочитать, например, на википедии"
   ]
  },
  {
   "cell_type": "code",
   "execution_count": 102,
   "metadata": {},
   "outputs": [
    {
     "name": "stdout",
     "output_type": "stream",
     "text": [
      "-20\n"
     ]
    },
    {
     "data": {
      "text/plain": [
       "False"
      ]
     },
     "execution_count": 102,
     "metadata": {},
     "output_type": "execute_result"
    }
   ],
   "source": [
    "#∪  - символ множества элементов. Множество - некое количество. A ∪ B - это множества A и B.\n",
    "#В скобках заключены интервалы чисел:\n",
    "#\"[\" или \"]\" с числом означает включая это число.\n",
    "#\"(\" или \")\" с числом означает не включая это число.\n",
    "#Примеры (для наглядного понимания):\n",
    "#[ 1, 4 ]  - числа 1, 2, 3 и 4\n",
    "#( 1, 4 ) - числа 2 и 3\n",
    "#( -2, 1] - числа -1, 0 и 1\n",
    "#[ -2, 1 ) - числа -2, -1, 0\n",
    "Для тех, кто не знает символов:\n",
    "∪ = or, то есть значит или то, или то.\n",
    "( -15, 12] = значит, что все числа от -14 до 12 (-15 < x <= 12), а наоборот если, например, [ t, e) значит, что (t <= x < e)\n",
    "Если есть знак бесконечности, то, например, [87, +бесконечность), значит, что x больше 87.\n",
    "Вот и всё.\n",
    "\n"
   ]
  },
  {
   "cell_type": "code",
   "execution_count": 5,
   "metadata": {},
   "outputs": [
    {
     "name": "stdout",
     "output_type": "stream",
     "text": [
      "-20\n",
      "False\n"
     ]
    }
   ],
   "source": [
    "x = float(input())\n",
    "print((-15 < x <= 12) or (14 < x < 17) or (x >= 19))"
   ]
  },
  {
   "cell_type": "raw",
   "metadata": {},
   "source": [
    "Напишите простой калькулятор, который считывает с пользовательского ввода три строки: первое число, второе число и операцию, после чего применяет операцию к введённым числам (\"первое число\" \"операция\" \"второе число\") и выводит результат на экран.\n",
    "\n",
    "Поддерживаемые операции: +, -, /, *, mod, pow, div, где\n",
    "mod — это взятие остатка от деления,\n",
    "pow — возведение в степень,\n",
    "div — целочисленное деление.\n",
    "\n",
    "Если выполняется деление и второе число равно 0, необходимо выводить строку \"Деление на 0!\".\n",
    "\n",
    "Обратите внимание, что на вход программе приходят вещественные числа."
   ]
  },
  {
   "cell_type": "code",
   "execution_count": 23,
   "metadata": {},
   "outputs": [
    {
     "name": "stdout",
     "output_type": "stream",
     "text": [
      "8\n",
      "4\n",
      "/\n",
      "2.0\n"
     ]
    }
   ],
   "source": [
    "#                                           Калькулятор\n",
    "\n",
    "x = float(input())\n",
    "y = float(input())\n",
    "oper = input()\n",
    "\n",
    "#if y == 0 and oper == '/' or oper == 'mod' or oper == 'div':\n",
    "if y == 0 and oper in ('/', 'mod', 'div'):\n",
    "    print('Деление на 0!')\n",
    "elif oper == '+':\n",
    "    print(x + y)\n",
    "elif oper == '-':\n",
    "    print(x - y)\n",
    "elif oper == '/':\n",
    "    print(x / y)\n",
    "elif oper == '*':\n",
    "    print(x * y)\n",
    "elif oper == 'mod':\n",
    "    print(x % y)\n",
    "elif oper == 'pow':\n",
    "    print(x ** y)\n",
    "elif oper == 'div':\n",
    "    print(x // y)"
   ]
  },
  {
   "cell_type": "code",
   "execution_count": 24,
   "metadata": {},
   "outputs": [
    {
     "name": "stdout",
     "output_type": "stream",
     "text": [
      "8\n",
      "4\n",
      "/\n",
      "2.0\n"
     ]
    }
   ],
   "source": [
    "#калькулятор\n",
    "a=float(input())\n",
    "b=float(input())\n",
    "c=(input())\n",
    "if c==\"+\":\n",
    "    print (a+b)\n",
    "if c==\"-\":\n",
    "    print (a-b)\n",
    "if c==\"/\" and b!=0:\n",
    "    print (a/b)\n",
    "if c==\"/\" and b==0:\n",
    "    print (\"Деление на 0!\")\n",
    "if c==\"*\":\n",
    "    print (a*b)\n",
    "if c==\"mod\"and b!=0:\n",
    "    print (a%b)\n",
    "if c==\"mod\" and b==0:\n",
    "    print (\"Деление на 0!\")\n",
    "if c==\"pow\":\n",
    "    print (a**b)\n",
    "if c==\"div\"and b!=0:\n",
    "    print (a//b)\n",
    "if c==\"div\" and b==0:\n",
    "    print (\"Деление на 0!\")"
   ]
  },
  {
   "cell_type": "code",
   "execution_count": null,
   "metadata": {},
   "outputs": [],
   "source": [
    "# калькулятор\n",
    "operations = {\n",
    "      \"+\": lambda x, y: x + y,\n",
    "      \"-\": lambda x, y: x - y,\n",
    "      \"/\": lambda x, y: x / y,\n",
    "      \"*\": lambda x, y: x * y,\n",
    "      \"mod\": lambda x, y: x % y,\n",
    "      \"pow\": lambda x, y: x ** y,\n",
    "      \"div\": lambda x, y: x // y\n",
    "}\n",
    "\n",
    "x, y = float(input()), float(input())\n",
    "operation = input()\n",
    "\n",
    "if operation in [\"mod\", \"div\", \"/\"] and y == 0:\n",
    "    print(\"Деление на 0!\")\n",
    "else:\n",
    "    print(operations[operation](x, y))"
   ]
  },
  {
   "cell_type": "code",
   "execution_count": null,
   "metadata": {},
   "outputs": [],
   "source": [
    "#Калькулятор\n",
    "n1, n2 = (float(input()) for _ in '12')\n",
    "op = input()\n",
    "if n2 == 0 and (op == '/' or op == 'mod' or op == 'div'):\n",
    "    n1 = 'Деление на 0!'\n",
    "else:\n",
    "    if op == '+': n1 += n2\n",
    "    if op == '-': n1 -= n2\n",
    "    if op == '/': n1 /= n2\n",
    "    if op == '*': n1 *= n2\n",
    "    if op == 'mod': n1 %= n2\n",
    "    if op == 'pow': n1 **= n2\n",
    "    if op == 'div': n1 //= n2\n",
    "print(n1)"
   ]
  },
  {
   "cell_type": "code",
   "execution_count": null,
   "metadata": {},
   "outputs": [],
   "source": [
    "# Калькулятор\n",
    "def calc(a, b, cmd):\n",
    "    try:\n",
    "        array = {\"+\": lambda a, b: a+b,\n",
    "                 \"-\": lambda a, b: a-b,\n",
    "                 \"/\": lambda a, b: a/b,\n",
    "                 \"*\": lambda a, b: a*b,\n",
    "                 \"mod\": lambda a, b: a%b,\n",
    "                 \"pow\": lambda a, b: a**b,\n",
    "                 \"div\": lambda a, b: a//b,}\n",
    "        return array[cmd](a, b)\n",
    "    except ZeroDivisionError:\n",
    "        return \"Деление на 0!\"\n",
    "print(calc (float(input()), float(input()), input()))"
   ]
  },
  {
   "cell_type": "code",
   "execution_count": 28,
   "metadata": {},
   "outputs": [
    {
     "name": "stdout",
     "output_type": "stream",
     "text": [
      "треугольник\n",
      "3\n",
      "4\n",
      "5\n",
      "6.0\n"
     ]
    }
   ],
   "source": [
    "#Жители страны Малевии часто экспериментируют с планировкой комнат. Комнаты бывают треугольные, прямоугольные и круглые.\n",
    "#Чтобы быстро вычислять жилплощадь, требуется написать программу, на вход которой подаётся тип фигуры комнаты \n",
    "#и соответствующие параметры, которая бы выводила площадь получившейся комнаты.\n",
    "#Для числа π в стране Малевии используют значение 3.14.\n",
    "#Формат ввода, который используют Малевийцы: треугольник (a,b,c),прямоугольник(a,b),круг(r)\n",
    "\n",
    "#Площадь треугольника:\n",
    "#p=(a+b+c)/2\n",
    "#S = √p(p - a)(p - b)(p - c)\n",
    "#s = (p*(p - a)*(p - b)*(p - c)) ** 0.5\n",
    "#Площадь прямоугольника:\n",
    "#S = a · b\n",
    "#Площадь круга:\n",
    "#S = π r2\n",
    "\n",
    "name = str(input())\n",
    "if name == 'треугольник':\n",
    "    a = int(input())\n",
    "    b = int(input())\n",
    "    c = int(input())\n",
    "    p = (a + b + c) / 2\n",
    "    S = (p*(p - a)*(p - b)*(p - c)) ** 0.5\n",
    "    print(S)\n",
    "elif name == 'прямоугольник':\n",
    "    a = int(input())\n",
    "    b = int(input())\n",
    "    S = a * b\n",
    "    print(S)\n",
    "elif name == 'круг':\n",
    "    r = int(input())\n",
    "    S = 3.14 * r ** 2\n",
    "    print(S)"
   ]
  },
  {
   "cell_type": "code",
   "execution_count": 35,
   "metadata": {},
   "outputs": [
    {
     "name": "stdout",
     "output_type": "stream",
     "text": [
      "23\n",
      "23\n",
      "21\n",
      "23\n",
      "21\n",
      "23\n"
     ]
    }
   ],
   "source": [
    "#Напишите программу, которая получает на вход три целых числа, по одному числу в строке, и выводит на консоль в три строки \n",
    "#сначала максимальное, потом минимальное, после чего оставшееся число.\n",
    "\n",
    "#На ввод могут подаваться и повторяющиеся числа.\n",
    "n2 = int(input())\n",
    "n3 = int(input())\n",
    "if n1 >= n2 >= n3: #1\n",
    "    print(n1)\n",
    "    print(n3)\n",
    "    print(n2)\n",
    "elif n1 >= n3 >= n2: #2\n",
    "    print(n1)\n",
    "    print(n2)\n",
    "    print(n3)\n",
    "elif n2 >= n1 >= n3: #3\n",
    "    print(n2)\n",
    "    print(n3)\n",
    "    print(n1)\n",
    "elif n2 >= n3 >= n1: #4\n",
    "    print(n2)\n",
    "    print(n1)\n",
    "    print(n3)\n",
    "elif n3 >= n1 >= n2: #5\n",
    "    print(n3)\n",
    "    print(n2)\n",
    "    print(n1)\n",
    "else: #6\n",
    "    print(n3)\n",
    "    print(n1)\n",
    "    print(n2)\n"
   ]
  },
  {
   "cell_type": "code",
   "execution_count": 41,
   "metadata": {},
   "outputs": [
    {
     "name": "stdout",
     "output_type": "stream",
     "text": [
      "23\n",
      "23\n",
      "21\n",
      "23\n",
      "21\n",
      "23\n"
     ]
    }
   ],
   "source": [
    "#  тот же код но немного не доработан\n",
    "a,b,c = int(input()), int(input()), int(input())\n",
    "\n",
    "if a < b:\n",
    "    a, b = b, a\n",
    "if a < c:\n",
    "    a, c = c, a\n",
    "if b > c:\n",
    "    b, c = c, b\n",
    "if b < c:\n",
    "    c, b = b, c\n",
    "    print(a)\n",
    "    print(c)\n",
    "    print(b)\n",
    "    \n",
    "# здесь все верно   \n",
    "a,b,c = int(input()), int(input()), int(input())\n",
    "\n",
    "if a < b:\n",
    "\ta, b = b, a\n",
    "if a < c:\n",
    "\ta, c = c, a\n",
    "if b > c:\n",
    "\tb, c = c, b\n",
    "print(a)\n",
    "print(b)\n",
    "print(c)    "
   ]
  },
  {
   "cell_type": "code",
   "execution_count": null,
   "metadata": {},
   "outputs": [],
   "source": [
    "a,b,c=int(input()),int(input()),int(input())\n",
    "maxim=a\n",
    "minim=b\n",
    "if b>a:\n",
    "    maxim=b\n",
    "    minim=a\n",
    "if c>maxim:\n",
    "    maxim=c\n",
    "if c<minim:\n",
    "    minim=c\n",
    "ost=a+b+c-minim-maxim\n",
    "print(maxim)\n",
    "print(minim)\n",
    "print(ost)"
   ]
  },
  {
   "cell_type": "code",
   "execution_count": null,
   "metadata": {},
   "outputs": [],
   "source": [
    "a = int(input())\n",
    "b = int(input())\n",
    "c = int(input())\n",
    "\n",
    "if a <= b:\n",
    "    a, b = b, a\n",
    "if b <= c:\n",
    "    b, c = c, b\n",
    "if a <= b:\n",
    "    a, b = b, a\n",
    "    \n",
    "print(a,c,b, sep='\\n')"
   ]
  },
  {
   "cell_type": "code",
   "execution_count": null,
   "metadata": {},
   "outputs": [],
   "source": [
    "a, b, c = int(input()), int(input()), int(input())\n",
    "max_int = max(a, b, c)\n",
    "min_int = min(a, b, c)\n",
    "print(max_int)\n",
    "print(min_int)\n",
    "print((a + b + c) - max_int - min_int"
   ]
  },
  {
   "cell_type": "code",
   "execution_count": null,
   "metadata": {},
   "outputs": [],
   "source": [
    "В институте биоинформатики по офису передвигается робот. Недавно студенты из группы программистов написали для него программу,\n",
    "по которой робот, когда заходит в комнату, считает количество программистов в ней и произносит его вслух: \"n программистов\".\n",
    "Для того, чтобы это звучало правильно, для каждого nn нужно использовать верное окончание слова.\n",
    "Напишите программу, считывающую с пользовательского ввода целое число nn (неотрицательное), выводящее это число в консоль вместе с \n",
    "правильным образом изменённым словом \"программист\", для того, чтобы робот мог нормально общаться с людьми, например: \n",
    "    1 программист, 2 программиста, 5 программистов.\n",
    "В комнате может быть очень много программистов. Проверьте, что ваша программа правильно обработает все случаи,\n",
    "как минимум до 1000 человек.\n",
    "Дополнительный комментарий к условию:\n",
    "Обратите внимание, что задача не так проста, как кажется на первый взгляд. Если ваше решение не проходит какой-то тест, это значит, \n",
    "что вы не рассмотрели какой-то из случаев входных данных (число программистов 0 \\le n \\le 10000≤n≤1000). Обязательно проверяйте \n",
    "свои решения на дополнительных значениях, а не только на тех, что приведены в условии задания.\n",
    "\n",
    "Так как задание повышенной сложности, вручную код решений проверяться не будет. Если вы столкнулись с ошибкой в первых\n",
    "четырёх тестах, проверьте, что вы используете только русские символы для ответа. В остальных случаях ищите ошибку в логике \n",
    "работы программы."
   ]
  },
  {
   "cell_type": "code",
   "execution_count": 49,
   "metadata": {},
   "outputs": [
    {
     "name": "stdout",
     "output_type": "stream",
     "text": [
      "22\n",
      "22 программиста\n"
     ]
    }
   ],
   "source": [
    "n = int(input())\n",
    "if (n == 1):\n",
    "    print(n, 'программист')\n",
    "elif (n == 2):\n",
    "    print(n, 'программиста')\n",
    "elif (n == 3):\n",
    "    print(n, 'программиста')\n",
    "elif (n == 4):\n",
    "    print(n, 'программиста')\n",
    "elif (20 >= n >= 5):\n",
    "    print(n, 'программистов')\n",
    "elif (n % 10 == 1) and (n != 11) and (n != 111) and (n != 211) and (n != 311) and (n != 411) and (n != 511) and (n != 611) and (n != 711) and (n != 811) and (n != 911):\n",
    "    print(n, 'программист')\n",
    "elif (n == 11) or (n == 111) or (n == 211) or (n == 311) or (n == 411) or (n == 511) or (n == 611) or (n == 711) or (n == 811) or (n == 911):\n",
    "    print(n, 'программистов')\n",
    "elif (n % 10 == 2) and (n != 12) and (n != 112) and (n != 212) and (n != 312) and (n != 412) and (n != 512) and (n != 612) and (n != 712) and (n != 812) and (n != 912):\n",
    "    print(n, 'программиста')\n",
    "elif (n == 12) or (n == 112) or (n == 212) or (n == 312) or (n == 412) or (n == 512) or (n == 612) or (n == 712) or (n == 812) or (n == 912):\n",
    "    print(n, 'программистов')\n",
    "elif (n % 10 == 3) and (n != 13) and (n != 113) and (n != 213) and (n != 313) and (n != 413) and (n != 513) and (n != 613) and (n != 713) and (n != 813) and (n != 913):\n",
    "    print(n, 'программиста')\n",
    "elif (n == 13) or (n == 113) or (n == 213) or (n == 313) or (n == 413) or (n == 513) or (n == 613) or (n == 713) or (n == 813) or (n == 913):\n",
    "    print(n, 'программистов')\n",
    "elif (n % 10 == 4) and (n != 14) and (n != 114) and (n != 214) and (n != 314) and (n != 414) and (n != 514) and (n != 614) and (n != 714) and (n != 814) and (n != 914):\n",
    "    print(n, 'программиста')\n",
    "elif (n == 14) or (n == 114) or (n == 214) or (n == 314) or (n == 414) or (n == 514) or (n == 614) or (n == 714) or (n == 814) or (n == 914):\n",
    "    print(n, 'программистов')\n",
    "else:\n",
    "    print(n, 'программистов')"
   ]
  },
  {
   "cell_type": "code",
   "execution_count": 50,
   "metadata": {},
   "outputs": [
    {
     "name": "stdout",
     "output_type": "stream",
     "text": [
      "25\n",
      "25 программистов\n"
     ]
    }
   ],
   "source": [
    "n = int(input())\n",
    "if n % 100 in (11, 12, 13, 14) or n % 10 in (5, 6, 7, 8, 9, 0): \n",
    "    print(n, 'программистов')\n",
    "elif n % 10 in (2, 3, 4):\n",
    "    print(n, 'программиста')\n",
    "else:\n",
    "    print(n, 'программист')"
   ]
  },
  {
   "cell_type": "code",
   "execution_count": 51,
   "metadata": {},
   "outputs": [
    {
     "name": "stdout",
     "output_type": "stream",
     "text": [
      "6\n",
      "6 программистов\n"
     ]
    }
   ],
   "source": [
    "c=int(input())\n",
    "n = c % 100\n",
    "if n > 20:\n",
    "    n = n % 10\n",
    "\n",
    "if n==1:\n",
    "    print(str(c) +\" программист\")\n",
    "elif (n > 1 and n < 5):\n",
    "    print(str(c)+ \" программиста\")\n",
    "else:\n",
    "    print(str(c) + \" программистов\")\n",
    "    \n",
    "    \n",
    "    "
   ]
  },
  {
   "cell_type": "code",
   "execution_count": 52,
   "metadata": {},
   "outputs": [
    {
     "name": "stdout",
     "output_type": "stream",
     "text": [
      "20\n",
      "20 программистов\n"
     ]
    }
   ],
   "source": [
    "a=int(input())\n",
    "if (a%10==0 or a%10==5 or a%10==6 or a%10==7 or a%10==8 or a%10==9 or a%100==11 or a%100==12 or a%100==13 or a%100==14) and a!=1 and a!=2 and a!=3 and a!=4:\n",
    "    print(a,'программист'+'ов')\n",
    "elif ((a%10==1 and a>20) or a==1):\n",
    "    print(a,'программист')\n",
    "elif ((a%10==2 or a%10==3 or a%10==4) and (a>20 or (a==2 or a==3 or a==4))):\n",
    "    print(a,'программист'+'а')"
   ]
  },
  {
   "cell_type": "code",
   "execution_count": null,
   "metadata": {},
   "outputs": [],
   "source": [
    "Паша очень любит кататься на общественном транспорте, а получая билет, сразу проверяет, счастливый ли ему попался. \n",
    "Билет считается счастливым, если сумма первых трех цифр совпадает с суммой последних трех цифр номера билета.\n",
    "Однако Паша очень плохо считает в уме, поэтому попросил вас написать программу, которая проверит равенство сумм\n",
    "и выведет \"Счастливый\", если суммы совпадают, и \"Обычный\", если суммы различны.\n",
    "На вход программе подаётся строка из шести цифр.\n",
    "\n",
    "Выводить нужно только слово \"Счастливый\" или \"Обычный\", с большой буквы."
   ]
  },
  {
   "cell_type": "code",
   "execution_count": 70,
   "metadata": {},
   "outputs": [
    {
     "name": "stdout",
     "output_type": "stream",
     "text": [
      "112365\n",
      "Обычный\n"
     ]
    }
   ],
   "source": [
    "num = str(input())\n",
    "a = int(num[0]) + int(num[1]) + int(num[2])\n",
    "b = int(num[3]) + int(num[4]) + int(num[5])\n",
    "if a == b:\n",
    "    print('Счастливый')\n",
    "else:\n",
    "    print('Обычный')"
   ]
  },
  {
   "cell_type": "code",
   "execution_count": 71,
   "metadata": {},
   "outputs": [
    {
     "name": "stdout",
     "output_type": "stream",
     "text": [
      "090234\n",
      "0 9 0 2 3 4\n",
      "Счастливый\n"
     ]
    }
   ],
   "source": [
    "code=int(input())\n",
    "a=code//100000\n",
    "b=code//10000%10\n",
    "c=code//1000%10\n",
    "d=code//100%10\n",
    "e=code//10%10\n",
    "f=code%10\n",
    "print(a,b,c,d,e,f,)\n",
    "if a+b+c==d+e+f:\n",
    "  print('Счастливый')\n",
    "else:\n",
    "  print('Обычный')"
   ]
  },
  {
   "cell_type": "code",
   "execution_count": 72,
   "metadata": {},
   "outputs": [
    {
     "name": "stdout",
     "output_type": "stream",
     "text": [
      "090234\n",
      "Счастливый\n"
     ]
    }
   ],
   "source": [
    "a, b, c, d, e, f = input() # строка из чисел\n",
    "n= int(a)+int (b)+int(c)  # приводим к целому числу\n",
    "m= int(d)+int (e)+int(f)\n",
    "if n==m:\n",
    "    print ('Счастливый')\n",
    "else:\n",
    "    print ('Обычный')"
   ]
  },
  {
   "cell_type": "code",
   "execution_count": 74,
   "metadata": {},
   "outputs": [
    {
     "name": "stdout",
     "output_type": "stream",
     "text": [
      "090234\n",
      "Счастливый\n"
     ]
    }
   ],
   "source": [
    "ans = {False: 'Счастливый', True : 'Обычный'}\n",
    "b,c,d,e,f,g = (int(n) for n in input())\n",
    "print(ans[bool((b+c+d)-(e+f+g))])"
   ]
  },
  {
   "cell_type": "markdown",
   "metadata": {},
   "source": [
    "# ЦИКЛЫ"
   ]
  },
  {
   "cell_type": "code",
   "execution_count": 76,
   "metadata": {},
   "outputs": [
    {
     "name": "stdout",
     "output_type": "stream",
     "text": [
      "5 4 3 2 1 "
     ]
    }
   ],
   "source": [
    "# Это повторяющееся действие состоящее из итераций\n",
    "a = 5\n",
    "while a > 0: # проверка условия\n",
    "    print(a, end = ' ')  # действие вывод переменной через пробел\n",
    "    a -= 1 # действие и возврат к условию"
   ]
  },
  {
   "cell_type": "code",
   "execution_count": 77,
   "metadata": {},
   "outputs": [
    {
     "name": "stdout",
     "output_type": "stream",
     "text": [
      "5 7 9 11 13 15 17 19 21 23 25 27 29 31 33 35 37 39 41 43 45 47 49 51 53 55 "
     ]
    }
   ],
   "source": [
    "# Вывести все нечетные числа от 5 до 55\n",
    "a = 5\n",
    "while a <= 55:\n",
    "    print(a, end = ' ')\n",
    "    a += 2"
   ]
  },
  {
   "cell_type": "code",
   "execution_count": 78,
   "metadata": {},
   "outputs": [
    {
     "name": "stdout",
     "output_type": "stream",
     "text": [
      "5\n",
      "7\n",
      "9\n",
      "11\n",
      "13\n",
      "15\n",
      "17\n",
      "19\n",
      "21\n",
      "23\n",
      "25\n",
      "27\n",
      "29\n",
      "31\n",
      "33\n",
      "35\n",
      "37\n",
      "39\n",
      "41\n",
      "43\n",
      "45\n",
      "47\n",
      "49\n",
      "51\n",
      "53\n",
      "55\n"
     ]
    }
   ],
   "source": [
    "# Вывести все нечетные числа от 5 до 55\n",
    "a = 5\n",
    "while a <= 55:\n",
    "    if a % 2 == 1:\n",
    "        print(a)\n",
    "    a += 1"
   ]
  },
  {
   "cell_type": "code",
   "execution_count": 80,
   "metadata": {},
   "outputs": [
    {
     "name": "stdout",
     "output_type": "stream",
     "text": [
      "1\n",
      "2\n",
      "3\n",
      "4\n",
      "5\n",
      "6\n",
      "7\n",
      "10\n",
      "13\n"
     ]
    }
   ],
   "source": [
    "# Сколько итераций выполняется\n",
    "i = 0\n",
    "while i <= 10:\n",
    "    i = i + 1\n",
    "    if i > 7:\n",
    "        i = i + 2\n",
    "    print(i)    "
   ]
  },
  {
   "cell_type": "code",
   "execution_count": null,
   "metadata": {},
   "outputs": [],
   "source": [
    "Начинаем считать:\n",
    "1. i = 0\n",
    "Выполняется условие 0 <= 10:\n",
    "  i = 0 + 1 = 1\n",
    "  Условие if 1 > 7 не выполняется, возвращаемся к началу цикла\n",
    "2. 1 <= 10:\n",
    "  i = 1 + 1 = 2\n",
    "  Условие if 1 > 7 не выполняется, возвращаемся к началу цикла\n",
    "3. 2 <= 10:\n",
    "  i = 2 + 1 = 3\n",
    "  Условие if 3 > 7 не выполняется, возвращаемся к началу цикла\n",
    "4. 3 <= 10:\n",
    "  i = 3 + 1 = 4\n",
    "  Условие if 4 > 7 не выполняется, возвращаемся к началу цикла\n",
    "5. 4 <= 10:\n",
    "  i = 4 + 1 = 5\n",
    "  Условие if 5 > 7 не выполняется, возвращаемся к началу цикла\n",
    "6. 5 <= 10:\n",
    "  i = 5 + 1 = 6\n",
    "  Условие if 6 > 7 не выполняется, возвращаемся к началу цикла\n",
    "7. 6 <= 10:\n",
    "  i = 6 + 1 = 7\n",
    "  Условие if 7 > 7 не выполняется, возвращаемся к началу цикла\n",
    "8. 7 <= 10:\n",
    "  i = 7 + 1 = 8\n",
    "  Условие if 8 > 7 выполняется:\n",
    "    i = 8 + 2 = 10, возвращаемся к началу цикла\n",
    "9. 10 <= 10:\n",
    "  i = 10 + 1 = 11\n",
    "  Условие if 11 > 7 выполняется:\n",
    "    i = 11 + 2 = 13\n",
    "Далее возвращаемся к началу цикла и проверяем 13 <= 10, условие не выполняется, значит и цикл больше не запускается."
   ]
  },
  {
   "cell_type": "code",
   "execution_count": 81,
   "metadata": {},
   "outputs": [
    {
     "name": "stdout",
     "output_type": "stream",
     "text": [
      "*\n",
      "**\n",
      "***\n",
      "****\n",
      "*****\n",
      "******\n"
     ]
    }
   ],
   "source": [
    "# Умножение строки на число. Рисуем треугольник\n",
    "c = 1\n",
    "while c <= 6:\n",
    "    print('*' * c)\n",
    "    c += 1\n",
    "\n"
   ]
  },
  {
   "cell_type": "code",
   "execution_count": 82,
   "metadata": {},
   "outputs": [
    {
     "name": "stdout",
     "output_type": "stream",
     "text": [
      "10\n",
      "*\n",
      "**\n",
      "***\n",
      "****\n",
      "*****\n",
      "******\n",
      "*******\n",
      "********\n",
      "*********\n",
      "**********\n"
     ]
    }
   ],
   "source": [
    "# Усовершенствуем код\n",
    "n = int(input())  # ввод\n",
    "c = 1  # cчетчик\n",
    "while c <= n:\n",
    "    print('*' * c)\n",
    "    c += 1"
   ]
  },
  {
   "cell_type": "code",
   "execution_count": 85,
   "metadata": {},
   "outputs": [
    {
     "name": "stdout",
     "output_type": "stream",
     "text": [
      "15\n",
      "*\n",
      "**\n",
      "***\n",
      "****\n",
      "*****\n",
      "******\n",
      "*******\n",
      "********\n",
      "*********\n",
      "**********\n",
      "***********\n",
      "************\n",
      "*************\n",
      "**************\n",
      "***************\n"
     ]
    }
   ],
   "source": [
    "# Применим while к строкам. Функция len() считает количество символов в строке\n",
    "n = int(input())\n",
    "stars = '*'\n",
    "while len(stars) <= n:\n",
    "    print(stars)\n",
    "    stars += '*'"
   ]
  },
  {
   "cell_type": "code",
   "execution_count": 86,
   "metadata": {},
   "outputs": [
    {
     "name": "stdout",
     "output_type": "stream",
     "text": [
      "*\n",
      "**\n",
      "*\n",
      "*\n",
      "**\n",
      "*\n",
      "***\n",
      "*\n",
      "**\n",
      "***\n"
     ]
    }
   ],
   "source": [
    "# Сколько всего знаков * будет выведено после исполнения фрагмента программы:\n",
    "i = 0\n",
    "while i < 5:\n",
    "    print('*')\n",
    "    if i % 2 == 0:\n",
    "        print('**')\n",
    "    if i > 2:\n",
    "        print('***')\n",
    "    i = i + 1"
   ]
  },
  {
   "cell_type": "code",
   "execution_count": 87,
   "metadata": {},
   "outputs": [
    {
     "name": "stdout",
     "output_type": "stream",
     "text": [
      "*\n",
      "**\n",
      "*\n",
      "*\n",
      "**\n",
      "*\n",
      "***\n",
      "*\n",
      "**\n",
      "***\n",
      "Общее количество звездочек: 17\n"
     ]
    }
   ],
   "source": [
    "i = 0\n",
    "count = 0\n",
    "while i < 5:\n",
    "    print('*')\n",
    "    count += 1\n",
    "    if i % 2 == 0:\n",
    "        print('**')\n",
    "        count += 2\n",
    "    if i > 2:\n",
    "        print('***')\n",
    "        count += 3\n",
    "    i = i + 1\n",
    "print('Общее количество звездочек:',count)"
   ]
  },
  {
   "cell_type": "code",
   "execution_count": 88,
   "metadata": {},
   "outputs": [
    {
     "name": "stdout",
     "output_type": "stream",
     "text": [
      "17\n"
     ]
    }
   ],
   "source": [
    "i = 0\n",
    "count =''\n",
    "while i < 5:\n",
    "    count +='*'\n",
    "    if i % 2 == 0:\n",
    "        count +='**'\n",
    "    if i > 2:\n",
    "        count +='***'\n",
    "    i = i + 1\n",
    "\n",
    "print(len(count))"
   ]
  },
  {
   "cell_type": "code",
   "execution_count": 89,
   "metadata": {},
   "outputs": [
    {
     "name": "stdout",
     "output_type": "stream",
     "text": [
      "3\n",
      "7\n",
      "25\n"
     ]
    }
   ],
   "source": [
    "# Вычислите сумму двух чисел на отрезке от A до B. Пример: 3 + 4 + 5 + 6 + 7 = 25\n",
    "\n",
    "A = int(input())\n",
    "B = int(input())\n",
    "\n",
    "summa = 0 # счетчик\n",
    "i = A  # счетчик\n",
    "while i <= B:\n",
    "    summa += i\n",
    "    i += 1\n",
    "print(summa)\n",
    "    "
   ]
  },
  {
   "cell_type": "code",
   "execution_count": 90,
   "metadata": {},
   "outputs": [
    {
     "name": "stdout",
     "output_type": "stream",
     "text": [
      "1\n",
      "2\n",
      "0\n",
      "3\n"
     ]
    }
   ],
   "source": [
    "# Напишите программу, которая считывает со стандартного ввода целые числа, по одному числу в строке, \n",
    "# и после первого введенного нуля выводит сумму полученных на вход чисел\n",
    "\n",
    "a = int(input())\n",
    "b = 0\n",
    "\n",
    "while a:\n",
    "    b += a\n",
    "    a = int(input())\n",
    "print(b)"
   ]
  },
  {
   "cell_type": "code",
   "execution_count": 91,
   "metadata": {},
   "outputs": [
    {
     "name": "stdout",
     "output_type": "stream",
     "text": [
      "2\n",
      "5\n",
      "0\n",
      "7\n"
     ]
    }
   ],
   "source": [
    "#a,b = 1,0\n",
    "a = 1\n",
    "b = 0\n",
    "while a != 0:\n",
    "    a = int(input())\n",
    "    b += a\n",
    "print(b)"
   ]
  },
  {
   "cell_type": "code",
   "execution_count": null,
   "metadata": {},
   "outputs": [],
   "source": [
    "счетчик = 0\n",
    "Вход = int(input())\n",
    "while Вход != 0:\n",
    "    счетчик += Вход\n",
    "    Вход = int(input())\n",
    "print (счетчик)"
   ]
  },
  {
   "cell_type": "code",
   "execution_count": null,
   "metadata": {},
   "outputs": [],
   "source": [
    "# В Институте биоинформатики между информатиками и биологами устраивается соревнование. Победителям соревнования достанется\n",
    "# большой и вкусный пирог. В команде биологов a человек, а в команде информатиков — b человек.\n",
    "# Нужно заранее разрезать пирог таким образом, чтобы можно было раздать кусочки пирога любой команде, выигравшей соревнование,\n",
    "# при этом каждому участнику этой команды должно достаться одинаковое число кусочков пирога. И так как не хочется резать пирог\n",
    "# на слишком мелкие кусочки, нужно найти минимальное подходящее число.\n",
    "# Напишите программу, которая помогает найти это число.\n",
    "# Программа должна считывать размеры команд (два положительных целых числа a и b, каждое число вводится на отдельной строке) \n",
    "# и выводить наименьшее число d, которое делится на оба этих числа без остатка.\n",
    "\n",
    "info = int(input())\n",
    "bio = int(input())\n",
    "\n",
    "kus = info\n",
    "\n",
    "while kus % info or kus % bio :\n",
    "    kus += info\n",
    "print(kus)\n",
    " \n"
   ]
  },
  {
   "cell_type": "code",
   "execution_count": 100,
   "metadata": {},
   "outputs": [
    {
     "name": "stdout",
     "output_type": "stream",
     "text": [
      "7\n",
      "5\n",
      "7\n",
      "17\n",
      "35\n"
     ]
    }
   ],
   "source": [
    "\n",
    "f = int(input())\n",
    "g = int(input())\n",
    " \n",
    "fg=f*g\n",
    " \n",
    "while g != 0:\n",
    "    f,g = g,f%g\n",
    " \n",
    "    print(fg//f)"
   ]
  },
  {
   "cell_type": "code",
   "execution_count": 101,
   "metadata": {},
   "outputs": [
    {
     "name": "stdout",
     "output_type": "stream",
     "text": [
      "7\n",
      "5\n",
      "7\n",
      "17\n",
      "35\n"
     ]
    }
   ],
   "source": [
    "# не верно надо доработать\n",
    "info = int(input())\n",
    "bio = int(input())\n",
    " \n",
    "kus=info * bio\n",
    " \n",
    "while bio != 0:\n",
    "    info, bio = bio ,info % bio\n",
    " \n",
    "    print(kus//info)"
   ]
  },
  {
   "cell_type": "code",
   "execution_count": 102,
   "metadata": {},
   "outputs": [
    {
     "name": "stdout",
     "output_type": "stream",
     "text": [
      "7\n",
      "5\n",
      "35\n"
     ]
    }
   ],
   "source": [
    "a = int(input())\n",
    "b = int(input())\n",
    "d = a\n",
    "while d%b:\n",
    "    d += a\n",
    "print(d)"
   ]
  },
  {
   "cell_type": "code",
   "execution_count": 103,
   "metadata": {},
   "outputs": [
    {
     "name": "stdout",
     "output_type": "stream",
     "text": [
      "7\n",
      "5\n",
      "35\n"
     ]
    }
   ],
   "source": [
    "a = int(input())\n",
    "b = int(input())\n",
    "m = a\n",
    "if b > a:\n",
    "    m = b\n",
    "while m % a != m % b:\n",
    "    m = m + 1\n",
    "\n",
    "print(m)"
   ]
  },
  {
   "cell_type": "markdown",
   "metadata": {},
   "source": [
    "# Операторы break, continue"
   ]
  },
  {
   "cell_type": "markdown",
   "metadata": {},
   "source": [
    "Читаем 5 пар чисел и выводи их произведение"
   ]
  },
  {
   "cell_type": "code",
   "execution_count": 132,
   "metadata": {},
   "outputs": [
    {
     "name": "stdout",
     "output_type": "stream",
     "text": [
      "23\n",
      "6, 52\n",
      "10, 46\n",
      "24, 48\n",
      "32, 96\n",
      "54, "
     ]
    }
   ],
   "source": [
    "# ввод двух чисел подряд\n",
    "i = 0\n",
    "     \n",
    "while i < 5:\n",
    "    a, b = input()\n",
    "    a = int(a)\n",
    "    b = int(b)\n",
    "    print(a * b, end= ', ')\n",
    "    i += 1"
   ]
  },
  {
   "cell_type": "code",
   "execution_count": 122,
   "metadata": {},
   "outputs": [
    {
     "name": "stdout",
     "output_type": "stream",
     "text": [
      "2 3\n",
      "6\n"
     ]
    },
    {
     "ename": "KeyboardInterrupt",
     "evalue": "Interrupted by user",
     "output_type": "error",
     "traceback": [
      "\u001b[1;31m---------------------------------------------------------------------------\u001b[0m",
      "\u001b[1;31mKeyboardInterrupt\u001b[0m                         Traceback (most recent call last)",
      "\u001b[1;32m<ipython-input-122-74038b575af6>\u001b[0m in \u001b[0;36m<module>\u001b[1;34m\u001b[0m\n\u001b[0;32m      3\u001b[0m \u001b[0mi\u001b[0m \u001b[1;33m=\u001b[0m \u001b[1;36m0\u001b[0m\u001b[1;33m\u001b[0m\u001b[1;33m\u001b[0m\u001b[0m\n\u001b[0;32m      4\u001b[0m \u001b[1;32mwhile\u001b[0m \u001b[0mi\u001b[0m \u001b[1;33m<\u001b[0m \u001b[1;36m5\u001b[0m\u001b[1;33m:\u001b[0m\u001b[1;33m\u001b[0m\u001b[1;33m\u001b[0m\u001b[0m\n\u001b[1;32m----> 5\u001b[1;33m     \u001b[0ma\u001b[0m\u001b[1;33m,\u001b[0m \u001b[0mb\u001b[0m \u001b[1;33m=\u001b[0m \u001b[0minput\u001b[0m\u001b[1;33m(\u001b[0m\u001b[1;33m)\u001b[0m\u001b[1;33m.\u001b[0m\u001b[0msplit\u001b[0m\u001b[1;33m(\u001b[0m\u001b[1;34m' '\u001b[0m\u001b[1;33m)\u001b[0m\u001b[1;33m\u001b[0m\u001b[1;33m\u001b[0m\u001b[0m\n\u001b[0m\u001b[0;32m      6\u001b[0m     \u001b[0ma\u001b[0m \u001b[1;33m=\u001b[0m \u001b[0mint\u001b[0m\u001b[1;33m(\u001b[0m\u001b[0ma\u001b[0m\u001b[1;33m)\u001b[0m\u001b[1;33m\u001b[0m\u001b[1;33m\u001b[0m\u001b[0m\n\u001b[0;32m      7\u001b[0m     \u001b[0mb\u001b[0m \u001b[1;33m=\u001b[0m \u001b[0mint\u001b[0m\u001b[1;33m(\u001b[0m\u001b[0mb\u001b[0m\u001b[1;33m)\u001b[0m\u001b[1;33m\u001b[0m\u001b[1;33m\u001b[0m\u001b[0m\n",
      "\u001b[1;32m~\\AppData\\Roaming\\Python\\Python38\\site-packages\\ipykernel\\kernelbase.py\u001b[0m in \u001b[0;36mraw_input\u001b[1;34m(self, prompt)\u001b[0m\n\u001b[0;32m    846\u001b[0m                 \u001b[1;34m\"raw_input was called, but this frontend does not support input requests.\"\u001b[0m\u001b[1;33m\u001b[0m\u001b[1;33m\u001b[0m\u001b[0m\n\u001b[0;32m    847\u001b[0m             )\n\u001b[1;32m--> 848\u001b[1;33m         return self._input_request(str(prompt),\n\u001b[0m\u001b[0;32m    849\u001b[0m             \u001b[0mself\u001b[0m\u001b[1;33m.\u001b[0m\u001b[0m_parent_ident\u001b[0m\u001b[1;33m,\u001b[0m\u001b[1;33m\u001b[0m\u001b[1;33m\u001b[0m\u001b[0m\n\u001b[0;32m    850\u001b[0m             \u001b[0mself\u001b[0m\u001b[1;33m.\u001b[0m\u001b[0m_parent_header\u001b[0m\u001b[1;33m,\u001b[0m\u001b[1;33m\u001b[0m\u001b[1;33m\u001b[0m\u001b[0m\n",
      "\u001b[1;32m~\\AppData\\Roaming\\Python\\Python38\\site-packages\\ipykernel\\kernelbase.py\u001b[0m in \u001b[0;36m_input_request\u001b[1;34m(self, prompt, ident, parent, password)\u001b[0m\n\u001b[0;32m    890\u001b[0m             \u001b[1;32mexcept\u001b[0m \u001b[0mKeyboardInterrupt\u001b[0m\u001b[1;33m:\u001b[0m\u001b[1;33m\u001b[0m\u001b[1;33m\u001b[0m\u001b[0m\n\u001b[0;32m    891\u001b[0m                 \u001b[1;31m# re-raise KeyboardInterrupt, to truncate traceback\u001b[0m\u001b[1;33m\u001b[0m\u001b[1;33m\u001b[0m\u001b[1;33m\u001b[0m\u001b[0m\n\u001b[1;32m--> 892\u001b[1;33m                 \u001b[1;32mraise\u001b[0m \u001b[0mKeyboardInterrupt\u001b[0m\u001b[1;33m(\u001b[0m\u001b[1;34m\"Interrupted by user\"\u001b[0m\u001b[1;33m)\u001b[0m \u001b[1;32mfrom\u001b[0m \u001b[1;32mNone\u001b[0m\u001b[1;33m\u001b[0m\u001b[1;33m\u001b[0m\u001b[0m\n\u001b[0m\u001b[0;32m    893\u001b[0m             \u001b[1;32mexcept\u001b[0m \u001b[0mException\u001b[0m \u001b[1;32mas\u001b[0m \u001b[0me\u001b[0m\u001b[1;33m:\u001b[0m\u001b[1;33m\u001b[0m\u001b[1;33m\u001b[0m\u001b[0m\n\u001b[0;32m    894\u001b[0m                 \u001b[0mself\u001b[0m\u001b[1;33m.\u001b[0m\u001b[0mlog\u001b[0m\u001b[1;33m.\u001b[0m\u001b[0mwarning\u001b[0m\u001b[1;33m(\u001b[0m\u001b[1;34m\"Invalid Message:\"\u001b[0m\u001b[1;33m,\u001b[0m \u001b[0mexc_info\u001b[0m\u001b[1;33m=\u001b[0m\u001b[1;32mTrue\u001b[0m\u001b[1;33m)\u001b[0m\u001b[1;33m\u001b[0m\u001b[1;33m\u001b[0m\u001b[0m\n",
      "\u001b[1;31mKeyboardInterrupt\u001b[0m: Interrupted by user"
     ]
    }
   ],
   "source": [
    "# ввод чисел через указанный знак в split() в данном примере это пробел\n",
    "\n",
    "i = 0\n",
    "while i < 5:\n",
    "    a, b = input().split(' ')\n",
    "    a = int(a)\n",
    "    b = int(b)\n",
    "    print(a * b)\n",
    "    i += 1"
   ]
  },
  {
   "cell_type": "code",
   "execution_count": 123,
   "metadata": {},
   "outputs": [
    {
     "name": "stdout",
     "output_type": "stream",
     "text": [
      "2,5\n",
      "10\n"
     ]
    },
    {
     "ename": "KeyboardInterrupt",
     "evalue": "Interrupted by user",
     "output_type": "error",
     "traceback": [
      "\u001b[1;31m---------------------------------------------------------------------------\u001b[0m",
      "\u001b[1;31mKeyboardInterrupt\u001b[0m                         Traceback (most recent call last)",
      "\u001b[1;32m<ipython-input-123-b4380a25b50d>\u001b[0m in \u001b[0;36m<module>\u001b[1;34m\u001b[0m\n\u001b[0;32m      3\u001b[0m \u001b[0mi\u001b[0m \u001b[1;33m=\u001b[0m \u001b[1;36m0\u001b[0m\u001b[1;33m\u001b[0m\u001b[1;33m\u001b[0m\u001b[0m\n\u001b[0;32m      4\u001b[0m \u001b[1;32mwhile\u001b[0m \u001b[0mi\u001b[0m \u001b[1;33m<\u001b[0m \u001b[1;36m5\u001b[0m\u001b[1;33m:\u001b[0m\u001b[1;33m\u001b[0m\u001b[1;33m\u001b[0m\u001b[0m\n\u001b[1;32m----> 5\u001b[1;33m     \u001b[0ma\u001b[0m\u001b[1;33m,\u001b[0m \u001b[0mb\u001b[0m \u001b[1;33m=\u001b[0m \u001b[0minput\u001b[0m\u001b[1;33m(\u001b[0m\u001b[1;33m)\u001b[0m\u001b[1;33m.\u001b[0m\u001b[0msplit\u001b[0m\u001b[1;33m(\u001b[0m\u001b[1;34m','\u001b[0m\u001b[1;33m)\u001b[0m\u001b[1;33m\u001b[0m\u001b[1;33m\u001b[0m\u001b[0m\n\u001b[0m\u001b[0;32m      6\u001b[0m     \u001b[0ma\u001b[0m \u001b[1;33m=\u001b[0m \u001b[0mint\u001b[0m\u001b[1;33m(\u001b[0m\u001b[0ma\u001b[0m\u001b[1;33m)\u001b[0m\u001b[1;33m\u001b[0m\u001b[1;33m\u001b[0m\u001b[0m\n\u001b[0;32m      7\u001b[0m     \u001b[0mb\u001b[0m \u001b[1;33m=\u001b[0m \u001b[0mint\u001b[0m\u001b[1;33m(\u001b[0m\u001b[0mb\u001b[0m\u001b[1;33m)\u001b[0m\u001b[1;33m\u001b[0m\u001b[1;33m\u001b[0m\u001b[0m\n",
      "\u001b[1;32m~\\AppData\\Roaming\\Python\\Python38\\site-packages\\ipykernel\\kernelbase.py\u001b[0m in \u001b[0;36mraw_input\u001b[1;34m(self, prompt)\u001b[0m\n\u001b[0;32m    846\u001b[0m                 \u001b[1;34m\"raw_input was called, but this frontend does not support input requests.\"\u001b[0m\u001b[1;33m\u001b[0m\u001b[1;33m\u001b[0m\u001b[0m\n\u001b[0;32m    847\u001b[0m             )\n\u001b[1;32m--> 848\u001b[1;33m         return self._input_request(str(prompt),\n\u001b[0m\u001b[0;32m    849\u001b[0m             \u001b[0mself\u001b[0m\u001b[1;33m.\u001b[0m\u001b[0m_parent_ident\u001b[0m\u001b[1;33m,\u001b[0m\u001b[1;33m\u001b[0m\u001b[1;33m\u001b[0m\u001b[0m\n\u001b[0;32m    850\u001b[0m             \u001b[0mself\u001b[0m\u001b[1;33m.\u001b[0m\u001b[0m_parent_header\u001b[0m\u001b[1;33m,\u001b[0m\u001b[1;33m\u001b[0m\u001b[1;33m\u001b[0m\u001b[0m\n",
      "\u001b[1;32m~\\AppData\\Roaming\\Python\\Python38\\site-packages\\ipykernel\\kernelbase.py\u001b[0m in \u001b[0;36m_input_request\u001b[1;34m(self, prompt, ident, parent, password)\u001b[0m\n\u001b[0;32m    890\u001b[0m             \u001b[1;32mexcept\u001b[0m \u001b[0mKeyboardInterrupt\u001b[0m\u001b[1;33m:\u001b[0m\u001b[1;33m\u001b[0m\u001b[1;33m\u001b[0m\u001b[0m\n\u001b[0;32m    891\u001b[0m                 \u001b[1;31m# re-raise KeyboardInterrupt, to truncate traceback\u001b[0m\u001b[1;33m\u001b[0m\u001b[1;33m\u001b[0m\u001b[1;33m\u001b[0m\u001b[0m\n\u001b[1;32m--> 892\u001b[1;33m                 \u001b[1;32mraise\u001b[0m \u001b[0mKeyboardInterrupt\u001b[0m\u001b[1;33m(\u001b[0m\u001b[1;34m\"Interrupted by user\"\u001b[0m\u001b[1;33m)\u001b[0m \u001b[1;32mfrom\u001b[0m \u001b[1;32mNone\u001b[0m\u001b[1;33m\u001b[0m\u001b[1;33m\u001b[0m\u001b[0m\n\u001b[0m\u001b[0;32m    893\u001b[0m             \u001b[1;32mexcept\u001b[0m \u001b[0mException\u001b[0m \u001b[1;32mas\u001b[0m \u001b[0me\u001b[0m\u001b[1;33m:\u001b[0m\u001b[1;33m\u001b[0m\u001b[1;33m\u001b[0m\u001b[0m\n\u001b[0;32m    894\u001b[0m                 \u001b[0mself\u001b[0m\u001b[1;33m.\u001b[0m\u001b[0mlog\u001b[0m\u001b[1;33m.\u001b[0m\u001b[0mwarning\u001b[0m\u001b[1;33m(\u001b[0m\u001b[1;34m\"Invalid Message:\"\u001b[0m\u001b[1;33m,\u001b[0m \u001b[0mexc_info\u001b[0m\u001b[1;33m=\u001b[0m\u001b[1;32mTrue\u001b[0m\u001b[1;33m)\u001b[0m\u001b[1;33m\u001b[0m\u001b[1;33m\u001b[0m\u001b[0m\n",
      "\u001b[1;31mKeyboardInterrupt\u001b[0m: Interrupted by user"
     ]
    }
   ],
   "source": [
    "# ввод чисел через указанный знак в split() в данном примере это ,\n",
    "\n",
    "i = 0\n",
    "while i < 5:\n",
    "    a, b = input().split(',')\n",
    "    a = int(a)\n",
    "    b = int(b)\n",
    "    print(a * b)\n",
    "    i += 1"
   ]
  },
  {
   "cell_type": "code",
   "execution_count": 141,
   "metadata": {},
   "outputs": [
    {
     "name": "stdout",
     "output_type": "stream",
     "text": [
      "2*3\n",
      "6;4*5\n",
      "20;7*8\n",
      "56;0*0\n"
     ]
    }
   ],
   "source": [
    "# ввод чисел через указанный знак в split() в данном примере это *.\n",
    "# Досрочное завершение цикла через условие\n",
    "\n",
    "i = 0\n",
    "while i < 5:\n",
    "    a, b = input().split('*')\n",
    "    a = int(a)\n",
    "    b = int(b)\n",
    "    if (a == 0) and (b == 0):\n",
    "        break  # досрочное завершение цикла\n",
    "    print(a * b, end=';')\n",
    "    i += 1\n",
    "  "
   ]
  },
  {
   "cell_type": "markdown",
   "metadata": {},
   "source": [
    "continue - оператор перехода к следующей итерации цикла если она есть"
   ]
  },
  {
   "cell_type": "code",
   "execution_count": 144,
   "metadata": {},
   "outputs": [
    {
     "name": "stdout",
     "output_type": "stream",
     "text": [
      "2 3\n",
      "6;4 5\n",
      "20;6 0\n",
      "0 8\n",
      "2 2\n",
      "4;0 0\n"
     ]
    }
   ],
   "source": [
    "i = 0\n",
    "while i < 5:\n",
    "    a, b = input().split()\n",
    "    a = int(a)\n",
    "    b = int(b)\n",
    "    if (a == 0) and (b == 0):\n",
    "        break  # досрочное завершение цикла\n",
    "    if (a == 0) or (b == 0):\n",
    "        continue # переходим к следующей итерации   \n",
    "    print(a * b, end=';')\n",
    "    i += 1"
   ]
  },
  {
   "cell_type": "code",
   "execution_count": 154,
   "metadata": {},
   "outputs": [
    {
     "name": "stdout",
     "output_type": "stream",
     "text": [
      "1\n",
      "3\n",
      "5\n",
      "7\n",
      "7\n"
     ]
    }
   ],
   "source": [
    "#Определите, какое значение будет иметь переменная i после выполнения следующего фрагмента программы:\n",
    "i = 0\n",
    "s = 0\n",
    "while i < 10:\n",
    "    i = i + 1\n",
    "    s = s + i\n",
    "    print(i)\n",
    "    if s > 15:\n",
    "        break\n",
    "    i = i + 1\n",
    "print(i)"
   ]
  },
  {
   "cell_type": "code",
   "execution_count": null,
   "metadata": {},
   "outputs": [],
   "source": [
    "    i    s\n",
    "\n",
    "1) 1    1\n",
    "\n",
    "2) 2    3\n",
    "\n",
    "3) 3    6\n",
    "\n",
    "4) 4    10\n",
    "\n",
    "5) 5    15\n",
    "\n",
    "6) 6    break\n",
    "\n",
    "7) 7"
   ]
  },
  {
   "cell_type": "code",
   "execution_count": 155,
   "metadata": {},
   "outputs": [
    {
     "name": "stdout",
     "output_type": "stream",
     "text": [
      "10\n"
     ]
    }
   ],
   "source": [
    "#Определите, какое значение будет иметь переменная i после выполнения следующего фрагмента программы:\n",
    "i = 0\n",
    "s = 0\n",
    "while i < 10:\n",
    "    i = i + 1\n",
    "    s = s + i\n",
    "    if s > 15:\n",
    "        continue\n",
    "    i = i + 1\n",
    "print(i)"
   ]
  },
  {
   "cell_type": "code",
   "execution_count": null,
   "metadata": {},
   "outputs": [],
   "source": [
    "# Решение\n",
    "i = 0, s = 0\n",
    "\n",
    "1 итерация:\n",
    "i: 0 < 10 (True), i + 1 = 0 + 1 = 1\n",
    "s: s + i = 0 + 1 = 1, 1 < 15 (True)\n",
    "i + 1 = 1 + 1 = 2 (i)\n",
    "\n",
    "2 итерация:\n",
    "i: 2 < 10 (True), i + 1 = 2 + 1 = 3\n",
    "s: s + i = 1 + 3 = 4, 4 < 15 (True)\n",
    "i + 1 = 3 + 1 = 4 (i)\n",
    "\n",
    "3 итерация:\n",
    "i: 4 < 10 (True), i + 1 = 4 + 1 = 5\n",
    "s: s + i = 4 + 5 = 9, 9 < 15 (True)\n",
    "i + 1 = 5 + 1 = 6 (i)\n",
    "\n",
    "i: 6 < 10 (True), i + 1 = 6 + 1 = 7\n",
    "s: s + i = 9 + 7 = 16, 16 < 15 (False), continue\n",
    "\n",
    "i: 7 < 10 (True), i + 1 = 7 + 1 = 8\n",
    "s: s + i = 16 + 8 = 24, 24 < 15 (False), continue\n",
    "\n",
    "i: 8 < 10 (True), i + 1 = 8 + 1 = 9\n",
    "s: s + i = 24 + 9 = 33, 33 < 15 (False), continue\n",
    "\n",
    "i: 9 < 10 (True), i + 1 = 9 + 1 = 10\n",
    "s: s + i = 33 + 10 = 43, 43 < 15 (False), continue\n",
    "\n",
    "i: 10 < 10 (False), конец цикла"
   ]
  },
  {
   "cell_type": "code",
   "execution_count": 178,
   "metadata": {},
   "outputs": [
    {
     "name": "stdout",
     "output_type": "stream",
     "text": [
      "12\n",
      "12\n",
      "4\n",
      "2\n",
      "58\n",
      "58\n",
      "101\n"
     ]
    }
   ],
   "source": [
    "# Напишите программу, которая считывает целые числа с консоли по одному числу в строке.\n",
    "# Для каждого введённого числа проверить:\n",
    "# если число меньше 10, то пропускаем это число;\n",
    "# если число больше 100, то прекращаем считывать числа;\n",
    "# в остальных случаях вывести это число обратно на консоль в отдельной строке\n",
    "\n",
    "\n",
    "\n",
    "while True:\n",
    "    num = int(input())\n",
    "    if 100 > num < 10:\n",
    "        continue\n",
    "    \n",
    "    elif num > 100:\n",
    "        break\n",
    "        \n",
    "    else:\n",
    "        print(num)\n",
    "      \n",
    "    \n",
    "\n",
    "    "
   ]
  },
  {
   "cell_type": "code",
   "execution_count": 256,
   "metadata": {},
   "outputs": [
    {
     "name": "stdout",
     "output_type": "stream",
     "text": [
      "4\n"
     ]
    },
    {
     "ename": "ValueError",
     "evalue": "not enough values to unpack (expected 2, got 1)",
     "output_type": "error",
     "traceback": [
      "\u001b[1;31m---------------------------------------------------------------------------\u001b[0m",
      "\u001b[1;31mValueError\u001b[0m                                Traceback (most recent call last)",
      "\u001b[1;32m<ipython-input-256-62a4b8add97e>\u001b[0m in \u001b[0;36m<module>\u001b[1;34m\u001b[0m\n\u001b[0;32m      1\u001b[0m \u001b[0mi\u001b[0m \u001b[1;33m=\u001b[0m \u001b[1;36m0\u001b[0m\u001b[1;33m\u001b[0m\u001b[1;33m\u001b[0m\u001b[0m\n\u001b[0;32m      2\u001b[0m \u001b[1;32mwhile\u001b[0m \u001b[0mi\u001b[0m \u001b[1;33m<\u001b[0m \u001b[1;36m5\u001b[0m\u001b[1;33m:\u001b[0m\u001b[1;33m\u001b[0m\u001b[1;33m\u001b[0m\u001b[0m\n\u001b[1;32m----> 3\u001b[1;33m     \u001b[0ma\u001b[0m\u001b[1;33m,\u001b[0m \u001b[0mb\u001b[0m \u001b[1;33m=\u001b[0m \u001b[0minput\u001b[0m\u001b[1;33m(\u001b[0m\u001b[1;33m)\u001b[0m\u001b[1;33m.\u001b[0m\u001b[0msplit\u001b[0m\u001b[1;33m(\u001b[0m\u001b[1;33m)\u001b[0m\u001b[1;33m\u001b[0m\u001b[1;33m\u001b[0m\u001b[0m\n\u001b[0m\u001b[0;32m      4\u001b[0m     \u001b[0ma\u001b[0m \u001b[1;33m=\u001b[0m \u001b[0mint\u001b[0m\u001b[1;33m(\u001b[0m\u001b[0ma\u001b[0m\u001b[1;33m)\u001b[0m\u001b[1;33m\u001b[0m\u001b[1;33m\u001b[0m\u001b[0m\n\u001b[0;32m      5\u001b[0m     \u001b[0mb\u001b[0m \u001b[1;33m=\u001b[0m \u001b[0mint\u001b[0m\u001b[1;33m(\u001b[0m\u001b[0mb\u001b[0m\u001b[1;33m)\u001b[0m\u001b[1;33m\u001b[0m\u001b[1;33m\u001b[0m\u001b[0m\n",
      "\u001b[1;31mValueError\u001b[0m: not enough values to unpack (expected 2, got 1)"
     ]
    }
   ],
   "source": [
    "\n",
    "i = 0\n",
    "while i < 5:\n",
    "    a, b = input().split()\n",
    "    a = int(a)\n",
    "    b = int(b)\n",
    "    if (a == 0) and (b == 0):\n",
    "        break  # досрочное завершение цикла\n",
    "    if (a == 0) or (b == 0):\n",
    "        continue # переходим к следующей итерации   \n",
    "    print(a * b, end=';')\n",
    "    i += 1"
   ]
  },
  {
   "cell_type": "markdown",
   "metadata": {},
   "source": [
    "# Функция range()"
   ]
  },
  {
   "cell_type": "raw",
   "metadata": {},
   "source": [
    "# Функция возвращающая последовательность\n",
    "Примеры:\n",
    "    range(5)  - 0,1,2,3,4 включает все числа от 0 до 5(не включая 5), с шагом 1\n",
    "    range(2, 5) - 2,3,4 включает все числа от 2 до 5(не включая 5), с шагом 1\n",
    "    range(2, 15, 4) - 2,6,10,14 включает все числа от 2 до 15(не включая 15) с шагом 4\n",
    "    \n",
    "    range(start=0,to,step=1)"
   ]
  },
  {
   "cell_type": "markdown",
   "metadata": {},
   "source": [
    "# Цикл For"
   ]
  },
  {
   "cell_type": "code",
   "execution_count": 179,
   "metadata": {},
   "outputs": [
    {
     "name": "stdout",
     "output_type": "stream",
     "text": [
      "4\n",
      "9\n",
      "25\n"
     ]
    }
   ],
   "source": [
    "#Позволяет выполнять повторяющиеся действия с последовательностью элементов\n",
    "for i in 2, 3, 5: # перебрать все элементы\n",
    "    print(i * i) # вывести квадрат имеющегося числа"
   ]
  },
  {
   "cell_type": "code",
   "execution_count": 180,
   "metadata": {},
   "outputs": [
    {
     "name": "stdout",
     "output_type": "stream",
     "text": [
      "0\n",
      "1\n",
      "4\n",
      "9\n",
      "16\n",
      "25\n",
      "36\n",
      "49\n",
      "64\n",
      "81\n"
     ]
    }
   ],
   "source": [
    "for i in range(10): # перебрать все элементы от 1 до 9\n",
    "    print(i * i) # вывести квадрат имеющегося числа"
   ]
  },
  {
   "cell_type": "code",
   "execution_count": 181,
   "metadata": {},
   "outputs": [
    {
     "name": "stdout",
     "output_type": "stream",
     "text": [
      "8\n",
      "********\n",
      "********\n",
      "********\n",
      "********\n",
      "********\n",
      "********\n",
      "********\n",
      "********\n"
     ]
    }
   ],
   "source": [
    "# Вывести квадрат из *\n",
    "n = int(input())\n",
    "for i in range(n):\n",
    "    print('*' * n)"
   ]
  },
  {
   "cell_type": "code",
   "execution_count": 184,
   "metadata": {},
   "outputs": [
    {
     "name": "stdout",
     "output_type": "stream",
     "text": [
      "8\n",
      "*.*.*.*.*.*.*.*.\n",
      "*.*.*.*.*.*.*.*.\n",
      "*.*.*.*.*.*.*.*.\n",
      "*.*.*.*.*.*.*.*.\n",
      "*.*.*.*.*.*.*.*.\n",
      "*.*.*.*.*.*.*.*.\n",
      "*.*.*.*.*.*.*.*.\n",
      "*.*.*.*.*.*.*.*.\n"
     ]
    }
   ],
   "source": [
    "# Решение с вложенными циклами\n",
    "n = int(input())\n",
    "for i in range(n):\n",
    "    for j in range(n):\n",
    "        print('*', end='.')\n",
    "    print()    "
   ]
  },
  {
   "cell_type": "code",
   "execution_count": 218,
   "metadata": {},
   "outputs": [
    {
     "name": "stdout",
     "output_type": "stream",
     "text": [
      "1\n",
      "9\n",
      "1\n",
      "9\n",
      "\t1\t2\t3\t4\t5\t6\t7\t8\t9\t\n",
      "1\t1\t2\t3\t4\t5\t6\t7\t8\t9\t\n",
      "2\t2\t4\t6\t8\t10\t12\t14\t16\t18\t\n",
      "3\t3\t6\t9\t12\t15\t18\t21\t24\t27\t\n",
      "4\t4\t8\t12\t16\t20\t24\t28\t32\t36\t\n",
      "5\t5\t10\t15\t20\t25\t30\t35\t40\t45\t\n",
      "6\t6\t12\t18\t24\t30\t36\t42\t48\t54\t\n",
      "7\t7\t14\t21\t28\t35\t42\t49\t56\t63\t\n",
      "8\t8\t16\t24\t32\t40\t48\t56\t64\t72\t\n",
      "9\t9\t18\t27\t36\t45\t54\t63\t72\t81\t"
     ]
    }
   ],
   "source": [
    "#Когда Павел учился в школе, он запоминал таблицу умножения прямоугольными блоками. Для тренировок ему бы очень пригодилась программа,\n",
    "#которая показывала бы блок таблицы умножения.\n",
    "#Напишите программу, на вход которой даются четыре числа a, b, c и d, каждое в своей строке.\n",
    "#Программа должна вывести фрагмент таблицы умножения для всех чисел отрезка [a; b] на все числа отрезка [c;d].\n",
    "#Числа a, b, c и d являются натуральными и не превосходят 10, a≤b, c≤d.\n",
    "\n",
    "#Следуйте формату вывода из примера, для разделения элементов внутри строки используйте '\\t' — символ табуляции.\n",
    "#Заметьте, что левым столбцом и верхней строкой выводятся сами числа из заданных отрезков — заголовочные столбец и строка таблицы.\n",
    "\n",
    "a = int(input())\n",
    "b = int(input())\n",
    "c = int(input())\n",
    "d= int(input())\n",
    "print('', end='\\t')  # отступ в первой строке\n",
    "for i in range(c, d +1): \n",
    "    print(i, end='\\t')  #вывод первой строки(колонки) на которые будем умножать\n",
    "for i in range(a, b +1):    # Цикл перехода по строкам\n",
    "    print('') # пустая строка\n",
    "    print(i, end='\\t')  # ввывод строк которые будем умножать.\n",
    "    for j in range(c, d + 1): # цикл для вывода чисел в строке\n",
    "        print(i * j, end='\\t') # вывод произведений чисел \n",
    "    \n",
    "   "
   ]
  },
  {
   "cell_type": "code",
   "execution_count": 225,
   "metadata": {},
   "outputs": [
    {
     "name": "stdout",
     "output_type": "stream",
     "text": [
      "1\n",
      "3\n",
      "7\n",
      "9\n",
      "\t7\t8\t9\n"
     ]
    }
   ],
   "source": [
    "# Второй вариант решения задания\n",
    "a, b , c, d = (int(input()) for i in (1, 2, 3, 4)) # ввод по строчно четырех чисел\n",
    "\n",
    "print('', *range(c, d+1), sep='\\t') # вывод чисел в диапазоне от с до d включтельно(столбцы)верхняя строка\n",
    "\n",
    "[ print(i, *range(i * c, i * (d + 1), i), sep='\\t') for i in range(a, b + 1) ] # вывод строк чисел помноженных на столбцы"
   ]
  },
  {
   "cell_type": "markdown",
   "metadata": {},
   "source": [
    "# Резка трубы"
   ]
  },
  {
   "cell_type": "code",
   "execution_count": 431,
   "metadata": {},
   "outputs": [
    {
     "name": "stdout",
     "output_type": "stream",
     "text": [
      "Введите общую длину трубы: 7\n",
      "Введите длину отреза : 2\n",
      "остаток от трубы = 1.0\n",
      "количество резов = 3.0\n"
     ]
    },
    {
     "ename": "KeyboardInterrupt",
     "evalue": "Interrupted by user",
     "output_type": "error",
     "traceback": [
      "\u001b[1;31m---------------------------------------------------------------------------\u001b[0m",
      "\u001b[1;31mKeyboardInterrupt\u001b[0m                         Traceback (most recent call last)",
      "\u001b[1;32m<ipython-input-431-ed95495d5564>\u001b[0m in \u001b[0;36m<module>\u001b[1;34m\u001b[0m\n\u001b[0;32m      3\u001b[0m \u001b[1;32mwhile\u001b[0m \u001b[1;32mTrue\u001b[0m\u001b[1;33m:\u001b[0m\u001b[1;33m\u001b[0m\u001b[1;33m\u001b[0m\u001b[0m\n\u001b[0;32m      4\u001b[0m \u001b[1;33m\u001b[0m\u001b[0m\n\u001b[1;32m----> 5\u001b[1;33m     \u001b[0ma\u001b[0m \u001b[1;33m=\u001b[0m\u001b[0mобшая_длина\u001b[0m \u001b[1;33m=\u001b[0m \u001b[0mfloat\u001b[0m\u001b[1;33m(\u001b[0m\u001b[0minput\u001b[0m\u001b[1;33m(\u001b[0m\u001b[1;34m\"Введите общую длину трубы: \"\u001b[0m\u001b[1;33m)\u001b[0m\u001b[1;33m)\u001b[0m\u001b[1;33m\u001b[0m\u001b[1;33m\u001b[0m\u001b[0m\n\u001b[0m\u001b[0;32m      6\u001b[0m     \u001b[0mb\u001b[0m \u001b[1;33m=\u001b[0m \u001b[0mотрезок\u001b[0m \u001b[1;33m=\u001b[0m \u001b[0mfloat\u001b[0m\u001b[1;33m(\u001b[0m\u001b[0minput\u001b[0m\u001b[1;33m(\u001b[0m\u001b[1;34m\"Введите длину отреза : \"\u001b[0m\u001b[1;33m)\u001b[0m\u001b[1;33m)\u001b[0m\u001b[1;33m\u001b[0m\u001b[1;33m\u001b[0m\u001b[0m\n\u001b[0;32m      7\u001b[0m \u001b[1;33m\u001b[0m\u001b[0m\n",
      "\u001b[1;32m~\\AppData\\Roaming\\Python\\Python38\\site-packages\\ipykernel\\kernelbase.py\u001b[0m in \u001b[0;36mraw_input\u001b[1;34m(self, prompt)\u001b[0m\n\u001b[0;32m    846\u001b[0m                 \u001b[1;34m\"raw_input was called, but this frontend does not support input requests.\"\u001b[0m\u001b[1;33m\u001b[0m\u001b[1;33m\u001b[0m\u001b[0m\n\u001b[0;32m    847\u001b[0m             )\n\u001b[1;32m--> 848\u001b[1;33m         return self._input_request(str(prompt),\n\u001b[0m\u001b[0;32m    849\u001b[0m             \u001b[0mself\u001b[0m\u001b[1;33m.\u001b[0m\u001b[0m_parent_ident\u001b[0m\u001b[1;33m,\u001b[0m\u001b[1;33m\u001b[0m\u001b[1;33m\u001b[0m\u001b[0m\n\u001b[0;32m    850\u001b[0m             \u001b[0mself\u001b[0m\u001b[1;33m.\u001b[0m\u001b[0m_parent_header\u001b[0m\u001b[1;33m,\u001b[0m\u001b[1;33m\u001b[0m\u001b[1;33m\u001b[0m\u001b[0m\n",
      "\u001b[1;32m~\\AppData\\Roaming\\Python\\Python38\\site-packages\\ipykernel\\kernelbase.py\u001b[0m in \u001b[0;36m_input_request\u001b[1;34m(self, prompt, ident, parent, password)\u001b[0m\n\u001b[0;32m    890\u001b[0m             \u001b[1;32mexcept\u001b[0m \u001b[0mKeyboardInterrupt\u001b[0m\u001b[1;33m:\u001b[0m\u001b[1;33m\u001b[0m\u001b[1;33m\u001b[0m\u001b[0m\n\u001b[0;32m    891\u001b[0m                 \u001b[1;31m# re-raise KeyboardInterrupt, to truncate traceback\u001b[0m\u001b[1;33m\u001b[0m\u001b[1;33m\u001b[0m\u001b[1;33m\u001b[0m\u001b[0m\n\u001b[1;32m--> 892\u001b[1;33m                 \u001b[1;32mraise\u001b[0m \u001b[0mKeyboardInterrupt\u001b[0m\u001b[1;33m(\u001b[0m\u001b[1;34m\"Interrupted by user\"\u001b[0m\u001b[1;33m)\u001b[0m \u001b[1;32mfrom\u001b[0m \u001b[1;32mNone\u001b[0m\u001b[1;33m\u001b[0m\u001b[1;33m\u001b[0m\u001b[0m\n\u001b[0m\u001b[0;32m    893\u001b[0m             \u001b[1;32mexcept\u001b[0m \u001b[0mException\u001b[0m \u001b[1;32mas\u001b[0m \u001b[0me\u001b[0m\u001b[1;33m:\u001b[0m\u001b[1;33m\u001b[0m\u001b[1;33m\u001b[0m\u001b[0m\n\u001b[0;32m    894\u001b[0m                 \u001b[0mself\u001b[0m\u001b[1;33m.\u001b[0m\u001b[0mlog\u001b[0m\u001b[1;33m.\u001b[0m\u001b[0mwarning\u001b[0m\u001b[1;33m(\u001b[0m\u001b[1;34m\"Invalid Message:\"\u001b[0m\u001b[1;33m,\u001b[0m \u001b[0mexc_info\u001b[0m\u001b[1;33m=\u001b[0m\u001b[1;32mTrue\u001b[0m\u001b[1;33m)\u001b[0m\u001b[1;33m\u001b[0m\u001b[1;33m\u001b[0m\u001b[0m\n",
      "\u001b[1;31mKeyboardInterrupt\u001b[0m: Interrupted by user"
     ]
    }
   ],
   "source": [
    "# Дано а метров металической трубы .Задача посчитать на какое число можно порезать ,какой остаток,сколько резов\n",
    "# Выход из программы 0 0 на вводе \n",
    "while True:\n",
    "    \n",
    "    a =обшая_длина = float(input(\"Введите общую длину трубы: \"))\n",
    "    b = отрезок = float(input(\"Введите длину отреза : \"))\n",
    "    \n",
    "    if (a == 0) and (b == 0):\n",
    "        break\n",
    "    if (a % 2 != 0) and (b % 2 != 0):\n",
    "        c = остаток = a % b\n",
    "        print(f'остаток от трубы = {c}')\n",
    "        print(f'количество резов = {a // b - 1}')\n",
    "        \n",
    "    elif (a % 2 == 0) and (b % 2 == 0) : \n",
    "        c = остаток = a % b\n",
    "        print(f'остаток от трубы = {c}')\n",
    "        print(f'количество резов = {a // b}') \n",
    "        \n",
    "    elif (a % 2 != 0) and (b % 2 == 0) : \n",
    "        c = остаток = a % b\n",
    "        print(f'остаток от трубы = {c}')\n",
    "        print(f'количество резов = {a // b}')     \n",
    "        \n",
    "    elif (a % 2 == 0) and (b % 2 != 0) : \n",
    "        \n",
    "        c = остаток = a % b\n",
    "        print(f'остаток от трубы = {c}')\n",
    "        print(f'количество резов = {a // b}')"
   ]
  },
  {
   "cell_type": "code",
   "execution_count": null,
   "metadata": {},
   "outputs": [],
   "source": [
    "# Вывести сумму всех нечетных чисел от А до B\n",
    "a,b = input().split()\n",
    "\n",
    "a = int(a)\n",
    "b = int(b)\n",
    "count_sum = 0\n",
    "for i in range(a, b + 1):\n",
    "    if i % 2 == 1:\n",
    "        count_sum += i\n",
    "print(count_sum)"
   ]
  },
  {
   "cell_type": "code",
   "execution_count": 315,
   "metadata": {},
   "outputs": [
    {
     "name": "stdout",
     "output_type": "stream",
     "text": [
      "3 7\n",
      "15\n"
     ]
    }
   ],
   "source": [
    "#Модифицируем предидущую задачу\n",
    "# Будем сразу идти по нечетным числам:\n",
    "# Если а четное то + 1(ближайщее нечетное) и проходим в цикле с шагом 2\n",
    "\n",
    "a, b = input().split() # ввод а и b через разделитель допустим пробел\n",
    "a = int(a) # приаодим переменную a and b к целочисленнму значению\n",
    "b = int(b)\n",
    "count_sum = 0  # переменная по счету сумм\n",
    "\n",
    "if a % 2 == 0:\n",
    "    a += 1\n",
    "for i in range(a, b + 1, 2):\n",
    "    count_sum += i\n",
    "    #print(count_sum)\n",
    "print(count_sum)\n"
   ]
  },
  {
   "cell_type": "code",
   "execution_count": 350,
   "metadata": {},
   "outputs": [
    {
     "name": "stdout",
     "output_type": "stream",
     "text": [
      "3 7\n",
      "a = 3,b = 7\n",
      "процесс с каждой итерацией =3 + 0 = 3 \n",
      "процесс с каждой итерацией =5 + 3 = 8 \n",
      "процесс с каждой итерацией =7 + 8 = 15 \n",
      "15\n"
     ]
    }
   ],
   "source": [
    "# Вывести сумму всех нечетных чисел от А до B\n",
    "# Модификация ввода данных к каждой части применяем функцию int()\n",
    "a, b = (int(i) for i in input().split())\n",
    "count_sum = 0\n",
    "print(f'a = {a},b = {b}')\n",
    "\n",
    "if a % 2 == 0:\n",
    "    a += 1\n",
    "\n",
    "for i in range(a, b + 1, 2):\n",
    "    count_sum += i\n",
    "    print(f'процесс с каждой итерацией ={i} + {count_sum - i} = {count_sum} ')\n",
    "print(count_sum)\n",
    "\n"
   ]
  },
  {
   "cell_type": "code",
   "execution_count": 388,
   "metadata": {},
   "outputs": [
    {
     "name": "stdout",
     "output_type": "stream",
     "text": [
      "-5 12\n",
      "-4 итерации\n",
      "-3 итерации\n",
      "-3=s -сумма чисел кратных трем, 1=c-количество чисел в пределе\n",
      "-2 итерации\n",
      "-1 итерации\n",
      "0 итерации\n",
      "-3=s -сумма чисел кратных трем, 2=c-количество чисел в пределе\n",
      "1 итерации\n",
      "2 итерации\n",
      "3 итерации\n",
      "0=s -сумма чисел кратных трем, 3=c-количество чисел в пределе\n",
      "4 итерации\n",
      "5 итерации\n",
      "6 итерации\n",
      "6=s -сумма чисел кратных трем, 4=c-количество чисел в пределе\n",
      "7 итерации\n",
      "8 итерации\n",
      "9 итерации\n",
      "15=s -сумма чисел кратных трем, 5=c-количество чисел в пределе\n",
      "10 итерации\n",
      "11 итерации\n",
      "12 итерации\n",
      "27=s -сумма чисел кратных трем, 6=c-количество чисел в пределе\n",
      "13 итерации\n",
      "среднее арифметическое из предела целых чисел кратных трем = 4.5\n"
     ]
    }
   ],
   "source": [
    "#Напишите программу, которая считывает с клавиатуры два числа a и b, считает и выводит на консоль среднее арифметическое всех чисел\n",
    "#из отрезка [a; b], которые кратны числу 3.\n",
    "\n",
    "#В приведенном ниже примере среднее арифметическое считается для чисел на отрезке [-5; 12]. \n",
    "#Всего чисел, делящихся на 3, на этом отрезке 6: -3, 0, 3, 6, 9, 12. Их среднее арифметическое равно 4.5\n",
    "\n",
    "  # среднее арифметическое = (x1+x2+x3+xn)/n\n",
    "    \n",
    "#На вход программе подаются интервалы, внутри которых всегда есть хотя бы одно число, которое делится на 3\n",
    "\n",
    "a, b = (int(i) for i in input().split())\n",
    "s = 0\n",
    "c = 0\n",
    "for i in range(a, b+1):\n",
    "    if i % 3 == 0:\n",
    "        s += i\n",
    "        c += 1\n",
    "        print(f'{s}=s -сумма чисел кратных трем, {c}=c-количество чисел в пределе')\n",
    "    i += 1\n",
    "    print(f'{i} итерации')\n",
    "print(f'среднее арифметическое из предела целых чисел кратных трем = {s / c}')\n",
    "\n",
    "   "
   ]
  },
  {
   "cell_type": "code",
   "execution_count": 389,
   "metadata": {},
   "outputs": [
    {
     "name": "stdout",
     "output_type": "stream",
     "text": [
      "-5\n",
      "12\n",
      "4.5\n"
     ]
    }
   ],
   "source": [
    "a,b = int(input()), int(input())\n",
    "a += -a%3\n",
    "b -= b%3\n",
    "print((a+b)/2)"
   ]
  },
  {
   "cell_type": "code",
   "execution_count": 390,
   "metadata": {},
   "outputs": [
    {
     "name": "stdout",
     "output_type": "stream",
     "text": [
      "-5\n",
      "12\n",
      "4.5\n"
     ]
    }
   ],
   "source": [
    "x = [x for x in range(int(input()),int(input()) + 1) if x % 3 == 0]\n",
    "print(sum(x)/len(x))"
   ]
  },
  {
   "cell_type": "code",
   "execution_count": 391,
   "metadata": {},
   "outputs": [
    {
     "name": "stdout",
     "output_type": "stream",
     "text": [
      "-5\n",
      "12\n",
      "4.5\n"
     ]
    }
   ],
   "source": [
    "a,b = int(input()),int(input())\n",
    "s=[]\n",
    "allo=0\n",
    "for i in range(a,b+1):\n",
    "    if i % 3 == 0:\n",
    "        s.append(i)\n",
    "        allo+=1\n",
    "print(sum(s)/allo)"
   ]
  },
  {
   "cell_type": "code",
   "execution_count": 392,
   "metadata": {},
   "outputs": [
    {
     "name": "stdout",
     "output_type": "stream",
     "text": [
      "-5\n",
      "12\n",
      "4.5\n"
     ]
    }
   ],
   "source": [
    "print((((int(input())-1)//3)+1+int(input())//3)*1.5)"
   ]
  },
  {
   "cell_type": "code",
   "execution_count": 402,
   "metadata": {},
   "outputs": [
    {
     "name": "stdout",
     "output_type": "stream",
     "text": [
      "-5\n",
      "12\n",
      "[-3, 0, 3, 6, 9, 12]\n",
      "6\n",
      "4.5\n"
     ]
    }
   ],
   "source": [
    "#Напишите программу, которая считывает с клавиатуры два числа a и b, считает и выводит на консоль среднее арифметическое всех чисел\n",
    "#из отрезка [a; b], которые кратны числу 3.\n",
    "\n",
    "#В приведенном ниже примере среднее арифметическое считается для чисел на отрезке [-5; 12]. \n",
    "#Всего чисел, делящихся на 3, на этом отрезке 6: -3, 0, 3, 6, 9, 12. Их среднее арифметическое равно 4.5\n",
    "\n",
    "  # среднее арифметическое = (x1+x2+x3+xn)/n\n",
    "    \n",
    "#На вход программе подаются интервалы, внутри которых всегда есть хотя бы одно число, которое делится на 3\n",
    "\n",
    "a = int(input())\n",
    "b = int(input())\n",
    "x = []\n",
    "\n",
    "count = 0\n",
    "for i in range(a, b + 1):\n",
    "    if i % 3 == 0:\n",
    "        x.append(i)\n",
    "        count += 1\n",
    "print(x) # список чисел кратных 3\n",
    "print(count) # количество чисел в списке\n",
    "print(sum(x)/count)"
   ]
  },
  {
   "cell_type": "markdown",
   "metadata": {},
   "source": [
    "# Символы и строки"
   ]
  },
  {
   "cell_type": "code",
   "execution_count": 404,
   "metadata": {},
   "outputs": [
    {
     "data": {
      "text/plain": [
       "'A'"
      ]
     },
     "execution_count": 404,
     "metadata": {},
     "output_type": "execute_result"
    }
   ],
   "source": [
    "genome = \"ATGG\"\n",
    "genome[0]"
   ]
  },
  {
   "cell_type": "code",
   "execution_count": 405,
   "metadata": {},
   "outputs": [
    {
     "data": {
      "text/plain": [
       "'T'"
      ]
     },
     "execution_count": 405,
     "metadata": {},
     "output_type": "execute_result"
    }
   ],
   "source": [
    "genome[1]"
   ]
  },
  {
   "cell_type": "code",
   "execution_count": 406,
   "metadata": {},
   "outputs": [
    {
     "data": {
      "text/plain": [
       "'G'"
      ]
     },
     "execution_count": 406,
     "metadata": {},
     "output_type": "execute_result"
    }
   ],
   "source": [
    "genome[2]\n"
   ]
  },
  {
   "cell_type": "code",
   "execution_count": 407,
   "metadata": {},
   "outputs": [
    {
     "data": {
      "text/plain": [
       "'G'"
      ]
     },
     "execution_count": 407,
     "metadata": {},
     "output_type": "execute_result"
    }
   ],
   "source": [
    "genome[3]"
   ]
  },
  {
   "cell_type": "code",
   "execution_count": 408,
   "metadata": {},
   "outputs": [
    {
     "data": {
      "text/plain": [
       "'G'"
      ]
     },
     "execution_count": 408,
     "metadata": {},
     "output_type": "execute_result"
    }
   ],
   "source": [
    "# запрос с конца строки\n",
    "genome = \"ATGG\"\n",
    "genome[-1]"
   ]
  },
  {
   "cell_type": "code",
   "execution_count": 409,
   "metadata": {},
   "outputs": [
    {
     "data": {
      "text/plain": [
       "'G'"
      ]
     },
     "execution_count": 409,
     "metadata": {},
     "output_type": "execute_result"
    }
   ],
   "source": [
    "genome[-2]"
   ]
  },
  {
   "cell_type": "code",
   "execution_count": 410,
   "metadata": {},
   "outputs": [
    {
     "data": {
      "text/plain": [
       "'T'"
      ]
     },
     "execution_count": 410,
     "metadata": {},
     "output_type": "execute_result"
    }
   ],
   "source": [
    "genome[-3]"
   ]
  },
  {
   "cell_type": "code",
   "execution_count": 411,
   "metadata": {},
   "outputs": [
    {
     "data": {
      "text/plain": [
       "'A'"
      ]
     },
     "execution_count": 411,
     "metadata": {},
     "output_type": "execute_result"
    }
   ],
   "source": [
    "genome[-4]"
   ]
  },
  {
   "cell_type": "code",
   "execution_count": 412,
   "metadata": {},
   "outputs": [
    {
     "name": "stdout",
     "output_type": "stream",
     "text": [
      "T\n"
     ]
    }
   ],
   "source": [
    "i = 1\n",
    "print(genome[i])"
   ]
  },
  {
   "cell_type": "code",
   "execution_count": 413,
   "metadata": {},
   "outputs": [
    {
     "ename": "TypeError",
     "evalue": "'str' object does not support item assignment",
     "output_type": "error",
     "traceback": [
      "\u001b[1;31m---------------------------------------------------------------------------\u001b[0m",
      "\u001b[1;31mTypeError\u001b[0m                                 Traceback (most recent call last)",
      "\u001b[1;32m<ipython-input-413-e9fbf0672d0a>\u001b[0m in \u001b[0;36m<module>\u001b[1;34m\u001b[0m\n\u001b[0;32m      1\u001b[0m \u001b[1;31m# Строки НЕИЗМЕНЯЕМЫ\u001b[0m\u001b[1;33m\u001b[0m\u001b[1;33m\u001b[0m\u001b[1;33m\u001b[0m\u001b[0m\n\u001b[0;32m      2\u001b[0m \u001b[0mgenom\u001b[0m \u001b[1;33m=\u001b[0m \u001b[1;34m\"ATGG\"\u001b[0m\u001b[1;33m\u001b[0m\u001b[1;33m\u001b[0m\u001b[0m\n\u001b[1;32m----> 3\u001b[1;33m \u001b[0mgenom\u001b[0m\u001b[1;33m[\u001b[0m\u001b[1;36m1\u001b[0m\u001b[1;33m]\u001b[0m \u001b[1;33m=\u001b[0m \u001b[1;34m'C'\u001b[0m \u001b[1;31m# ошибка\u001b[0m\u001b[1;33m\u001b[0m\u001b[1;33m\u001b[0m\u001b[0m\n\u001b[0m",
      "\u001b[1;31mTypeError\u001b[0m: 'str' object does not support item assignment"
     ]
    }
   ],
   "source": [
    "# Строки НЕИЗМЕНЯЕМЫ\n",
    "genome = \"ATGG\"\n",
    "genome[1] = 'C' # ошибка"
   ]
  },
  {
   "cell_type": "code",
   "execution_count": 415,
   "metadata": {},
   "outputs": [
    {
     "name": "stdout",
     "output_type": "stream",
     "text": [
      "A\n",
      "T\n",
      "G\n",
      "G\n"
     ]
    }
   ],
   "source": [
    "# Перечисление символов строки с помощью индексов\n",
    "for i in range(4):\n",
    "    print(genome[i])"
   ]
  },
  {
   "cell_type": "code",
   "execution_count": 417,
   "metadata": {},
   "outputs": [
    {
     "name": "stdout",
     "output_type": "stream",
     "text": [
      "A\n",
      "T\n",
      "G\n",
      "G\n"
     ]
    }
   ],
   "source": [
    "genome = \"ATGG\"\n",
    "for i in genome:\n",
    "    print(i)"
   ]
  },
  {
   "cell_type": "code",
   "execution_count": 418,
   "metadata": {},
   "outputs": [
    {
     "name": "stdout",
     "output_type": "stream",
     "text": [
      "CACCTGGAC\n",
      "4\n"
     ]
    }
   ],
   "source": [
    "# Задача Цитозин\n",
    "# Дана геномная последовательность. Вывести, сколько раз в ней встречается нуклеотид цитозин\n",
    "\n",
    "genome = input()\n",
    "cnt = 0\n",
    "for nucl in genome:\n",
    "    if nucl == 'C': # если nucl является \"С\" \n",
    "        cnt += 1   # увеличиваем на 1\n",
    "print(cnt)"
   ]
  },
  {
   "cell_type": "code",
   "execution_count": 419,
   "metadata": {},
   "outputs": [
    {
     "name": "stdout",
     "output_type": "stream",
     "text": [
      "CACCTGGAC\n",
      "4\n"
     ]
    }
   ],
   "source": [
    "# Строки имеют методы:\n",
    "    # функция которая применяется к строке\n",
    "    # s.count(p) -сколько раз р встречается в стороке\n",
    "    \n",
    "genome = input()\n",
    "print(genome.count(\"C\"))\n"
   ]
  },
  {
   "cell_type": "markdown",
   "metadata": {},
   "source": [
    "# некоторые методы строк"
   ]
  },
  {
   "cell_type": "code",
   "execution_count": 420,
   "metadata": {},
   "outputs": [],
   "source": [
    "s = 'aTGcc'\n",
    "p = 'cc'"
   ]
  },
  {
   "cell_type": "code",
   "execution_count": 421,
   "metadata": {},
   "outputs": [
    {
     "data": {
      "text/plain": [
       "'ATGCC'"
      ]
     },
     "execution_count": 421,
     "metadata": {},
     "output_type": "execute_result"
    }
   ],
   "source": [
    "s.upper() # меняет регистр на заглавные"
   ]
  },
  {
   "cell_type": "code",
   "execution_count": 422,
   "metadata": {},
   "outputs": [
    {
     "data": {
      "text/plain": [
       "'atgcc'"
      ]
     },
     "execution_count": 422,
     "metadata": {},
     "output_type": "execute_result"
    }
   ],
   "source": [
    "s.lower() # меняет регистр на строчные"
   ]
  },
  {
   "cell_type": "code",
   "execution_count": 423,
   "metadata": {},
   "outputs": [
    {
     "data": {
      "text/plain": [
       "1"
      ]
     },
     "execution_count": 423,
     "metadata": {},
     "output_type": "execute_result"
    }
   ],
   "source": [
    "s.count(p) # сколько раз р встречается в s"
   ]
  },
  {
   "cell_type": "code",
   "execution_count": 424,
   "metadata": {},
   "outputs": [
    {
     "data": {
      "text/plain": [
       "3"
      ]
     },
     "execution_count": 424,
     "metadata": {},
     "output_type": "execute_result"
    }
   ],
   "source": [
    "s.find(p) # первое вхождение (индекс) р в s"
   ]
  },
  {
   "cell_type": "code",
   "execution_count": 425,
   "metadata": {},
   "outputs": [
    {
     "data": {
      "text/plain": [
       "-1"
      ]
     },
     "execution_count": 425,
     "metadata": {},
     "output_type": "execute_result"
    }
   ],
   "source": [
    "s.find(\"A\") # строка \"А\" не входит в s"
   ]
  },
  {
   "cell_type": "code",
   "execution_count": null,
   "metadata": {},
   "outputs": [],
   "source": [
    "# Проверка на вхождение    \n",
    "    if 'TG' in s:\n",
    "        print (True)\n",
    "    else:\n",
    "        print (False)"
   ]
  },
  {
   "cell_type": "code",
   "execution_count": 426,
   "metadata": {},
   "outputs": [
    {
     "data": {
      "text/plain": [
       "'aTGCC'"
      ]
     },
     "execution_count": 426,
     "metadata": {},
     "output_type": "execute_result"
    }
   ],
   "source": [
    "s.replace('c', 'C') # заменяем все вхождения 'c' на 'C'"
   ]
  },
  {
   "cell_type": "markdown",
   "metadata": {},
   "source": [
    "Последовательные вызовы метода"
   ]
  },
  {
   "cell_type": "code",
   "execution_count": 433,
   "metadata": {},
   "outputs": [
    {
     "data": {
      "text/plain": [
       "2"
      ]
     },
     "execution_count": 433,
     "metadata": {},
     "output_type": "execute_result"
    }
   ],
   "source": [
    "s = 'agTtAGtc'\n",
    "s.upper().count('gt'.upper())"
   ]
  },
  {
   "cell_type": "code",
   "execution_count": null,
   "metadata": {},
   "outputs": [],
   "source": [
    "GC-состав является важной характеристикой геномных последовательностей и определяется как \n",
    "процентное соотношение суммы всех гуанинов и цитозинов к общему числу нуклеиновых оснований в геномной последовательности.\n",
    "Напишите программу, которая вычисляет процентное содержание символов G (гуанин) и C (цитозин)\n",
    "в введенной строке (программа не должна зависеть от регистра вводимых символов).\n",
    "\n",
    "Например, в строке \"acggtgttat\" процентное содержание символов G и C равно 4/10 * 100 = 40.0 \n",
    ", где 4 -- это количество символов G и C,  а 10 -- это длина строки."
   ]
  },
  {
   "cell_type": "code",
   "execution_count": 443,
   "metadata": {},
   "outputs": [
    {
     "name": "stdout",
     "output_type": "stream",
     "text": [
      "4\n",
      "10\n",
      "40.0\n"
     ]
    }
   ],
   "source": [
    "#s = 'acggtgttat'\n",
    "s = input()\n",
    "count_G_C = (s.upper().count('G'.upper())) + (s.upper().count('C'.upper()))\n",
    "len_str = len(s)\n",
    "x = count_G_C / len_str * 100\n",
    "print(count_G_C)\n",
    "print(len_str)\n",
    "print(x)"
   ]
  },
  {
   "cell_type": "code",
   "execution_count": 444,
   "metadata": {},
   "outputs": [
    {
     "name": "stdout",
     "output_type": "stream",
     "text": [
      "acGGtgttat\n",
      "40.0\n"
     ]
    }
   ],
   "source": [
    "s = input().upper()\n",
    "print((s.count('G') + s.count('C'))/len(s) * 100)"
   ]
  },
  {
   "cell_type": "code",
   "execution_count": 447,
   "metadata": {},
   "outputs": [
    {
     "name": "stdout",
     "output_type": "stream",
     "text": [
      "acGGtgttat\n",
      "acggtgttat\n",
      "40.0\n"
     ]
    }
   ],
   "source": [
    "enter = input()\n",
    "enter_transform = enter.lower()\n",
    "print(enter_transform)\n",
    "count = 0\n",
    "for i in enter_transform:\n",
    "\tif i == 'g' or i == 'c':\n",
    "\t\tcount += 1\n",
    "\n",
    "print((count / len(enter_transform))* 100)"
   ]
  },
  {
   "cell_type": "raw",
   "metadata": {},
   "source": [
    "Задача ПОЛИНДРОМ:\n",
    "    Дана геномная последовательность. Необходимо проверить является ли она полиндромом?\n",
    "    Строка является полиндромом если читается в обе стороны одинаково.\n",
    "    \n",
    "входные данные: \n",
    "    CAGGTGGAC        GATTACA\n",
    "выходные данные:\n",
    "    YES               NO\n"
   ]
  },
  {
   "cell_type": "code",
   "execution_count": 454,
   "metadata": {},
   "outputs": [
    {
     "name": "stdout",
     "output_type": "stream",
     "text": [
      "CAGGTGGAC\n",
      "YES\n"
     ]
    }
   ],
   "source": [
    "x = input()\n",
    "if x == x[::-1]:\n",
    "    print('YES')\n",
    "else:\n",
    "    print('NO')"
   ]
  },
  {
   "cell_type": "code",
   "execution_count": 455,
   "metadata": {},
   "outputs": [
    {
     "name": "stdout",
     "output_type": "stream",
     "text": [
      "GATTACA\n",
      "NO\n"
     ]
    }
   ],
   "source": [
    "x = input()\n",
    "if x == x[::-1]:\n",
    "    print('YES')\n",
    "else:\n",
    "    print('NO')"
   ]
  },
  {
   "cell_type": "markdown",
   "metadata": {},
   "source": [
    "# SLISING Срезы"
   ]
  },
  {
   "cell_type": "code",
   "execution_count": 456,
   "metadata": {},
   "outputs": [
    {
     "data": {
      "text/plain": [
       "'T'"
      ]
     },
     "execution_count": 456,
     "metadata": {},
     "output_type": "execute_result"
    }
   ],
   "source": [
    "dna = \"ATTCGGAGCT\"\n",
    "dna[1]"
   ]
  },
  {
   "cell_type": "code",
   "execution_count": 457,
   "metadata": {},
   "outputs": [
    {
     "data": {
      "text/plain": [
       "'TTC'"
      ]
     },
     "execution_count": 457,
     "metadata": {},
     "output_type": "execute_result"
    }
   ],
   "source": [
    "dna[1:4]"
   ]
  },
  {
   "cell_type": "code",
   "execution_count": 458,
   "metadata": {},
   "outputs": [
    {
     "data": {
      "text/plain": [
       "'ATTC'"
      ]
     },
     "execution_count": 458,
     "metadata": {},
     "output_type": "execute_result"
    }
   ],
   "source": [
    "dna[:4]"
   ]
  },
  {
   "cell_type": "code",
   "execution_count": 459,
   "metadata": {},
   "outputs": [
    {
     "data": {
      "text/plain": [
       "'GGAGCT'"
      ]
     },
     "execution_count": 459,
     "metadata": {},
     "output_type": "execute_result"
    }
   ],
   "source": [
    "dna[4:]"
   ]
  },
  {
   "cell_type": "code",
   "execution_count": 460,
   "metadata": {},
   "outputs": [
    {
     "data": {
      "text/plain": [
       "'AGCT'"
      ]
     },
     "execution_count": 460,
     "metadata": {},
     "output_type": "execute_result"
    }
   ],
   "source": [
    "dna[-4:]"
   ]
  },
  {
   "cell_type": "code",
   "execution_count": 462,
   "metadata": {},
   "outputs": [
    {
     "data": {
      "text/plain": [
       "'TCGG'"
      ]
     },
     "execution_count": 462,
     "metadata": {},
     "output_type": "execute_result"
    }
   ],
   "source": [
    "dna[1:-1:2]"
   ]
  },
  {
   "cell_type": "code",
   "execution_count": 463,
   "metadata": {},
   "outputs": [
    {
     "data": {
      "text/plain": [
       "'TCGAGGCTTA'"
      ]
     },
     "execution_count": 463,
     "metadata": {},
     "output_type": "execute_result"
    }
   ],
   "source": [
    "dna[::-1]"
   ]
  },
  {
   "cell_type": "markdown",
   "metadata": {},
   "source": [
    "# РЕШЕНИЕ ПАЛИНДРОМ"
   ]
  },
  {
   "cell_type": "code",
   "execution_count": 476,
   "metadata": {},
   "outputs": [
    {
     "name": "stdout",
     "output_type": "stream",
     "text": [
      "kllk\n",
      "3\n",
      "YES\n"
     ]
    }
   ],
   "source": [
    "# Для больших объемов данных\n",
    "\n",
    "#Проверим равны ли первый и последний символы и если они равны то проверяем второй и предпоследний символ и так далее, а если не равны\n",
    "# то это не полиндром\n",
    "s = input()\n",
    "i = 0\n",
    "j = len(s) - 1\n",
    "is_palindrom = True\n",
    "print(j)\n",
    "while i < j:\n",
    "    if s[i] != s[j]:\n",
    "        is_palindrom = False\n",
    "        break\n",
    "    i += 1\n",
    "    j -= 1\n",
    "if is_palindrom:\n",
    "    print(\"YES\")\n",
    "else:\n",
    "    print('NO')"
   ]
  },
  {
   "cell_type": "code",
   "execution_count": 478,
   "metadata": {},
   "outputs": [
    {
     "name": "stdout",
     "output_type": "stream",
     "text": [
      "fghhgf\n",
      "YES\n"
     ]
    }
   ],
   "source": [
    "#Для коротких строк\n",
    "s = input()\n",
    "r = s[::-1]  # строка прочитанная в обратном направлении\n",
    "if s == r:\n",
    "    print('YES')\n",
    "else:\n",
    "    print(\"NO\")"
   ]
  },
  {
   "cell_type": "code",
   "execution_count": 468,
   "metadata": {},
   "outputs": [
    {
     "data": {
      "text/plain": [
       "'kigec'"
      ]
     },
     "execution_count": 468,
     "metadata": {},
     "output_type": "execute_result"
    }
   ],
   "source": [
    " s = 'abcdefghijk'\n",
    "s[-1:-10:-2]"
   ]
  },
  {
   "cell_type": "code",
   "execution_count": 469,
   "metadata": {},
   "outputs": [
    {
     "data": {
      "text/plain": [
       "'def'"
      ]
     },
     "execution_count": 469,
     "metadata": {},
     "output_type": "execute_result"
    }
   ],
   "source": [
    "s[3:6]\n"
   ]
  },
  {
   "cell_type": "code",
   "execution_count": 470,
   "metadata": {},
   "outputs": [
    {
     "data": {
      "text/plain": [
       "'abcdef'"
      ]
     },
     "execution_count": 470,
     "metadata": {},
     "output_type": "execute_result"
    }
   ],
   "source": [
    "s[:6]\n"
   ]
  },
  {
   "cell_type": "code",
   "execution_count": 471,
   "metadata": {},
   "outputs": [
    {
     "data": {
      "text/plain": [
       "'defghijk'"
      ]
     },
     "execution_count": 471,
     "metadata": {},
     "output_type": "execute_result"
    }
   ],
   "source": [
    "s[3:]\n"
   ]
  },
  {
   "cell_type": "code",
   "execution_count": 472,
   "metadata": {},
   "outputs": [
    {
     "data": {
      "text/plain": [
       "'kjihgfedcba'"
      ]
     },
     "execution_count": 472,
     "metadata": {},
     "output_type": "execute_result"
    }
   ],
   "source": [
    "s[::-1]\n"
   ]
  },
  {
   "cell_type": "code",
   "execution_count": 473,
   "metadata": {},
   "outputs": [
    {
     "data": {
      "text/plain": [
       "'ijk'"
      ]
     },
     "execution_count": 473,
     "metadata": {},
     "output_type": "execute_result"
    }
   ],
   "source": [
    "s[-3:]\n"
   ]
  },
  {
   "cell_type": "code",
   "execution_count": 474,
   "metadata": {},
   "outputs": [
    {
     "data": {
      "text/plain": [
       "'abcde'"
      ]
     },
     "execution_count": 474,
     "metadata": {},
     "output_type": "execute_result"
    }
   ],
   "source": [
    "s[:-6]\n"
   ]
  },
  {
   "cell_type": "raw",
   "metadata": {},
   "source": [
    "Узнав, что ДНК не является случайной строкой, только что поступившие в Институт биоинформатики студенты группы информатиков\n",
    "предложили использовать алгоритм сжатия, который сжимает повторяющиеся символы в строке.\n",
    "Кодирование осуществляется следующим образом:\n",
    "s = 'aaaabbсaa' преобразуется в 'a4b2с1a2', то есть группы одинаковых символов исходной строки заменяются на этот символ\n",
    "и количество его повторений в этой позиции строки.\n",
    "\n",
    "Напишите программу, которая считывает строку, кодирует её предложенным алгоритмом и выводит закодированную последовательность\n",
    "на стандартный вывод. Кодирование должно учитывать регистр символов."
   ]
  },
  {
   "cell_type": "code",
   "execution_count": 485,
   "metadata": {},
   "outputs": [
    {
     "name": "stdout",
     "output_type": "stream",
     "text": [
      "aaagggkkk\n",
      "a3g3k3\n"
     ]
    }
   ],
   "source": [
    "#Решение займет минут 15, если Вы сначала поймете как работает ваш мозг при таком кодировании, т.е. мы берем первый символ,\n",
    "#сравниваем со следующим, добавляем единичку в количество если они одинаковы, как только след входящий символ отличается- записываем\n",
    "#в строку и начинаем отсчет заново по новому символу.... Может поможет кого на мысль натолкнуть:) Думайте Логично(с)\n",
    "s = input() # ввод\n",
    "rez = ''    # строка для результата\n",
    "cnt = 1     # счетчик одинаковых символов строки\n",
    "for i in range(1, len(s)):\n",
    "    if s[i - 1] == s[i]:  # если символы равны \n",
    "        cnt += 1          # прибавляем один\n",
    "    else:\n",
    "        rez += s[i - 1] + str(cnt) # иначе к резельтату прибавить следующий символ\n",
    "        cnt = 1                    # обнуляем счетчик\n",
    "rez += s[len(s) - 1] + str(cnt)\n",
    "print(rez)\n",
    "\n",
    "\n",
    "        \n"
   ]
  },
  {
   "cell_type": "code",
   "execution_count": 486,
   "metadata": {},
   "outputs": [
    {
     "name": "stdout",
     "output_type": "stream",
     "text": [
      "aaagggkkk\n",
      "a3g3k3\n"
     ]
    }
   ],
   "source": [
    "s = input()\n",
    "s1 = \"\"\n",
    "a = 0\n",
    "b = s[0]\n",
    "for i in s:\n",
    "    if i == b:\n",
    "        a += 1\n",
    "    else:\n",
    "        s1 += b + str(a)\n",
    "        a = 1\n",
    "        b = i\n",
    "s1 += b + str(a)\n",
    "print(s1)"
   ]
  },
  {
   "cell_type": "code",
   "execution_count": 487,
   "metadata": {},
   "outputs": [
    {
     "name": "stdout",
     "output_type": "stream",
     "text": [
      "aaagggkkk\n",
      "a3g3k3\n"
     ]
    }
   ],
   "source": [
    "dna = input()                    # считываем строку\n",
    "print(dna[0],end='')             # выводим первый символ\n",
    "cnt = 1                          # счетчик символов на единице\n",
    "for i in range(0,len(dna)-1):    # итератор проходит по всем индексам символов кроме предпоследнего\n",
    "    if dna[i] == dna[i+1]:       # сравниваем символ по текущему индексу со следующим\n",
    "        cnt+=1                   # если символы одинаковые, то увеличиваем счетчик\n",
    "    else :\n",
    "        print(cnt,end='')        # если разные, то выводим значение счетчика\n",
    "        print(dna[i+1],end='')   # выводим следующий символ\n",
    "        cnt = 1                  # счетчик текущего символа на единице\n",
    "print(cnt)                       # в конце распечатываем значение счетчика последнего символ"
   ]
  },
  {
   "cell_type": "markdown",
   "metadata": {},
   "source": [
    "# Списки"
   ]
  },
  {
   "cell_type": "markdown",
   "metadata": {},
   "source": [
    "Используются для хранения набора значений. Могут содержать строки ,числа, произвольные объекты и даже другие списки.\n",
    "В рамках одного списка могут комбинироваться объекты разных типов"
   ]
  },
  {
   "cell_type": "code",
   "execution_count": 488,
   "metadata": {},
   "outputs": [
    {
     "name": "stdout",
     "output_type": "stream",
     "text": [
      "Hello,Ivan!\n",
      "Hello,Masha!\n",
      "Hello,Sasha!\n"
     ]
    }
   ],
   "source": [
    "students = ['Ivan', 'Masha', 'Sasha']\n",
    "for student in students:\n",
    "    print('Hello,' + student + '!')"
   ]
  },
  {
   "cell_type": "code",
   "execution_count": 489,
   "metadata": {},
   "outputs": [
    {
     "data": {
      "text/plain": [
       "'Ivan'"
      ]
     },
     "execution_count": 489,
     "metadata": {},
     "output_type": "execute_result"
    }
   ],
   "source": [
    "students[0]"
   ]
  },
  {
   "cell_type": "code",
   "execution_count": 490,
   "metadata": {},
   "outputs": [
    {
     "data": {
      "text/plain": [
       "'Masha'"
      ]
     },
     "execution_count": 490,
     "metadata": {},
     "output_type": "execute_result"
    }
   ],
   "source": [
    "students[1]"
   ]
  },
  {
   "cell_type": "code",
   "execution_count": 491,
   "metadata": {},
   "outputs": [
    {
     "data": {
      "text/plain": [
       "'Sasha'"
      ]
     },
     "execution_count": 491,
     "metadata": {},
     "output_type": "execute_result"
    }
   ],
   "source": [
    "students[2]"
   ]
  },
  {
   "cell_type": "code",
   "execution_count": 492,
   "metadata": {},
   "outputs": [
    {
     "data": {
      "text/plain": [
       "3"
      ]
     },
     "execution_count": 492,
     "metadata": {},
     "output_type": "execute_result"
    }
   ],
   "source": [
    "len(students) # количество элементов в списке"
   ]
  },
  {
   "cell_type": "code",
   "execution_count": 494,
   "metadata": {},
   "outputs": [
    {
     "data": {
      "text/plain": [
       "2"
      ]
     },
     "execution_count": 494,
     "metadata": {},
     "output_type": "execute_result"
    }
   ],
   "source": [
    "len(students) - 1"
   ]
  },
  {
   "cell_type": "code",
   "execution_count": 495,
   "metadata": {},
   "outputs": [
    {
     "data": {
      "text/plain": [
       "['Ivan', 'Masha']"
      ]
     },
     "execution_count": 495,
     "metadata": {},
     "output_type": "execute_result"
    }
   ],
   "source": [
    "students[:2]"
   ]
  },
  {
   "cell_type": "code",
   "execution_count": 496,
   "metadata": {},
   "outputs": [
    {
     "data": {
      "text/plain": [
       "['Sasha', 'Masha', 'Ivan']"
      ]
     },
     "execution_count": 496,
     "metadata": {},
     "output_type": "execute_result"
    }
   ],
   "source": [
    "students[::-1]"
   ]
  },
  {
   "cell_type": "markdown",
   "metadata": {},
   "source": [
    "Операции со списками"
   ]
  },
  {
   "cell_type": "code",
   "execution_count": 497,
   "metadata": {},
   "outputs": [
    {
     "name": "stdout",
     "output_type": "stream",
     "text": [
      "['Ivan', 'Masha', 'Sasha', 'Olga', 'Maxim']\n"
     ]
    }
   ],
   "source": [
    "students = ['Ivan', 'Masha', 'Sasha']\n",
    "teachers = ['Olga', 'Maxim']\n",
    "print(students + teachers)"
   ]
  },
  {
   "cell_type": "code",
   "execution_count": 498,
   "metadata": {},
   "outputs": [
    {
     "data": {
      "text/plain": [
       "[0.1, 0.1, 0.1, 0.1]"
      ]
     },
     "execution_count": 498,
     "metadata": {},
     "output_type": "execute_result"
    }
   ],
   "source": [
    "[0.1] * 4"
   ]
  },
  {
   "cell_type": "markdown",
   "metadata": {},
   "source": [
    "Изменение списков"
   ]
  },
  {
   "cell_type": "code",
   "execution_count": 499,
   "metadata": {},
   "outputs": [
    {
     "name": "stdout",
     "output_type": "stream",
     "text": [
      "['Ivan', 'Олег', 'Sasha']\n"
     ]
    }
   ],
   "source": [
    "students = ['Ivan', 'Masha', 'Sasha']\n",
    "students[1] = 'Олег'\n",
    "print(students)"
   ]
  },
  {
   "cell_type": "markdown",
   "metadata": {},
   "source": [
    "Добавление элементов в списки"
   ]
  },
  {
   "cell_type": "code",
   "execution_count": 503,
   "metadata": {},
   "outputs": [],
   "source": [
    "students = ['Ivan', 'Masha', 'Sasha']\n",
    "students.append('Ольга')"
   ]
  },
  {
   "cell_type": "code",
   "execution_count": 504,
   "metadata": {},
   "outputs": [
    {
     "data": {
      "text/plain": [
       "['Ivan', 'Masha', 'Sasha', 'Ольга']"
      ]
     },
     "execution_count": 504,
     "metadata": {},
     "output_type": "execute_result"
    }
   ],
   "source": [
    "students"
   ]
  },
  {
   "cell_type": "code",
   "execution_count": 505,
   "metadata": {},
   "outputs": [],
   "source": [
    "students = ['Ivan', 'Masha', 'Sasha']\n",
    "students += ['Stepan']"
   ]
  },
  {
   "cell_type": "code",
   "execution_count": 506,
   "metadata": {},
   "outputs": [
    {
     "data": {
      "text/plain": [
       "['Ivan', 'Masha', 'Sasha', 'Stepan']"
      ]
     },
     "execution_count": 506,
     "metadata": {},
     "output_type": "execute_result"
    }
   ],
   "source": [
    "students"
   ]
  },
  {
   "cell_type": "code",
   "execution_count": 507,
   "metadata": {},
   "outputs": [
    {
     "data": {
      "text/plain": [
       "['Ivan', 'Masha', 'Sasha', 'Stepan', 'Boris', 'Sergey']"
      ]
     },
     "execution_count": 507,
     "metadata": {},
     "output_type": "execute_result"
    }
   ],
   "source": [
    "students += ['Boris', 'Sergey']\n",
    "students"
   ]
  },
  {
   "cell_type": "code",
   "execution_count": 508,
   "metadata": {},
   "outputs": [
    {
     "data": {
      "text/plain": [
       "['Ivan', 'Masha', 'Sasha', 'Stepan', 'Boris', 'Sergey', 'Boris']"
      ]
     },
     "execution_count": 508,
     "metadata": {},
     "output_type": "execute_result"
    }
   ],
   "source": [
    "students += ['Boris']\n",
    "students"
   ]
  },
  {
   "cell_type": "code",
   "execution_count": 513,
   "metadata": {},
   "outputs": [
    {
     "name": "stdout",
     "output_type": "stream",
     "text": [
      "['Ivan', 'Masha', 'Sasha', 'Olga', 'O', 'l', 'g', 'a']\n",
      "8\n"
     ]
    }
   ],
   "source": [
    "students = ['Ivan', 'Masha', 'Sasha']\n",
    "students += ['Olga']\n",
    "students += 'Olga'\n",
    "print(students)\n",
    "print(len(students))"
   ]
  },
  {
   "cell_type": "markdown",
   "metadata": {},
   "source": [
    "Вставка элемента в список INSERT"
   ]
  },
  {
   "cell_type": "code",
   "execution_count": 509,
   "metadata": {},
   "outputs": [
    {
     "data": {
      "text/plain": [
       "['Ivan', 'Olga', 'Masha', 'Sasha']"
      ]
     },
     "execution_count": 509,
     "metadata": {},
     "output_type": "execute_result"
    }
   ],
   "source": [
    "students = ['Ivan', 'Masha', 'Sasha']\n",
    "students.insert(1, 'Olga') # вставить Olga по индексу 1\n",
    "students"
   ]
  },
  {
   "cell_type": "markdown",
   "metadata": {},
   "source": [
    "Удаление элемента из списка. REMOVE"
   ]
  },
  {
   "cell_type": "code",
   "execution_count": 517,
   "metadata": {},
   "outputs": [
    {
     "data": {
      "text/plain": [
       "['Ivan', 'Masha']"
      ]
     },
     "execution_count": 517,
     "metadata": {},
     "output_type": "execute_result"
    }
   ],
   "source": [
    "students = ['Ivan', 'Masha', 'Sasha']\n",
    "students.remove('Sasha')\n",
    "students"
   ]
  },
  {
   "cell_type": "code",
   "execution_count": 520,
   "metadata": {},
   "outputs": [],
   "source": [
    "#students = ['Ivan', 'Masha', 'Sasha']\n",
    "del students[0]"
   ]
  },
  {
   "cell_type": "markdown",
   "metadata": {},
   "source": [
    "Поиск элемента в списке"
   ]
  },
  {
   "cell_type": "code",
   "execution_count": 521,
   "metadata": {},
   "outputs": [
    {
     "name": "stdout",
     "output_type": "stream",
     "text": [
      "Ivan is here!\n"
     ]
    }
   ],
   "source": [
    "students = ['Ivan', 'Masha', 'Sasha']\n",
    "if 'Ivan' in students:\n",
    "    print('Ivan is here!')"
   ]
  },
  {
   "cell_type": "code",
   "execution_count": 522,
   "metadata": {},
   "outputs": [
    {
     "name": "stdout",
     "output_type": "stream",
     "text": [
      "Ann is out!\n"
     ]
    }
   ],
   "source": [
    "students = ['Ivan', 'Masha', 'Sasha']\n",
    "if 'Ann' not in students:\n",
    "    print('Ann is out!')"
   ]
  },
  {
   "cell_type": "code",
   "execution_count": 524,
   "metadata": {},
   "outputs": [
    {
     "data": {
      "text/plain": [
       "2"
      ]
     },
     "execution_count": 524,
     "metadata": {},
     "output_type": "execute_result"
    }
   ],
   "source": [
    "ind = students.index('Sasha')\n",
    "ind"
   ]
  },
  {
   "cell_type": "code",
   "execution_count": 525,
   "metadata": {},
   "outputs": [
    {
     "ename": "ValueError",
     "evalue": "'Ann' is not in list",
     "output_type": "error",
     "traceback": [
      "\u001b[1;31m---------------------------------------------------------------------------\u001b[0m",
      "\u001b[1;31mValueError\u001b[0m                                Traceback (most recent call last)",
      "\u001b[1;32m<ipython-input-525-e7edef50249e>\u001b[0m in \u001b[0;36m<module>\u001b[1;34m\u001b[0m\n\u001b[1;32m----> 1\u001b[1;33m \u001b[0mind\u001b[0m \u001b[1;33m=\u001b[0m \u001b[0mstudents\u001b[0m\u001b[1;33m.\u001b[0m\u001b[0mindex\u001b[0m\u001b[1;33m(\u001b[0m\u001b[1;34m'Ann'\u001b[0m\u001b[1;33m)\u001b[0m\u001b[1;33m\u001b[0m\u001b[1;33m\u001b[0m\u001b[0m\n\u001b[0m\u001b[0;32m      2\u001b[0m \u001b[0mind\u001b[0m\u001b[1;33m\u001b[0m\u001b[1;33m\u001b[0m\u001b[0m\n",
      "\u001b[1;31mValueError\u001b[0m: 'Ann' is not in list"
     ]
    }
   ],
   "source": [
    "ind = students.index('Ann')\n",
    "ind"
   ]
  },
  {
   "cell_type": "markdown",
   "metadata": {},
   "source": [
    "Сортировка списка"
   ]
  },
  {
   "cell_type": "code",
   "execution_count": 526,
   "metadata": {},
   "outputs": [
    {
     "name": "stdout",
     "output_type": "stream",
     "text": [
      "['Masha', 'Sasha', 'Ivan']\n",
      "['Ivan', 'Masha', 'Sasha']\n"
     ]
    }
   ],
   "source": [
    "# Не изменяя список\n",
    "students = [ 'Masha', 'Sasha', 'Ivan']\n",
    "ordered_students = sorted(students)\n",
    "\n",
    "print(students)\n",
    "print(ordered_students)"
   ]
  },
  {
   "cell_type": "code",
   "execution_count": 529,
   "metadata": {},
   "outputs": [
    {
     "name": "stdout",
     "output_type": "stream",
     "text": [
      "['Ivan', 'Masha', 'Sasha']\n"
     ]
    }
   ],
   "source": [
    "# Изменяя список\n",
    "students = [ 'Masha', 'Sasha', 'Ivan']\n",
    "students.sort()\n",
    "print(students)"
   ]
  },
  {
   "cell_type": "markdown",
   "metadata": {},
   "source": [
    "Список в обратном порядке. REVERSE"
   ]
  },
  {
   "cell_type": "code",
   "execution_count": 531,
   "metadata": {},
   "outputs": [
    {
     "data": {
      "text/plain": [
       "['Ivan', 'Sasha', 'Masha']"
      ]
     },
     "execution_count": 531,
     "metadata": {},
     "output_type": "execute_result"
    }
   ],
   "source": [
    "students = [ 'Masha', 'Sasha', 'Ivan']\n",
    "students.reverse()\n",
    "students"
   ]
  },
  {
   "cell_type": "code",
   "execution_count": 536,
   "metadata": {},
   "outputs": [
    {
     "name": "stdout",
     "output_type": "stream",
     "text": [
      "<list_reverseiterator object at 0x00000021571AC130>\n"
     ]
    }
   ],
   "source": [
    "students = [ 'Masha', 'Sasha', 'Ivan']\n",
    "reversed(students)\n"
   ]
  },
  {
   "cell_type": "code",
   "execution_count": 535,
   "metadata": {
    "scrolled": true
   },
   "outputs": [
    {
     "data": {
      "text/plain": [
       "['Ivan', 'Sasha', 'Masha']"
      ]
     },
     "execution_count": 535,
     "metadata": {},
     "output_type": "execute_result"
    }
   ],
   "source": [
    "students[::-1] # получим копию,сам список не меняется"
   ]
  },
  {
   "cell_type": "markdown",
   "metadata": {},
   "source": [
    "Присвоение списков"
   ]
  },
  {
   "cell_type": "code",
   "execution_count": 537,
   "metadata": {},
   "outputs": [
    {
     "name": "stdout",
     "output_type": "stream",
     "text": [
      "[1, 'A', 2]\n",
      "[1, 'A', 2]\n"
     ]
    }
   ],
   "source": [
    "a = [1, 'A', 2]\n",
    "b = a\n",
    "print(a)\n",
    "print(b)"
   ]
  },
  {
   "cell_type": "code",
   "execution_count": 538,
   "metadata": {},
   "outputs": [
    {
     "name": "stdout",
     "output_type": "stream",
     "text": [
      "[42, 'A', 2]\n",
      "[42, 'A', 2]\n"
     ]
    }
   ],
   "source": [
    "a[0] = 42\n",
    "print(a)\n",
    "print(b)"
   ]
  },
  {
   "cell_type": "code",
   "execution_count": 539,
   "metadata": {},
   "outputs": [
    {
     "name": "stdout",
     "output_type": "stream",
     "text": [
      "[42, 'A', 30]\n",
      "[42, 'A', 30]\n"
     ]
    }
   ],
   "source": [
    "b[2] = 30\n",
    "print(a)\n",
    "print(b)"
   ]
  },
  {
   "cell_type": "markdown",
   "metadata": {},
   "source": [
    "Генерация списков"
   ]
  },
  {
   "cell_type": "code",
   "execution_count": 540,
   "metadata": {},
   "outputs": [
    {
     "data": {
      "text/plain": [
       "[0, 0, 0, 0, 0]"
      ]
     },
     "execution_count": 540,
     "metadata": {},
     "output_type": "execute_result"
    }
   ],
   "source": [
    "a = [0] * 5\n",
    "a"
   ]
  },
  {
   "cell_type": "code",
   "execution_count": 541,
   "metadata": {},
   "outputs": [
    {
     "data": {
      "text/plain": [
       "[0, 0, 0, 0, 0]"
      ]
     },
     "execution_count": 541,
     "metadata": {},
     "output_type": "execute_result"
    }
   ],
   "source": [
    "# listcomprehenshin\n",
    "#i-переменная\n",
    "#range(5)-значение которое будет принимать переменная\n",
    "#0- выражение которое зависит от переменной и которое вычисляется для всех значений последовательности указанной после значения in\n",
    "# i пробегает от 0 до 4 и для каждого значения от 0 до 4 вычисляетя значение выражения которое в данном случае равно 0.\n",
    "#Получим список из пяти нолей\n",
    "a = [0 for i in range(5)]\n",
    "a"
   ]
  },
  {
   "cell_type": "code",
   "execution_count": 542,
   "metadata": {},
   "outputs": [
    {
     "data": {
      "text/plain": [
       "[0, 1, 4, 9, 16]"
      ]
     },
     "execution_count": 542,
     "metadata": {},
     "output_type": "execute_result"
    }
   ],
   "source": [
    "#0**2;1**2;2**2;3**2;4**2\n",
    "a = [i * i for i in range(5)]\n",
    "a"
   ]
  },
  {
   "cell_type": "code",
   "execution_count": 544,
   "metadata": {},
   "outputs": [
    {
     "name": "stdout",
     "output_type": "stream",
     "text": [
      "1 2 5 6 9 8 7\n"
     ]
    },
    {
     "data": {
      "text/plain": [
       "[1, 2, 5, 6, 9, 8, 7]"
      ]
     },
     "execution_count": 544,
     "metadata": {},
     "output_type": "execute_result"
    }
   ],
   "source": [
    "# input() читает строку split() делит строку по пробельным символам и далее к каждой части применяем функцию преобразования\n",
    "# строчки в целое число. Получаем список из чисел которые были записаны в исходной строке\n",
    "a = [int(i) for i in input().split()]\n",
    "a"
   ]
  },
  {
   "cell_type": "code",
   "execution_count": 570,
   "metadata": {},
   "outputs": [
    {
     "name": "stdout",
     "output_type": "stream",
     "text": [
      "1 2 3 4 5 6\n",
      "21\n"
     ]
    }
   ],
   "source": [
    "#Напишите программу, на вход которой подается одна строка с целыми числами. Программа должна вывести сумму этих чисел.\n",
    "#Используйте метод split строки\n",
    "a = [int(i) for i in input().split()]\n",
    "print(sum(a))\n"
   ]
  },
  {
   "cell_type": "code",
   "execution_count": 569,
   "metadata": {},
   "outputs": [
    {
     "name": "stdout",
     "output_type": "stream",
     "text": [
      "1 2 3 4 5 6\n",
      "21\n"
     ]
    }
   ],
   "source": [
    "a = [int(i) for i in input().split()]\n",
    "count = 0\n",
    "for i in a: \n",
    "    count+=i\n",
    "print(count)    "
   ]
  },
  {
   "cell_type": "code",
   "execution_count": 580,
   "metadata": {},
   "outputs": [
    {
     "name": "stdout",
     "output_type": "stream",
     "text": [
      "1 3 5 6 10\n",
      "13 6 9 15 7 "
     ]
    }
   ],
   "source": [
    "#Напишите программу, на вход которой подаётся список чисел одной строкой. Программа должна для каждого элемента этого\n",
    "#списка вывести сумму двух его соседей. Для элементов списка, являющихся крайними, одним из соседей считается элемент, \n",
    "#находящий на противоположном конце этого списка. Например, если на вход подаётся список \"1 3 5 6 10\", \n",
    "#то на выход ожидается список \"13 6 9 15 7\" (без кавычек).\n",
    "\n",
    "#Если на вход пришло только одно число, надо вывести его же.\n",
    "\n",
    "#Вывод должен содержать одну строку с числами нового списка, разделёнными пробелом.\n",
    "\n",
    "a = [int(i) for i in input().split()]\n",
    "b = []\n",
    "i = 0\n",
    "if len(a) <= 1:\n",
    "    b = a\n",
    "else:\n",
    "    while i < len(a) - 1:\n",
    "        b.append(a[i - 1] + a[i + 1])\n",
    "        i += 1\n",
    "    b.append(a[0] + a[-2])\n",
    "for j in b:\n",
    "    print (j, end= \" \")  "
   ]
  },
  {
   "cell_type": "code",
   "execution_count": 581,
   "metadata": {},
   "outputs": [
    {
     "name": "stdout",
     "output_type": "stream",
     "text": [
      "1 3 5 6 10\n",
      "13 6 9 15 7 "
     ]
    }
   ],
   "source": [
    "a = [int(i) for i in input().split()]\n",
    "if len(a) == 1:\n",
    "    print(a[0])\n",
    "else:\n",
    "    b = [a[-1]]+a+[a[0]]\n",
    "    for i in range(len(a)):\n",
    "        print(b[i]+b[i+2], end=' ')\n"
   ]
  },
  {
   "cell_type": "code",
   "execution_count": 582,
   "metadata": {},
   "outputs": [
    {
     "name": "stdout",
     "output_type": "stream",
     "text": [
      "1 3 5 6 10\n",
      "13 6 9 15 7 "
     ]
    }
   ],
   "source": [
    "a = [int(i) for i in input().split()]\n",
    "b = []\n",
    "i = 0\n",
    "while i < len(a):\n",
    "    if len(a) == 1:\n",
    "        b.append(a[i])\n",
    "        break\n",
    "    elif i == len(a)-1:\n",
    "        b.append(a[i-1]+a[0])\n",
    "    else:\n",
    "        b.append(a[i-1] + a[i+1])\n",
    "    i += 1\n",
    "for i in b:\n",
    "    print(i, end=' ')"
   ]
  },
  {
   "cell_type": "code",
   "execution_count": null,
   "metadata": {},
   "outputs": [],
   "source": []
  }
 ],
 "metadata": {
  "kernelspec": {
   "display_name": "Python 3",
   "language": "python",
   "name": "python3"
  },
  "language_info": {
   "codemirror_mode": {
    "name": "ipython",
    "version": 3
   },
   "file_extension": ".py",
   "mimetype": "text/x-python",
   "name": "python",
   "nbconvert_exporter": "python",
   "pygments_lexer": "ipython3",
   "version": "3.8.5"
  }
 },
 "nbformat": 4,
 "nbformat_minor": 4
}
