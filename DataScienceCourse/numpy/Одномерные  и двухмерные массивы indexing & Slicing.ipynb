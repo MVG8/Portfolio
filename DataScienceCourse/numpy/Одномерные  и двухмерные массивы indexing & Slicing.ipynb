{
 "cells": [
  {
   "cell_type": "markdown",
   "metadata": {},
   "source": [
    "1.Создайте массив , состоящий из 10 случайных целых чисел из диапазона от 1 до 20, затем создайте массив состоящий из 5 элементов, начиная со 2 по порядку. Выведите значения обоих массивов при помощи функции print()"
   ]
  },
  {
   "cell_type": "code",
   "execution_count": 1,
   "metadata": {},
   "outputs": [],
   "source": [
    "import numpy as np"
   ]
  },
  {
   "cell_type": "code",
   "execution_count": 7,
   "metadata": {},
   "outputs": [
    {
     "data": {
      "text/plain": [
       "array([10, 15,  5,  2, 16, 14, 15,  9,  2, 14])"
      ]
     },
     "execution_count": 7,
     "metadata": {},
     "output_type": "execute_result"
    }
   ],
   "source": [
    "arr = np.random.randint(1, 21, 10)\n",
    "arr"
   ]
  },
  {
   "cell_type": "code",
   "execution_count": 9,
   "metadata": {},
   "outputs": [
    {
     "name": "stdout",
     "output_type": "stream",
     "text": [
      "[10 15  5  2 16 14 15  9  2 14]\n",
      "[15  5  2 16 14]\n"
     ]
    }
   ],
   "source": [
    "new_arr = arr[1:6]\n",
    "print(arr)\n",
    "print(new_arr)"
   ]
  },
  {
   "cell_type": "markdown",
   "metadata": {},
   "source": [
    "2.Создайте массив , состоящий из 10 случайных целых чисел из диапазона от 0 до 20, затем создайте массив состоящий из элементов, начиная с третьего по порядку до последнего. Выведите значения обоих массивов при помощи функции print()"
   ]
  },
  {
   "cell_type": "code",
   "execution_count": 11,
   "metadata": {},
   "outputs": [
    {
     "name": "stdout",
     "output_type": "stream",
     "text": [
      "[18 13  6 18  7 15 16  4 17  2]\n",
      "[ 6 18  7 15 16  4 17  2]\n"
     ]
    }
   ],
   "source": [
    "arr = np.random.randint(0, 21, 10)\n",
    "new_arr = arr[2:]\n",
    "print(arr)\n",
    "print(new_arr)"
   ]
  },
  {
   "cell_type": "markdown",
   "metadata": {},
   "source": [
    "3.Создайте двумерный массив , состоящий из случайных целых чисел из диапазона от 3 до 11, в котором 4 строки и 3 столбца. Затем создайте массив состоящий из элементов , второй и третьей строки и первого и второго столбца по порядку. Выведите значения обоих массивов при помощи функции print()"
   ]
  },
  {
   "cell_type": "code",
   "execution_count": 20,
   "metadata": {},
   "outputs": [
    {
     "data": {
      "text/plain": [
       "array([[11, 11,  3],\n",
       "       [ 8, 10,  9],\n",
       "       [ 6,  4,  6],\n",
       "       [10,  7,  9]])"
      ]
     },
     "execution_count": 20,
     "metadata": {},
     "output_type": "execute_result"
    }
   ],
   "source": [
    "two_dim_arr = np.random.randint(3, 12, 12).reshape(4, 3)\n",
    "two_dim_arr"
   ]
  },
  {
   "cell_type": "code",
   "execution_count": 24,
   "metadata": {},
   "outputs": [
    {
     "name": "stdout",
     "output_type": "stream",
     "text": [
      "[[11 11  3]\n",
      " [ 8 10  9]\n",
      " [ 6  4  6]\n",
      " [10  7  9]]\n",
      "[[ 8 10]\n",
      " [ 6  4]]\n"
     ]
    }
   ],
   "source": [
    "new_two_dim_arr = two_dim_arr[1:3, :2]\n",
    "new_two_dim_arr\n",
    "print(two_dim_arr)\n",
    "print(new_two_dim_arr)"
   ]
  },
  {
   "cell_type": "markdown",
   "metadata": {},
   "source": [
    "4.Создайте двумерный массив , состоящий из случайных целых чисел из диапазона от 0 до 9, в котором 4 строки и 6 столбцов. Затем создайте массив состоящий из элементов , которые больше числа 3. Выведите значения обоих массивов при помощи функции print()"
   ]
  },
  {
   "cell_type": "code",
   "execution_count": 30,
   "metadata": {},
   "outputs": [
    {
     "name": "stdout",
     "output_type": "stream",
     "text": [
      "[[6 8 0 8 4 7]\n",
      " [8 7 8 4 1 8]\n",
      " [5 0 4 3 8 2]\n",
      " [2 0 0 8 4 7]]\n",
      "[6 8 8 4 7 8 7 8 4 8 5 4 8 8 4 7]\n"
     ]
    }
   ],
   "source": [
    "two_dim_arr = np.random.randint(0, 10, 24).reshape(4, 6)\n",
    "new_two_dim_arr = two_dim_arr[two_dim_arr > 3] \n",
    "print(two_dim_arr)\n",
    "print(new_two_dim_arr)\n"
   ]
  },
  {
   "cell_type": "markdown",
   "metadata": {},
   "source": [
    "ОПЕРАЦИИ c массивами"
   ]
  },
  {
   "cell_type": "markdown",
   "metadata": {},
   "source": [
    "1.Создайте массив , состоящий из 10 случайных целых чисел из диапазона от 1 до 20,\n",
    "затем создайте массив состоящий из 10 элементов, начиная с 2. Выведите значения этих массивов,\n",
    "а также их сумму, при помощи функции print()"
   ]
  },
  {
   "cell_type": "code",
   "execution_count": 36,
   "metadata": {},
   "outputs": [
    {
     "name": "stdout",
     "output_type": "stream",
     "text": [
      "[ 3 19 11  1  8 20 10 18 14 11]\n",
      "[ 2  3  4  5  6  7  8  9 10 11]\n",
      "[ 5 22 15  6 14 27 18 27 24 22]\n"
     ]
    }
   ],
   "source": [
    "arr = np.random.randint(1, 21, 10)\n",
    "new_arr = np.arange(2, 12)\n",
    "print(arr)\n",
    "print(new_arr)\n",
    "print(arr + new_arr)"
   ]
  },
  {
   "cell_type": "markdown",
   "metadata": {},
   "source": [
    "2.Создайте массив , состоящий из 7 случайных целых чисел из диапазона от 0 до 9, затем создайте новый массив состоящий из 7 элементов первого массива, увеличенных в 3 раза. Выведите значения этих массивов при помощи функции print()"
   ]
  },
  {
   "cell_type": "code",
   "execution_count": 38,
   "metadata": {},
   "outputs": [
    {
     "name": "stdout",
     "output_type": "stream",
     "text": [
      "[2 6 2 3 9 1 5]\n",
      "[ 6 18  6  9 27  3 15]\n"
     ]
    }
   ],
   "source": [
    "arr = np.random.randint(0, 10, 7)\n",
    "new_arr = arr * 3\n",
    "print(arr)\n",
    "print(new_arr)"
   ]
  },
  {
   "cell_type": "markdown",
   "metadata": {},
   "source": [
    "3.Создайте массив состоящий из квадратных корней 20 элементов по порядку, начиная с 7.\n",
    "Выведите значение массива при помощи функции print()"
   ]
  },
  {
   "cell_type": "code",
   "execution_count": 39,
   "metadata": {},
   "outputs": [
    {
     "name": "stdout",
     "output_type": "stream",
     "text": [
      "[2.64575131 2.82842712 3.         3.16227766 3.31662479 3.46410162\n",
      " 3.60555128 3.74165739 3.87298335 4.         4.12310563 4.24264069\n",
      " 4.35889894 4.47213595 4.58257569 4.69041576 4.79583152 4.89897949\n",
      " 5.         5.09901951]\n"
     ]
    }
   ],
   "source": [
    "arr = np.sqrt(np.arange(7, 27))\n",
    "\n",
    "print(arr)"
   ]
  }
 ],
 "metadata": {
  "kernelspec": {
   "display_name": "Python 3",
   "language": "python",
   "name": "python3"
  },
  "language_info": {
   "codemirror_mode": {
    "name": "ipython",
    "version": 3
   },
   "file_extension": ".py",
   "mimetype": "text/x-python",
   "name": "python",
   "nbconvert_exporter": "python",
   "pygments_lexer": "ipython3",
   "version": "3.8.5"
  }
 },
 "nbformat": 4,
 "nbformat_minor": 4
}
